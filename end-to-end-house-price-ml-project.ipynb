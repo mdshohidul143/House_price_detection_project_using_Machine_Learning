{
 "cells": [
  {
   "cell_type": "code",
   "execution_count": 1,
   "id": "5440b9f5",
   "metadata": {
    "_cell_guid": "b1076dfc-b9ad-4769-8c92-a6c4dae69d19",
    "_uuid": "8f2839f25d086af736a60e9eeb907d3b93b6e0e5",
    "execution": {
     "iopub.execute_input": "2023-09-08T08:44:02.445770Z",
     "iopub.status.busy": "2023-09-08T08:44:02.445404Z",
     "iopub.status.idle": "2023-09-08T08:44:04.164122Z",
     "shell.execute_reply": "2023-09-08T08:44:04.162706Z"
    },
    "papermill": {
     "duration": 1.747316,
     "end_time": "2023-09-08T08:44:04.166218",
     "exception": false,
     "start_time": "2023-09-08T08:44:02.418902",
     "status": "completed"
    },
    "tags": []
   },
   "outputs": [
    {
     "name": "stderr",
     "output_type": "stream",
     "text": [
      "/opt/conda/lib/python3.10/site-packages/scipy/__init__.py:146: UserWarning: A NumPy version >=1.16.5 and <1.23.0 is required for this version of SciPy (detected version 1.23.5\n",
      "  warnings.warn(f\"A NumPy version >={np_minversion} and <{np_maxversion}\"\n"
     ]
    },
    {
     "name": "stdout",
     "output_type": "stream",
     "text": [
      "/kaggle/input/house-price/house_prices.csv\n"
     ]
    }
   ],
   "source": [
    "#Import Library\n",
    "import pandas as pd\n",
    "import numpy as np\n",
    "from matplotlib import pyplot as plt\n",
    "import seaborn as sns\n",
    "import warnings\n",
    "\n",
    "import os\n",
    "for dirname, _, filenames in os.walk('/kaggle/input'):\n",
    "    for filename in filenames:\n",
    "        print(os.path.join(dirname, filename))"
   ]
  },
  {
   "cell_type": "code",
   "execution_count": 2,
   "id": "f553e111",
   "metadata": {
    "execution": {
     "iopub.execute_input": "2023-09-08T08:44:04.218824Z",
     "iopub.status.busy": "2023-09-08T08:44:04.218417Z",
     "iopub.status.idle": "2023-09-08T08:44:06.490800Z",
     "shell.execute_reply": "2023-09-08T08:44:06.489773Z"
    },
    "papermill": {
     "duration": 2.301545,
     "end_time": "2023-09-08T08:44:06.493193",
     "exception": false,
     "start_time": "2023-09-08T08:44:04.191648",
     "status": "completed"
    },
    "tags": []
   },
   "outputs": [],
   "source": [
    "df1 = pd.read_csv(\"/kaggle/input/house-price/house_prices.csv\")"
   ]
  },
  {
   "cell_type": "code",
   "execution_count": 3,
   "id": "4fd09e42",
   "metadata": {
    "execution": {
     "iopub.execute_input": "2023-09-08T08:44:06.546529Z",
     "iopub.status.busy": "2023-09-08T08:44:06.545025Z",
     "iopub.status.idle": "2023-09-08T08:44:06.550262Z",
     "shell.execute_reply": "2023-09-08T08:44:06.549344Z"
    },
    "papermill": {
     "duration": 0.032402,
     "end_time": "2023-09-08T08:44:06.552430",
     "exception": false,
     "start_time": "2023-09-08T08:44:06.520028",
     "status": "completed"
    },
    "tags": []
   },
   "outputs": [],
   "source": [
    "# To show the all columns\n",
    "pd.set_option(\"display.max_columns\", 2000)\n",
    "pd.set_option(\"display.max_rows\", 85)"
   ]
  },
  {
   "cell_type": "code",
   "execution_count": 4,
   "id": "ba8386b8",
   "metadata": {
    "execution": {
     "iopub.execute_input": "2023-09-08T08:44:06.602062Z",
     "iopub.status.busy": "2023-09-08T08:44:06.601775Z",
     "iopub.status.idle": "2023-09-08T08:44:06.629737Z",
     "shell.execute_reply": "2023-09-08T08:44:06.628740Z"
    },
    "papermill": {
     "duration": 0.055775,
     "end_time": "2023-09-08T08:44:06.632491",
     "exception": false,
     "start_time": "2023-09-08T08:44:06.576716",
     "status": "completed"
    },
    "tags": []
   },
   "outputs": [
    {
     "data": {
      "text/html": [
       "<div>\n",
       "<style scoped>\n",
       "    .dataframe tbody tr th:only-of-type {\n",
       "        vertical-align: middle;\n",
       "    }\n",
       "\n",
       "    .dataframe tbody tr th {\n",
       "        vertical-align: top;\n",
       "    }\n",
       "\n",
       "    .dataframe thead th {\n",
       "        text-align: right;\n",
       "    }\n",
       "</style>\n",
       "<table border=\"1\" class=\"dataframe\">\n",
       "  <thead>\n",
       "    <tr style=\"text-align: right;\">\n",
       "      <th></th>\n",
       "      <th>Index</th>\n",
       "      <th>Title</th>\n",
       "      <th>Description</th>\n",
       "      <th>Amount(in rupees)</th>\n",
       "      <th>Price (in rupees)</th>\n",
       "      <th>location</th>\n",
       "      <th>Carpet Area</th>\n",
       "      <th>Status</th>\n",
       "      <th>Floor</th>\n",
       "      <th>Transaction</th>\n",
       "      <th>Furnishing</th>\n",
       "      <th>facing</th>\n",
       "      <th>overlooking</th>\n",
       "      <th>Society</th>\n",
       "      <th>Bathroom</th>\n",
       "      <th>Balcony</th>\n",
       "      <th>Car Parking</th>\n",
       "      <th>Ownership</th>\n",
       "      <th>Super Area</th>\n",
       "      <th>Dimensions</th>\n",
       "      <th>Plot Area</th>\n",
       "    </tr>\n",
       "  </thead>\n",
       "  <tbody>\n",
       "    <tr>\n",
       "      <th>0</th>\n",
       "      <td>0</td>\n",
       "      <td>1 BHK Ready to Occupy Flat for sale in Srushti...</td>\n",
       "      <td>Bhiwandi, Thane has an attractive 1 BHK Flat f...</td>\n",
       "      <td>42 Lac</td>\n",
       "      <td>6000.0</td>\n",
       "      <td>thane</td>\n",
       "      <td>500 sqft</td>\n",
       "      <td>Ready to Move</td>\n",
       "      <td>10 out of 11</td>\n",
       "      <td>Resale</td>\n",
       "      <td>Unfurnished</td>\n",
       "      <td>NaN</td>\n",
       "      <td>NaN</td>\n",
       "      <td>Srushti Siddhi Mangal Murti Complex</td>\n",
       "      <td>1</td>\n",
       "      <td>2</td>\n",
       "      <td>NaN</td>\n",
       "      <td>NaN</td>\n",
       "      <td>NaN</td>\n",
       "      <td>NaN</td>\n",
       "      <td>NaN</td>\n",
       "    </tr>\n",
       "    <tr>\n",
       "      <th>1</th>\n",
       "      <td>1</td>\n",
       "      <td>2 BHK Ready to Occupy Flat for sale in Dosti V...</td>\n",
       "      <td>One can find this stunning 2 BHK flat for sale...</td>\n",
       "      <td>98 Lac</td>\n",
       "      <td>13799.0</td>\n",
       "      <td>thane</td>\n",
       "      <td>473 sqft</td>\n",
       "      <td>Ready to Move</td>\n",
       "      <td>3 out of 22</td>\n",
       "      <td>Resale</td>\n",
       "      <td>Semi-Furnished</td>\n",
       "      <td>East</td>\n",
       "      <td>Garden/Park</td>\n",
       "      <td>Dosti Vihar</td>\n",
       "      <td>2</td>\n",
       "      <td>NaN</td>\n",
       "      <td>1 Open</td>\n",
       "      <td>Freehold</td>\n",
       "      <td>NaN</td>\n",
       "      <td>NaN</td>\n",
       "      <td>NaN</td>\n",
       "    </tr>\n",
       "    <tr>\n",
       "      <th>2</th>\n",
       "      <td>2</td>\n",
       "      <td>2 BHK Ready to Occupy Flat for sale in Sunrise...</td>\n",
       "      <td>Up for immediate sale is a 2 BHK apartment in ...</td>\n",
       "      <td>1.40 Cr</td>\n",
       "      <td>17500.0</td>\n",
       "      <td>thane</td>\n",
       "      <td>779 sqft</td>\n",
       "      <td>Ready to Move</td>\n",
       "      <td>10 out of 29</td>\n",
       "      <td>Resale</td>\n",
       "      <td>Unfurnished</td>\n",
       "      <td>East</td>\n",
       "      <td>Garden/Park</td>\n",
       "      <td>Sunrise by Kalpataru</td>\n",
       "      <td>2</td>\n",
       "      <td>NaN</td>\n",
       "      <td>1 Covered</td>\n",
       "      <td>Freehold</td>\n",
       "      <td>NaN</td>\n",
       "      <td>NaN</td>\n",
       "      <td>NaN</td>\n",
       "    </tr>\n",
       "    <tr>\n",
       "      <th>3</th>\n",
       "      <td>3</td>\n",
       "      <td>1 BHK Ready to Occupy Flat for sale Kasheli</td>\n",
       "      <td>This beautiful 1 BHK Flat is available for sal...</td>\n",
       "      <td>25 Lac</td>\n",
       "      <td>NaN</td>\n",
       "      <td>thane</td>\n",
       "      <td>530 sqft</td>\n",
       "      <td>Ready to Move</td>\n",
       "      <td>1 out of 3</td>\n",
       "      <td>Resale</td>\n",
       "      <td>Unfurnished</td>\n",
       "      <td>NaN</td>\n",
       "      <td>NaN</td>\n",
       "      <td>NaN</td>\n",
       "      <td>1</td>\n",
       "      <td>1</td>\n",
       "      <td>NaN</td>\n",
       "      <td>NaN</td>\n",
       "      <td>NaN</td>\n",
       "      <td>NaN</td>\n",
       "      <td>NaN</td>\n",
       "    </tr>\n",
       "    <tr>\n",
       "      <th>4</th>\n",
       "      <td>4</td>\n",
       "      <td>2 BHK Ready to Occupy Flat for sale in TenX Ha...</td>\n",
       "      <td>This lovely 2 BHK Flat in Pokhran Road, Thane ...</td>\n",
       "      <td>1.60 Cr</td>\n",
       "      <td>18824.0</td>\n",
       "      <td>thane</td>\n",
       "      <td>635 sqft</td>\n",
       "      <td>Ready to Move</td>\n",
       "      <td>20 out of 42</td>\n",
       "      <td>Resale</td>\n",
       "      <td>Unfurnished</td>\n",
       "      <td>West</td>\n",
       "      <td>Garden/Park, Main Road</td>\n",
       "      <td>TenX Habitat Raymond Realty</td>\n",
       "      <td>2</td>\n",
       "      <td>NaN</td>\n",
       "      <td>1 Covered</td>\n",
       "      <td>Co-operative Society</td>\n",
       "      <td>NaN</td>\n",
       "      <td>NaN</td>\n",
       "      <td>NaN</td>\n",
       "    </tr>\n",
       "  </tbody>\n",
       "</table>\n",
       "</div>"
      ],
      "text/plain": [
       "   Index                                              Title  \\\n",
       "0      0  1 BHK Ready to Occupy Flat for sale in Srushti...   \n",
       "1      1  2 BHK Ready to Occupy Flat for sale in Dosti V...   \n",
       "2      2  2 BHK Ready to Occupy Flat for sale in Sunrise...   \n",
       "3      3        1 BHK Ready to Occupy Flat for sale Kasheli   \n",
       "4      4  2 BHK Ready to Occupy Flat for sale in TenX Ha...   \n",
       "\n",
       "                                         Description Amount(in rupees)  \\\n",
       "0  Bhiwandi, Thane has an attractive 1 BHK Flat f...           42 Lac    \n",
       "1  One can find this stunning 2 BHK flat for sale...           98 Lac    \n",
       "2  Up for immediate sale is a 2 BHK apartment in ...          1.40 Cr    \n",
       "3  This beautiful 1 BHK Flat is available for sal...           25 Lac    \n",
       "4  This lovely 2 BHK Flat in Pokhran Road, Thane ...          1.60 Cr    \n",
       "\n",
       "   Price (in rupees) location Carpet Area         Status         Floor  \\\n",
       "0             6000.0    thane    500 sqft  Ready to Move  10 out of 11   \n",
       "1            13799.0    thane    473 sqft  Ready to Move   3 out of 22   \n",
       "2            17500.0    thane    779 sqft  Ready to Move  10 out of 29   \n",
       "3                NaN    thane    530 sqft  Ready to Move    1 out of 3   \n",
       "4            18824.0    thane    635 sqft  Ready to Move  20 out of 42   \n",
       "\n",
       "  Transaction      Furnishing facing             overlooking  \\\n",
       "0      Resale     Unfurnished    NaN                     NaN   \n",
       "1      Resale  Semi-Furnished   East             Garden/Park   \n",
       "2      Resale     Unfurnished   East             Garden/Park   \n",
       "3      Resale     Unfurnished    NaN                     NaN   \n",
       "4      Resale     Unfurnished   West  Garden/Park, Main Road   \n",
       "\n",
       "                               Society Bathroom Balcony Car Parking  \\\n",
       "0  Srushti Siddhi Mangal Murti Complex        1       2         NaN   \n",
       "1                          Dosti Vihar        2     NaN      1 Open   \n",
       "2                 Sunrise by Kalpataru        2     NaN   1 Covered   \n",
       "3                                  NaN        1       1         NaN   \n",
       "4          TenX Habitat Raymond Realty        2     NaN   1 Covered   \n",
       "\n",
       "              Ownership Super Area  Dimensions  Plot Area  \n",
       "0                   NaN        NaN         NaN        NaN  \n",
       "1              Freehold        NaN         NaN        NaN  \n",
       "2              Freehold        NaN         NaN        NaN  \n",
       "3                   NaN        NaN         NaN        NaN  \n",
       "4  Co-operative Society        NaN         NaN        NaN  "
      ]
     },
     "execution_count": 4,
     "metadata": {},
     "output_type": "execute_result"
    }
   ],
   "source": [
    "df1.head()"
   ]
  },
  {
   "cell_type": "markdown",
   "id": "80678ac1",
   "metadata": {
    "papermill": {
     "duration": 0.024477,
     "end_time": "2023-09-08T08:44:06.681645",
     "exception": false,
     "start_time": "2023-09-08T08:44:06.657168",
     "status": "completed"
    },
    "tags": []
   },
   "source": [
    "# Get The Brief Information of The Data"
   ]
  },
  {
   "cell_type": "code",
   "execution_count": 5,
   "id": "e6d7995e",
   "metadata": {
    "execution": {
     "iopub.execute_input": "2023-09-08T08:44:06.773573Z",
     "iopub.status.busy": "2023-09-08T08:44:06.773212Z",
     "iopub.status.idle": "2023-09-08T08:44:07.044247Z",
     "shell.execute_reply": "2023-09-08T08:44:07.042354Z"
    },
    "papermill": {
     "duration": 0.301377,
     "end_time": "2023-09-08T08:44:07.049040",
     "exception": false,
     "start_time": "2023-09-08T08:44:06.747663",
     "status": "completed"
    },
    "tags": []
   },
   "outputs": [
    {
     "name": "stdout",
     "output_type": "stream",
     "text": [
      "<class 'pandas.core.frame.DataFrame'>\n",
      "RangeIndex: 187531 entries, 0 to 187530\n",
      "Data columns (total 21 columns):\n",
      " #   Column             Non-Null Count   Dtype  \n",
      "---  ------             --------------   -----  \n",
      " 0   Index              187531 non-null  int64  \n",
      " 1   Title              187531 non-null  object \n",
      " 2   Description        184508 non-null  object \n",
      " 3   Amount(in rupees)  187531 non-null  object \n",
      " 4   Price (in rupees)  169866 non-null  float64\n",
      " 5   location           187531 non-null  object \n",
      " 6   Carpet Area        106858 non-null  object \n",
      " 7   Status             186916 non-null  object \n",
      " 8   Floor              180454 non-null  object \n",
      " 9   Transaction        187448 non-null  object \n",
      " 10  Furnishing         184634 non-null  object \n",
      " 11  facing             117298 non-null  object \n",
      " 12  overlooking        106095 non-null  object \n",
      " 13  Society            77853 non-null   object \n",
      " 14  Bathroom           186703 non-null  object \n",
      " 15  Balcony            138596 non-null  object \n",
      " 16  Car Parking        84174 non-null   object \n",
      " 17  Ownership          122014 non-null  object \n",
      " 18  Super Area         79846 non-null   object \n",
      " 19  Dimensions         0 non-null       float64\n",
      " 20  Plot Area          0 non-null       float64\n",
      "dtypes: float64(3), int64(1), object(17)\n",
      "memory usage: 30.0+ MB\n"
     ]
    }
   ],
   "source": [
    "df1.info()"
   ]
  },
  {
   "cell_type": "code",
   "execution_count": 6,
   "id": "ede728f5",
   "metadata": {
    "execution": {
     "iopub.execute_input": "2023-09-08T08:44:07.127217Z",
     "iopub.status.busy": "2023-09-08T08:44:07.126892Z",
     "iopub.status.idle": "2023-09-08T08:44:07.133662Z",
     "shell.execute_reply": "2023-09-08T08:44:07.132646Z"
    },
    "papermill": {
     "duration": 0.035769,
     "end_time": "2023-09-08T08:44:07.136861",
     "exception": false,
     "start_time": "2023-09-08T08:44:07.101092",
     "status": "completed"
    },
    "tags": []
   },
   "outputs": [
    {
     "name": "stdout",
     "output_type": "stream",
     "text": [
      "total number of integer features : 1\n",
      "Integer features names: ['Index']\n"
     ]
    }
   ],
   "source": [
    "int_features = df1.select_dtypes(include=[\"int64\"]).columns\n",
    "print(\"total number of integer features :\", int_features.shape[0])\n",
    "\n",
    "print(\"Integer features names:\", int_features.tolist())"
   ]
  },
  {
   "cell_type": "code",
   "execution_count": 7,
   "id": "9c46b28f",
   "metadata": {
    "execution": {
     "iopub.execute_input": "2023-09-08T08:44:07.186802Z",
     "iopub.status.busy": "2023-09-08T08:44:07.186536Z",
     "iopub.status.idle": "2023-09-08T08:44:07.194502Z",
     "shell.execute_reply": "2023-09-08T08:44:07.193459Z"
    },
    "papermill": {
     "duration": 0.035459,
     "end_time": "2023-09-08T08:44:07.196712",
     "exception": false,
     "start_time": "2023-09-08T08:44:07.161253",
     "status": "completed"
    },
    "tags": []
   },
   "outputs": [
    {
     "name": "stdout",
     "output_type": "stream",
     "text": [
      "total number of float features : 3\n",
      "float features names: ['Price (in rupees)', 'Dimensions', 'Plot Area']\n"
     ]
    }
   ],
   "source": [
    "float_features = df1.select_dtypes(include=[\"float64\"]).columns\n",
    "print(\"total number of float features :\", float_features.shape[0])\n",
    "\n",
    "print(\"float features names:\", float_features.tolist())"
   ]
  },
  {
   "cell_type": "code",
   "execution_count": 8,
   "id": "a56c188d",
   "metadata": {
    "execution": {
     "iopub.execute_input": "2023-09-08T08:44:07.286824Z",
     "iopub.status.busy": "2023-09-08T08:44:07.286341Z",
     "iopub.status.idle": "2023-09-08T08:44:07.337327Z",
     "shell.execute_reply": "2023-09-08T08:44:07.336075Z"
    },
    "papermill": {
     "duration": 0.106772,
     "end_time": "2023-09-08T08:44:07.342738",
     "exception": false,
     "start_time": "2023-09-08T08:44:07.235966",
     "status": "completed"
    },
    "tags": []
   },
   "outputs": [
    {
     "name": "stdout",
     "output_type": "stream",
     "text": [
      "total number of Catgorical features : 17\n",
      "catgorical features names: ['Title', 'Description', 'Amount(in rupees)', 'location', 'Carpet Area', 'Status', 'Floor', 'Transaction', 'Furnishing', 'facing', 'overlooking', 'Society', 'Bathroom', 'Balcony', 'Car Parking', 'Ownership', 'Super Area']\n"
     ]
    }
   ],
   "source": [
    "cat_features = df1.select_dtypes(include=[\"object\"]).columns\n",
    "print(\"total number of Catgorical features :\", cat_features.shape[0])\n",
    "\n",
    "print(\"catgorical features names:\", cat_features.tolist())"
   ]
  },
  {
   "cell_type": "markdown",
   "id": "f2dfd454",
   "metadata": {
    "papermill": {
     "duration": 0.035753,
     "end_time": "2023-09-08T08:44:07.420917",
     "exception": false,
     "start_time": "2023-09-08T08:44:07.385164",
     "status": "completed"
    },
    "tags": []
   },
   "source": [
    "## Get The Statistical Information of Numerical Features"
   ]
  },
  {
   "cell_type": "code",
   "execution_count": 9,
   "id": "25415e58",
   "metadata": {
    "execution": {
     "iopub.execute_input": "2023-09-08T08:44:07.480557Z",
     "iopub.status.busy": "2023-09-08T08:44:07.480189Z",
     "iopub.status.idle": "2023-09-08T08:44:07.585262Z",
     "shell.execute_reply": "2023-09-08T08:44:07.584203Z"
    },
    "papermill": {
     "duration": 0.134844,
     "end_time": "2023-09-08T08:44:07.588186",
     "exception": false,
     "start_time": "2023-09-08T08:44:07.453342",
     "status": "completed"
    },
    "tags": []
   },
   "outputs": [
    {
     "data": {
      "text/html": [
       "<div>\n",
       "<style scoped>\n",
       "    .dataframe tbody tr th:only-of-type {\n",
       "        vertical-align: middle;\n",
       "    }\n",
       "\n",
       "    .dataframe tbody tr th {\n",
       "        vertical-align: top;\n",
       "    }\n",
       "\n",
       "    .dataframe thead th {\n",
       "        text-align: right;\n",
       "    }\n",
       "</style>\n",
       "<table border=\"1\" class=\"dataframe\">\n",
       "  <thead>\n",
       "    <tr style=\"text-align: right;\">\n",
       "      <th></th>\n",
       "      <th>count</th>\n",
       "      <th>mean</th>\n",
       "      <th>std</th>\n",
       "      <th>min</th>\n",
       "      <th>25%</th>\n",
       "      <th>50%</th>\n",
       "      <th>75%</th>\n",
       "      <th>max</th>\n",
       "    </tr>\n",
       "  </thead>\n",
       "  <tbody>\n",
       "    <tr>\n",
       "      <th>Index</th>\n",
       "      <td>187531.0</td>\n",
       "      <td>93765.000000</td>\n",
       "      <td>54135.681003</td>\n",
       "      <td>0.0</td>\n",
       "      <td>46882.5</td>\n",
       "      <td>93765.0</td>\n",
       "      <td>140647.5</td>\n",
       "      <td>187530.0</td>\n",
       "    </tr>\n",
       "    <tr>\n",
       "      <th>Price (in rupees)</th>\n",
       "      <td>169866.0</td>\n",
       "      <td>7583.771885</td>\n",
       "      <td>27241.705819</td>\n",
       "      <td>0.0</td>\n",
       "      <td>4297.0</td>\n",
       "      <td>6034.0</td>\n",
       "      <td>9450.0</td>\n",
       "      <td>6700000.0</td>\n",
       "    </tr>\n",
       "    <tr>\n",
       "      <th>Dimensions</th>\n",
       "      <td>0.0</td>\n",
       "      <td>NaN</td>\n",
       "      <td>NaN</td>\n",
       "      <td>NaN</td>\n",
       "      <td>NaN</td>\n",
       "      <td>NaN</td>\n",
       "      <td>NaN</td>\n",
       "      <td>NaN</td>\n",
       "    </tr>\n",
       "    <tr>\n",
       "      <th>Plot Area</th>\n",
       "      <td>0.0</td>\n",
       "      <td>NaN</td>\n",
       "      <td>NaN</td>\n",
       "      <td>NaN</td>\n",
       "      <td>NaN</td>\n",
       "      <td>NaN</td>\n",
       "      <td>NaN</td>\n",
       "      <td>NaN</td>\n",
       "    </tr>\n",
       "  </tbody>\n",
       "</table>\n",
       "</div>"
      ],
      "text/plain": [
       "                      count          mean           std  min      25%  \\\n",
       "Index              187531.0  93765.000000  54135.681003  0.0  46882.5   \n",
       "Price (in rupees)  169866.0   7583.771885  27241.705819  0.0   4297.0   \n",
       "Dimensions              0.0           NaN           NaN  NaN      NaN   \n",
       "Plot Area               0.0           NaN           NaN  NaN      NaN   \n",
       "\n",
       "                       50%       75%        max  \n",
       "Index              93765.0  140647.5   187530.0  \n",
       "Price (in rupees)   6034.0    9450.0  6700000.0  \n",
       "Dimensions             NaN       NaN        NaN  \n",
       "Plot Area              NaN       NaN        NaN  "
      ]
     },
     "execution_count": 9,
     "metadata": {},
     "output_type": "execute_result"
    }
   ],
   "source": [
    "df1.describe().T"
   ]
  },
  {
   "cell_type": "code",
   "execution_count": 10,
   "id": "7cfb8546",
   "metadata": {
    "execution": {
     "iopub.execute_input": "2023-09-08T08:44:07.640729Z",
     "iopub.status.busy": "2023-09-08T08:44:07.640412Z",
     "iopub.status.idle": "2023-09-08T08:44:07.672047Z",
     "shell.execute_reply": "2023-09-08T08:44:07.671022Z"
    },
    "papermill": {
     "duration": 0.059645,
     "end_time": "2023-09-08T08:44:07.674078",
     "exception": false,
     "start_time": "2023-09-08T08:44:07.614433",
     "status": "completed"
    },
    "tags": []
   },
   "outputs": [
    {
     "data": {
      "text/plain": [
       "(8, 4)"
      ]
     },
     "execution_count": 10,
     "metadata": {},
     "output_type": "execute_result"
    }
   ],
   "source": [
    "df1.describe().shape"
   ]
  },
  {
   "cell_type": "markdown",
   "id": "6eba38e5",
   "metadata": {
    "papermill": {
     "duration": 0.036362,
     "end_time": "2023-09-08T08:44:07.749094",
     "exception": false,
     "start_time": "2023-09-08T08:44:07.712732",
     "status": "completed"
    },
    "tags": []
   },
   "source": [
    "## Handling Missing Value"
   ]
  },
  {
   "cell_type": "markdown",
   "id": "39d1c4b5",
   "metadata": {
    "papermill": {
     "duration": 0.024925,
     "end_time": "2023-09-08T08:44:07.799158",
     "exception": false,
     "start_time": "2023-09-08T08:44:07.774233",
     "status": "completed"
    },
    "tags": []
   },
   "source": [
    "## Visualise null/Missing Value"
   ]
  },
  {
   "cell_type": "code",
   "execution_count": 11,
   "id": "c443d45d",
   "metadata": {
    "execution": {
     "iopub.execute_input": "2023-09-08T08:44:07.850445Z",
     "iopub.status.busy": "2023-09-08T08:44:07.850103Z",
     "iopub.status.idle": "2023-09-08T08:44:13.565963Z",
     "shell.execute_reply": "2023-09-08T08:44:13.565086Z"
    },
    "papermill": {
     "duration": 5.745235,
     "end_time": "2023-09-08T08:44:13.569374",
     "exception": false,
     "start_time": "2023-09-08T08:44:07.824139",
     "status": "completed"
    },
    "tags": []
   },
   "outputs": [
    {
     "data": {
      "text/plain": [
       "<Axes: >"
      ]
     },
     "execution_count": 11,
     "metadata": {},
     "output_type": "execute_result"
    },
    {
     "data": {
      "image/png": "[encoded data removed]",
      "text/plain": [
       "<Figure size 1600x900 with 2 Axes>"
      ]
     },
     "metadata": {},
     "output_type": "display_data"
    }
   ],
   "source": [
    "plt.figure(figsize=(16,9))\n",
    "sns.heatmap(df1.isnull())"
   ]
  },
  {
   "cell_type": "markdown",
   "id": "68cf5192",
   "metadata": {
    "papermill": {
     "duration": 0.026936,
     "end_time": "2023-09-08T08:44:13.623982",
     "exception": false,
     "start_time": "2023-09-08T08:44:13.597046",
     "status": "completed"
    },
    "tags": []
   },
   "source": [
    "### Get the null value percentage for every feature"
   ]
  },
  {
   "cell_type": "code",
   "execution_count": 12,
   "id": "aa2038b0",
   "metadata": {
    "execution": {
     "iopub.execute_input": "2023-09-08T08:44:13.678566Z",
     "iopub.status.busy": "2023-09-08T08:44:13.678233Z",
     "iopub.status.idle": "2023-09-08T08:44:13.932958Z",
     "shell.execute_reply": "2023-09-08T08:44:13.931740Z"
    },
    "papermill": {
     "duration": 0.285174,
     "end_time": "2023-09-08T08:44:13.935829",
     "exception": false,
     "start_time": "2023-09-08T08:44:13.650655",
     "status": "completed"
    },
    "tags": []
   },
   "outputs": [
    {
     "data": {
      "text/plain": [
       "Index                     0\n",
       "Title                     0\n",
       "Description            3023\n",
       "Amount(in rupees)         0\n",
       "Price (in rupees)     17665\n",
       "location                  0\n",
       "Carpet Area           80673\n",
       "Status                  615\n",
       "Floor                  7077\n",
       "Transaction              83\n",
       "Furnishing             2897\n",
       "facing                70233\n",
       "overlooking           81436\n",
       "Society              109678\n",
       "Bathroom                828\n",
       "Balcony               48935\n",
       "Car Parking          103357\n",
       "Ownership             65517\n",
       "Super Area           107685\n",
       "Dimensions           187531\n",
       "Plot Area            187531\n",
       "dtype: int64"
      ]
     },
     "execution_count": 12,
     "metadata": {},
     "output_type": "execute_result"
    }
   ],
   "source": [
    "null_count = df1.isnull().sum()\n",
    "null_count"
   ]
  },
  {
   "cell_type": "code",
   "execution_count": 13,
   "id": "511aaaf9",
   "metadata": {
    "execution": {
     "iopub.execute_input": "2023-09-08T08:44:13.992000Z",
     "iopub.status.busy": "2023-09-08T08:44:13.991050Z",
     "iopub.status.idle": "2023-09-08T08:44:14.247812Z",
     "shell.execute_reply": "2023-09-08T08:44:14.246760Z"
    },
    "papermill": {
     "duration": 0.287106,
     "end_time": "2023-09-08T08:44:14.250506",
     "exception": false,
     "start_time": "2023-09-08T08:44:13.963400",
     "status": "completed"
    },
    "tags": []
   },
   "outputs": [
    {
     "data": {
      "text/plain": [
       "Index                  0.000000\n",
       "Title                  0.000000\n",
       "Description            1.612000\n",
       "Amount(in rupees)      0.000000\n",
       "Price (in rupees)      9.419776\n",
       "location               0.000000\n",
       "Carpet Area           43.018488\n",
       "Status                 0.327946\n",
       "Floor                  3.773776\n",
       "Transaction            0.044259\n",
       "Furnishing             1.544811\n",
       "facing                37.451408\n",
       "overlooking           43.425354\n",
       "Society               58.485264\n",
       "Bathroom               0.441527\n",
       "Balcony               26.094352\n",
       "Car Parking           55.114621\n",
       "Ownership             34.936624\n",
       "Super Area            57.422506\n",
       "Dimensions           100.000000\n",
       "Plot Area            100.000000\n",
       "dtype: float64"
      ]
     },
     "execution_count": 13,
     "metadata": {},
     "output_type": "execute_result"
    }
   ],
   "source": [
    "null_percent = df1.isnull().sum()/df1.shape[0] * 100\n",
    "null_percent"
   ]
  },
  {
   "cell_type": "code",
   "execution_count": 14,
   "id": "f9753cb4",
   "metadata": {
    "execution": {
     "iopub.execute_input": "2023-09-08T08:44:14.307069Z",
     "iopub.status.busy": "2023-09-08T08:44:14.306137Z",
     "iopub.status.idle": "2023-09-08T08:44:14.312613Z",
     "shell.execute_reply": "2023-09-08T08:44:14.311631Z"
    },
    "papermill": {
     "duration": 0.0367,
     "end_time": "2023-09-08T08:44:14.314687",
     "exception": false,
     "start_time": "2023-09-08T08:44:14.277987",
     "status": "completed"
    },
    "tags": []
   },
   "outputs": [
    {
     "data": {
      "text/plain": [
       "(187531, 21)"
      ]
     },
     "execution_count": 14,
     "metadata": {},
     "output_type": "execute_result"
    }
   ],
   "source": [
    "df1.shape"
   ]
  },
  {
   "cell_type": "code",
   "execution_count": 15,
   "id": "bb10cfd2",
   "metadata": {
    "execution": {
     "iopub.execute_input": "2023-09-08T08:44:14.370183Z",
     "iopub.status.busy": "2023-09-08T08:44:14.369243Z",
     "iopub.status.idle": "2023-09-08T08:44:14.411340Z",
     "shell.execute_reply": "2023-09-08T08:44:14.410439Z"
    },
    "papermill": {
     "duration": 0.072031,
     "end_time": "2023-09-08T08:44:14.413582",
     "exception": false,
     "start_time": "2023-09-08T08:44:14.341551",
     "status": "completed"
    },
    "tags": []
   },
   "outputs": [],
   "source": [
    "#Set index as Index column\n",
    "df2 = df1.set_index('Index')"
   ]
  },
  {
   "cell_type": "markdown",
   "id": "74e07a96",
   "metadata": {
    "papermill": {
     "duration": 0.026829,
     "end_time": "2023-09-08T08:44:14.467927",
     "exception": false,
     "start_time": "2023-09-08T08:44:14.441098",
     "status": "completed"
    },
    "tags": []
   },
   "source": [
    "## Drop columns/feature\n"
   ]
  },
  {
   "cell_type": "code",
   "execution_count": 16,
   "id": "501df3ed",
   "metadata": {
    "execution": {
     "iopub.execute_input": "2023-09-08T08:44:14.524143Z",
     "iopub.status.busy": "2023-09-08T08:44:14.523195Z",
     "iopub.status.idle": "2023-09-08T08:44:14.530875Z",
     "shell.execute_reply": "2023-09-08T08:44:14.530184Z"
    },
    "papermill": {
     "duration": 0.037778,
     "end_time": "2023-09-08T08:44:14.532703",
     "exception": false,
     "start_time": "2023-09-08T08:44:14.494925",
     "status": "completed"
    },
    "tags": []
   },
   "outputs": [
    {
     "data": {
      "text/plain": [
       "Society         58.485264\n",
       "Car Parking     55.114621\n",
       "Super Area      57.422506\n",
       "Dimensions     100.000000\n",
       "Plot Area      100.000000\n",
       "dtype: float64"
      ]
     },
     "execution_count": 16,
     "metadata": {},
     "output_type": "execute_result"
    }
   ],
   "source": [
    "miss_value_50_perc = null_percent[null_percent > 50]\n",
    "miss_value_50_perc"
   ]
  },
  {
   "cell_type": "code",
   "execution_count": 17,
   "id": "d93c456a",
   "metadata": {
    "execution": {
     "iopub.execute_input": "2023-09-08T08:44:14.590103Z",
     "iopub.status.busy": "2023-09-08T08:44:14.589195Z",
     "iopub.status.idle": "2023-09-08T08:44:14.624787Z",
     "shell.execute_reply": "2023-09-08T08:44:14.623920Z"
    },
    "papermill": {
     "duration": 0.066315,
     "end_time": "2023-09-08T08:44:14.627042",
     "exception": false,
     "start_time": "2023-09-08T08:44:14.560727",
     "status": "completed"
    },
    "tags": []
   },
   "outputs": [],
   "source": [
    "df2 = df2.drop(['Plot Area', 'Car Parking','Dimensions','Balcony','Super Area','Title','Society','Description','Status'],axis='columns')\n"
   ]
  },
  {
   "cell_type": "code",
   "execution_count": 18,
   "id": "35f166ec",
   "metadata": {
    "execution": {
     "iopub.execute_input": "2023-09-08T08:44:14.682764Z",
     "iopub.status.busy": "2023-09-08T08:44:14.682486Z",
     "iopub.status.idle": "2023-09-08T08:44:14.698822Z",
     "shell.execute_reply": "2023-09-08T08:44:14.697950Z"
    },
    "papermill": {
     "duration": 0.046418,
     "end_time": "2023-09-08T08:44:14.700886",
     "exception": false,
     "start_time": "2023-09-08T08:44:14.654468",
     "status": "completed"
    },
    "tags": []
   },
   "outputs": [
    {
     "data": {
      "text/html": [
       "<div>\n",
       "<style scoped>\n",
       "    .dataframe tbody tr th:only-of-type {\n",
       "        vertical-align: middle;\n",
       "    }\n",
       "\n",
       "    .dataframe tbody tr th {\n",
       "        vertical-align: top;\n",
       "    }\n",
       "\n",
       "    .dataframe thead th {\n",
       "        text-align: right;\n",
       "    }\n",
       "</style>\n",
       "<table border=\"1\" class=\"dataframe\">\n",
       "  <thead>\n",
       "    <tr style=\"text-align: right;\">\n",
       "      <th></th>\n",
       "      <th>Amount(in rupees)</th>\n",
       "      <th>Price (in rupees)</th>\n",
       "      <th>location</th>\n",
       "      <th>Carpet Area</th>\n",
       "      <th>Floor</th>\n",
       "      <th>Transaction</th>\n",
       "      <th>Furnishing</th>\n",
       "      <th>facing</th>\n",
       "      <th>overlooking</th>\n",
       "      <th>Bathroom</th>\n",
       "      <th>Ownership</th>\n",
       "    </tr>\n",
       "    <tr>\n",
       "      <th>Index</th>\n",
       "      <th></th>\n",
       "      <th></th>\n",
       "      <th></th>\n",
       "      <th></th>\n",
       "      <th></th>\n",
       "      <th></th>\n",
       "      <th></th>\n",
       "      <th></th>\n",
       "      <th></th>\n",
       "      <th></th>\n",
       "      <th></th>\n",
       "    </tr>\n",
       "  </thead>\n",
       "  <tbody>\n",
       "    <tr>\n",
       "      <th>0</th>\n",
       "      <td>42 Lac</td>\n",
       "      <td>6000.0</td>\n",
       "      <td>thane</td>\n",
       "      <td>500 sqft</td>\n",
       "      <td>10 out of 11</td>\n",
       "      <td>Resale</td>\n",
       "      <td>Unfurnished</td>\n",
       "      <td>NaN</td>\n",
       "      <td>NaN</td>\n",
       "      <td>1</td>\n",
       "      <td>NaN</td>\n",
       "    </tr>\n",
       "    <tr>\n",
       "      <th>1</th>\n",
       "      <td>98 Lac</td>\n",
       "      <td>13799.0</td>\n",
       "      <td>thane</td>\n",
       "      <td>473 sqft</td>\n",
       "      <td>3 out of 22</td>\n",
       "      <td>Resale</td>\n",
       "      <td>Semi-Furnished</td>\n",
       "      <td>East</td>\n",
       "      <td>Garden/Park</td>\n",
       "      <td>2</td>\n",
       "      <td>Freehold</td>\n",
       "    </tr>\n",
       "    <tr>\n",
       "      <th>2</th>\n",
       "      <td>1.40 Cr</td>\n",
       "      <td>17500.0</td>\n",
       "      <td>thane</td>\n",
       "      <td>779 sqft</td>\n",
       "      <td>10 out of 29</td>\n",
       "      <td>Resale</td>\n",
       "      <td>Unfurnished</td>\n",
       "      <td>East</td>\n",
       "      <td>Garden/Park</td>\n",
       "      <td>2</td>\n",
       "      <td>Freehold</td>\n",
       "    </tr>\n",
       "    <tr>\n",
       "      <th>3</th>\n",
       "      <td>25 Lac</td>\n",
       "      <td>NaN</td>\n",
       "      <td>thane</td>\n",
       "      <td>530 sqft</td>\n",
       "      <td>1 out of 3</td>\n",
       "      <td>Resale</td>\n",
       "      <td>Unfurnished</td>\n",
       "      <td>NaN</td>\n",
       "      <td>NaN</td>\n",
       "      <td>1</td>\n",
       "      <td>NaN</td>\n",
       "    </tr>\n",
       "    <tr>\n",
       "      <th>4</th>\n",
       "      <td>1.60 Cr</td>\n",
       "      <td>18824.0</td>\n",
       "      <td>thane</td>\n",
       "      <td>635 sqft</td>\n",
       "      <td>20 out of 42</td>\n",
       "      <td>Resale</td>\n",
       "      <td>Unfurnished</td>\n",
       "      <td>West</td>\n",
       "      <td>Garden/Park, Main Road</td>\n",
       "      <td>2</td>\n",
       "      <td>Co-operative Society</td>\n",
       "    </tr>\n",
       "  </tbody>\n",
       "</table>\n",
       "</div>"
      ],
      "text/plain": [
       "      Amount(in rupees)  Price (in rupees) location Carpet Area         Floor  \\\n",
       "Index                                                                           \n",
       "0               42 Lac              6000.0    thane    500 sqft  10 out of 11   \n",
       "1               98 Lac             13799.0    thane    473 sqft   3 out of 22   \n",
       "2              1.40 Cr             17500.0    thane    779 sqft  10 out of 29   \n",
       "3               25 Lac                 NaN    thane    530 sqft    1 out of 3   \n",
       "4              1.60 Cr             18824.0    thane    635 sqft  20 out of 42   \n",
       "\n",
       "      Transaction      Furnishing facing             overlooking Bathroom  \\\n",
       "Index                                                                       \n",
       "0          Resale     Unfurnished    NaN                     NaN        1   \n",
       "1          Resale  Semi-Furnished   East             Garden/Park        2   \n",
       "2          Resale     Unfurnished   East             Garden/Park        2   \n",
       "3          Resale     Unfurnished    NaN                     NaN        1   \n",
       "4          Resale     Unfurnished   West  Garden/Park, Main Road        2   \n",
       "\n",
       "                  Ownership  \n",
       "Index                        \n",
       "0                       NaN  \n",
       "1                  Freehold  \n",
       "2                  Freehold  \n",
       "3                       NaN  \n",
       "4      Co-operative Society  "
      ]
     },
     "execution_count": 18,
     "metadata": {},
     "output_type": "execute_result"
    }
   ],
   "source": [
    "df2.head()"
   ]
  },
  {
   "cell_type": "markdown",
   "id": "5c487791",
   "metadata": {
    "papermill": {
     "duration": 0.027068,
     "end_time": "2023-09-08T08:44:14.756416",
     "exception": false,
     "start_time": "2023-09-08T08:44:14.729348",
     "status": "completed"
    },
    "tags": []
   },
   "source": [
    "### Handling ...Amount(in rupees)\tcolumn"
   ]
  },
  {
   "cell_type": "code",
   "execution_count": 19,
   "id": "a86ee4e4",
   "metadata": {
    "execution": {
     "iopub.execute_input": "2023-09-08T08:44:14.813226Z",
     "iopub.status.busy": "2023-09-08T08:44:14.812407Z",
     "iopub.status.idle": "2023-09-08T08:44:15.037636Z",
     "shell.execute_reply": "2023-09-08T08:44:15.036675Z"
    },
    "papermill": {
     "duration": 0.256234,
     "end_time": "2023-09-08T08:44:15.040181",
     "exception": false,
     "start_time": "2023-09-08T08:44:14.783947",
     "status": "completed"
    },
    "tags": []
   },
   "outputs": [],
   "source": [
    "def convert_amount(amount_str):\n",
    "    try:\n",
    "        # Split the string to check for units like 'Lac' or 'Cr'\n",
    "        parts = amount_str.split()\n",
    "        amount = float(parts[0])  # Extract the numeric part\n",
    "\n",
    "        # Check for units and convert to rupees\n",
    "        if len(parts) > 1:\n",
    "            unit = parts[1].strip()\n",
    "            if unit == 'Lac':\n",
    "                amount *= 100000  # Convert Lac to rupees (1 Lac = 100000 rupees)\n",
    "            elif unit == 'Cr':\n",
    "                amount *= 10000000  # Convert Cr to rupees (1 Cr = 10000000 rupees)\n",
    "\n",
    "        return amount\n",
    "    except (ValueError, IndexError):\n",
    "        return None\n",
    "\n",
    "# Example usage:\n",
    "df2['Amount(in rupees)'] = df2['Amount(in rupees)'].apply(convert_amount)"
   ]
  },
  {
   "cell_type": "code",
   "execution_count": 20,
   "id": "01a7ca4e",
   "metadata": {
    "execution": {
     "iopub.execute_input": "2023-09-08T08:44:15.098672Z",
     "iopub.status.busy": "2023-09-08T08:44:15.097648Z",
     "iopub.status.idle": "2023-09-08T08:44:15.106102Z",
     "shell.execute_reply": "2023-09-08T08:44:15.105156Z"
    },
    "papermill": {
     "duration": 0.039517,
     "end_time": "2023-09-08T08:44:15.108085",
     "exception": false,
     "start_time": "2023-09-08T08:44:15.068568",
     "status": "completed"
    },
    "tags": []
   },
   "outputs": [
    {
     "data": {
      "text/plain": [
       "Index\n",
       "0     4200000.0\n",
       "1     9800000.0\n",
       "2    14000000.0\n",
       "3     2500000.0\n",
       "4    16000000.0\n",
       "5     4500000.0\n",
       "6     1650000.0\n",
       "7     6000000.0\n",
       "8     6000000.0\n",
       "9    16000000.0\n",
       "Name: Amount(in rupees), dtype: float64"
      ]
     },
     "execution_count": 20,
     "metadata": {},
     "output_type": "execute_result"
    }
   ],
   "source": [
    "df2['Amount(in rupees)'].head(10)"
   ]
  },
  {
   "cell_type": "markdown",
   "id": "3bcedd56",
   "metadata": {
    "papermill": {
     "duration": 0.027842,
     "end_time": "2023-09-08T08:44:15.166259",
     "exception": false,
     "start_time": "2023-09-08T08:44:15.138417",
     "status": "completed"
    },
    "tags": []
   },
   "source": [
    "### Handling Carpet Area culumn"
   ]
  },
  {
   "cell_type": "code",
   "execution_count": 21,
   "id": "03669fd5",
   "metadata": {
    "execution": {
     "iopub.execute_input": "2023-09-08T08:44:15.223598Z",
     "iopub.status.busy": "2023-09-08T08:44:15.223226Z",
     "iopub.status.idle": "2023-09-08T08:44:15.561765Z",
     "shell.execute_reply": "2023-09-08T08:44:15.560723Z"
    },
    "papermill": {
     "duration": 0.370611,
     "end_time": "2023-09-08T08:44:15.564418",
     "exception": false,
     "start_time": "2023-09-08T08:44:15.193807",
     "status": "completed"
    },
    "tags": []
   },
   "outputs": [],
   "source": [
    "def convert_to_sqft(area):\n",
    "    try:\n",
    "        if pd.notnull(area):\n",
    "            if 'sqft' in area:\n",
    "                area = float(area.replace(' sqft', ''))\n",
    "            else:\n",
    "                area = float(area.replace(' sqm', '')) * 10.7639  # Convert square meters to square feet\n",
    "            return area\n",
    "    except ValueError:\n",
    "        return np.nan\n",
    "\n",
    "# Apply the conversion function to 'Carpet Area' column\n",
    "df2['Carpet Area'] = df2['Carpet Area'].apply(convert_to_sqft)"
   ]
  },
  {
   "cell_type": "code",
   "execution_count": 22,
   "id": "ff4897c4",
   "metadata": {
    "execution": {
     "iopub.execute_input": "2023-09-08T08:44:15.626097Z",
     "iopub.status.busy": "2023-09-08T08:44:15.625756Z",
     "iopub.status.idle": "2023-09-08T08:44:15.642747Z",
     "shell.execute_reply": "2023-09-08T08:44:15.641609Z"
    },
    "papermill": {
     "duration": 0.050961,
     "end_time": "2023-09-08T08:44:15.645276",
     "exception": false,
     "start_time": "2023-09-08T08:44:15.594315",
     "status": "completed"
    },
    "tags": []
   },
   "outputs": [
    {
     "data": {
      "text/html": [
       "<div>\n",
       "<style scoped>\n",
       "    .dataframe tbody tr th:only-of-type {\n",
       "        vertical-align: middle;\n",
       "    }\n",
       "\n",
       "    .dataframe tbody tr th {\n",
       "        vertical-align: top;\n",
       "    }\n",
       "\n",
       "    .dataframe thead th {\n",
       "        text-align: right;\n",
       "    }\n",
       "</style>\n",
       "<table border=\"1\" class=\"dataframe\">\n",
       "  <thead>\n",
       "    <tr style=\"text-align: right;\">\n",
       "      <th></th>\n",
       "      <th>Amount(in rupees)</th>\n",
       "      <th>Price (in rupees)</th>\n",
       "      <th>location</th>\n",
       "      <th>Carpet Area</th>\n",
       "      <th>Floor</th>\n",
       "      <th>Transaction</th>\n",
       "      <th>Furnishing</th>\n",
       "      <th>facing</th>\n",
       "      <th>overlooking</th>\n",
       "      <th>Bathroom</th>\n",
       "      <th>Ownership</th>\n",
       "    </tr>\n",
       "    <tr>\n",
       "      <th>Index</th>\n",
       "      <th></th>\n",
       "      <th></th>\n",
       "      <th></th>\n",
       "      <th></th>\n",
       "      <th></th>\n",
       "      <th></th>\n",
       "      <th></th>\n",
       "      <th></th>\n",
       "      <th></th>\n",
       "      <th></th>\n",
       "      <th></th>\n",
       "    </tr>\n",
       "  </thead>\n",
       "  <tbody>\n",
       "    <tr>\n",
       "      <th>0</th>\n",
       "      <td>4200000.0</td>\n",
       "      <td>6000.0</td>\n",
       "      <td>thane</td>\n",
       "      <td>500.0</td>\n",
       "      <td>10 out of 11</td>\n",
       "      <td>Resale</td>\n",
       "      <td>Unfurnished</td>\n",
       "      <td>NaN</td>\n",
       "      <td>NaN</td>\n",
       "      <td>1</td>\n",
       "      <td>NaN</td>\n",
       "    </tr>\n",
       "    <tr>\n",
       "      <th>1</th>\n",
       "      <td>9800000.0</td>\n",
       "      <td>13799.0</td>\n",
       "      <td>thane</td>\n",
       "      <td>473.0</td>\n",
       "      <td>3 out of 22</td>\n",
       "      <td>Resale</td>\n",
       "      <td>Semi-Furnished</td>\n",
       "      <td>East</td>\n",
       "      <td>Garden/Park</td>\n",
       "      <td>2</td>\n",
       "      <td>Freehold</td>\n",
       "    </tr>\n",
       "  </tbody>\n",
       "</table>\n",
       "</div>"
      ],
      "text/plain": [
       "       Amount(in rupees)  Price (in rupees) location  Carpet Area  \\\n",
       "Index                                                               \n",
       "0              4200000.0             6000.0    thane        500.0   \n",
       "1              9800000.0            13799.0    thane        473.0   \n",
       "\n",
       "              Floor Transaction      Furnishing facing  overlooking Bathroom  \\\n",
       "Index                                                                          \n",
       "0      10 out of 11      Resale     Unfurnished    NaN          NaN        1   \n",
       "1       3 out of 22      Resale  Semi-Furnished   East  Garden/Park        2   \n",
       "\n",
       "      Ownership  \n",
       "Index            \n",
       "0           NaN  \n",
       "1      Freehold  "
      ]
     },
     "execution_count": 22,
     "metadata": {},
     "output_type": "execute_result"
    }
   ],
   "source": [
    "df2.head(2)"
   ]
  },
  {
   "cell_type": "markdown",
   "id": "c6d40a4e",
   "metadata": {
    "papermill": {
     "duration": 0.029805,
     "end_time": "2023-09-08T08:44:15.707151",
     "exception": false,
     "start_time": "2023-09-08T08:44:15.677346",
     "status": "completed"
    },
    "tags": []
   },
   "source": [
    "## Missing Value Imputation"
   ]
  },
  {
   "cell_type": "code",
   "execution_count": 23,
   "id": "13204c1a",
   "metadata": {
    "execution": {
     "iopub.execute_input": "2023-09-08T08:44:15.765618Z",
     "iopub.status.busy": "2023-09-08T08:44:15.765328Z",
     "iopub.status.idle": "2023-09-08T08:44:15.828964Z",
     "shell.execute_reply": "2023-09-08T08:44:15.827792Z"
    },
    "papermill": {
     "duration": 0.095822,
     "end_time": "2023-09-08T08:44:15.831631",
     "exception": false,
     "start_time": "2023-09-08T08:44:15.735809",
     "status": "completed"
    },
    "tags": []
   },
   "outputs": [
    {
     "data": {
      "text/plain": [
       "<bound method IndexOpsMixin.value_counts of Index\n",
       "0         10 out of 11\n",
       "1          3 out of 22\n",
       "2         10 out of 29\n",
       "3           1 out of 3\n",
       "4         20 out of 42\n",
       "              ...     \n",
       "187526      2 out of 4\n",
       "187527      4 out of 6\n",
       "187528      1 out of 3\n",
       "187529      2 out of 2\n",
       "187530     5 out of 13\n",
       "Name: Floor, Length: 187531, dtype: object>"
      ]
     },
     "execution_count": 23,
     "metadata": {},
     "output_type": "execute_result"
    }
   ],
   "source": [
    "df2_mvi = df2.copy()\n",
    "df2_mvi['Floor'].value_counts"
   ]
  },
  {
   "cell_type": "markdown",
   "id": "827aeb37",
   "metadata": {
    "papermill": {
     "duration": 0.029239,
     "end_time": "2023-09-08T08:44:15.892387",
     "exception": false,
     "start_time": "2023-09-08T08:44:15.863148",
     "status": "completed"
    },
    "tags": []
   },
   "source": [
    "## Missing Value Imputation with Floor"
   ]
  },
  {
   "cell_type": "code",
   "execution_count": 24,
   "id": "b25246b9",
   "metadata": {
    "execution": {
     "iopub.execute_input": "2023-09-08T08:44:15.950847Z",
     "iopub.status.busy": "2023-09-08T08:44:15.949889Z",
     "iopub.status.idle": "2023-09-08T08:44:15.983085Z",
     "shell.execute_reply": "2023-09-08T08:44:15.982169Z"
    },
    "papermill": {
     "duration": 0.064567,
     "end_time": "2023-09-08T08:44:15.985019",
     "exception": false,
     "start_time": "2023-09-08T08:44:15.920452",
     "status": "completed"
    },
    "tags": []
   },
   "outputs": [
    {
     "data": {
      "text/plain": [
       "0    2 out of 4\n",
       "Name: Floor, dtype: object"
      ]
     },
     "execution_count": 24,
     "metadata": {},
     "output_type": "execute_result"
    }
   ],
   "source": [
    "df2_mvi['Floor'].mode()"
   ]
  },
  {
   "cell_type": "code",
   "execution_count": 25,
   "id": "4f9ced06",
   "metadata": {
    "execution": {
     "iopub.execute_input": "2023-09-08T08:44:16.043220Z",
     "iopub.status.busy": "2023-09-08T08:44:16.042429Z",
     "iopub.status.idle": "2023-09-08T08:44:16.123693Z",
     "shell.execute_reply": "2023-09-08T08:44:16.122754Z"
    },
    "papermill": {
     "duration": 0.112229,
     "end_time": "2023-09-08T08:44:16.125647",
     "exception": false,
     "start_time": "2023-09-08T08:44:16.013418",
     "status": "completed"
    },
    "tags": []
   },
   "outputs": [
    {
     "data": {
      "text/plain": [
       "0"
      ]
     },
     "execution_count": 25,
     "metadata": {},
     "output_type": "execute_result"
    }
   ],
   "source": [
    "floor_mode = df2_mvi['Floor'].mode()[0]\n",
    "df2_mvi['Floor'].replace(np.nan, floor_mode, inplace=True)\n",
    "df2_mvi['Floor'].isnull().sum()"
   ]
  },
  {
   "cell_type": "markdown",
   "id": "d513a963",
   "metadata": {
    "papermill": {
     "duration": 0.028243,
     "end_time": "2023-09-08T08:44:16.185897",
     "exception": false,
     "start_time": "2023-09-08T08:44:16.157654",
     "status": "completed"
    },
    "tags": []
   },
   "source": [
    "## Missing Value Imputation with Transaction"
   ]
  },
  {
   "cell_type": "code",
   "execution_count": 26,
   "id": "6dcd043d",
   "metadata": {
    "execution": {
     "iopub.execute_input": "2023-09-08T08:44:16.244832Z",
     "iopub.status.busy": "2023-09-08T08:44:16.244546Z",
     "iopub.status.idle": "2023-09-08T08:44:16.277527Z",
     "shell.execute_reply": "2023-09-08T08:44:16.276638Z"
    },
    "papermill": {
     "duration": 0.06454,
     "end_time": "2023-09-08T08:44:16.279410",
     "exception": false,
     "start_time": "2023-09-08T08:44:16.214870",
     "status": "completed"
    },
    "tags": []
   },
   "outputs": [
    {
     "data": {
      "text/plain": [
       "0    Resale\n",
       "Name: Transaction, dtype: object"
      ]
     },
     "execution_count": 26,
     "metadata": {},
     "output_type": "execute_result"
    }
   ],
   "source": [
    "df2_mvi['Transaction'].mode()"
   ]
  },
  {
   "cell_type": "code",
   "execution_count": 27,
   "id": "40813a9d",
   "metadata": {
    "execution": {
     "iopub.execute_input": "2023-09-08T08:44:16.338780Z",
     "iopub.status.busy": "2023-09-08T08:44:16.338045Z",
     "iopub.status.idle": "2023-09-08T08:44:16.421422Z",
     "shell.execute_reply": "2023-09-08T08:44:16.420199Z"
    },
    "papermill": {
     "duration": 0.11561,
     "end_time": "2023-09-08T08:44:16.423568",
     "exception": false,
     "start_time": "2023-09-08T08:44:16.307958",
     "status": "completed"
    },
    "tags": []
   },
   "outputs": [
    {
     "data": {
      "text/plain": [
       "0"
      ]
     },
     "execution_count": 27,
     "metadata": {},
     "output_type": "execute_result"
    }
   ],
   "source": [
    "transaction_mode = df2_mvi['Transaction'].mode()[0]\n",
    "df2_mvi['Transaction'].replace(np.nan, transaction_mode, inplace=True)\n",
    "df2_mvi['Transaction'].isnull().sum()"
   ]
  },
  {
   "cell_type": "markdown",
   "id": "848cd217",
   "metadata": {
    "papermill": {
     "duration": 0.028325,
     "end_time": "2023-09-08T08:44:16.480922",
     "exception": false,
     "start_time": "2023-09-08T08:44:16.452597",
     "status": "completed"
    },
    "tags": []
   },
   "source": [
    "## Missing Value Imputation with Furnishing"
   ]
  },
  {
   "cell_type": "code",
   "execution_count": 28,
   "id": "831e9b38",
   "metadata": {
    "execution": {
     "iopub.execute_input": "2023-09-08T08:44:16.539543Z",
     "iopub.status.busy": "2023-09-08T08:44:16.539229Z",
     "iopub.status.idle": "2023-09-08T08:44:16.572768Z",
     "shell.execute_reply": "2023-09-08T08:44:16.571881Z"
    },
    "papermill": {
     "duration": 0.065214,
     "end_time": "2023-09-08T08:44:16.574738",
     "exception": false,
     "start_time": "2023-09-08T08:44:16.509524",
     "status": "completed"
    },
    "tags": []
   },
   "outputs": [
    {
     "data": {
      "text/plain": [
       "0    Semi-Furnished\n",
       "Name: Furnishing, dtype: object"
      ]
     },
     "execution_count": 28,
     "metadata": {},
     "output_type": "execute_result"
    }
   ],
   "source": [
    "df2_mvi['Furnishing'].mode()"
   ]
  },
  {
   "cell_type": "code",
   "execution_count": 29,
   "id": "10914f09",
   "metadata": {
    "execution": {
     "iopub.execute_input": "2023-09-08T08:44:16.635428Z",
     "iopub.status.busy": "2023-09-08T08:44:16.634019Z",
     "iopub.status.idle": "2023-09-08T08:44:16.717022Z",
     "shell.execute_reply": "2023-09-08T08:44:16.716183Z"
    },
    "papermill": {
     "duration": 0.115273,
     "end_time": "2023-09-08T08:44:16.718959",
     "exception": false,
     "start_time": "2023-09-08T08:44:16.603686",
     "status": "completed"
    },
    "tags": []
   },
   "outputs": [
    {
     "data": {
      "text/plain": [
       "0"
      ]
     },
     "execution_count": 29,
     "metadata": {},
     "output_type": "execute_result"
    }
   ],
   "source": [
    "furnishing_mode = df2_mvi['Furnishing'].mode()[0]\n",
    "df2_mvi['Furnishing'].replace(np.nan, furnishing_mode, inplace=True)\n",
    "df2_mvi['Furnishing'].isnull().sum()"
   ]
  },
  {
   "cell_type": "markdown",
   "id": "559231f9",
   "metadata": {
    "papermill": {
     "duration": 0.028993,
     "end_time": "2023-09-08T08:44:16.776733",
     "exception": false,
     "start_time": "2023-09-08T08:44:16.747740",
     "status": "completed"
    },
    "tags": []
   },
   "source": [
    "## Missing Value Imputation with Bathroom"
   ]
  },
  {
   "cell_type": "code",
   "execution_count": 30,
   "id": "63661fd8",
   "metadata": {
    "execution": {
     "iopub.execute_input": "2023-09-08T08:44:16.836507Z",
     "iopub.status.busy": "2023-09-08T08:44:16.835645Z",
     "iopub.status.idle": "2023-09-08T08:44:16.852458Z",
     "shell.execute_reply": "2023-09-08T08:44:16.851456Z"
    },
    "papermill": {
     "duration": 0.049008,
     "end_time": "2023-09-08T08:44:16.854575",
     "exception": false,
     "start_time": "2023-09-08T08:44:16.805567",
     "status": "completed"
    },
    "tags": []
   },
   "outputs": [
    {
     "data": {
      "text/plain": [
       "array(['1', '2', '3', '4', '6', nan, '5', '10', '9', '8', '> 10', '7'],\n",
       "      dtype=object)"
      ]
     },
     "execution_count": 30,
     "metadata": {},
     "output_type": "execute_result"
    }
   ],
   "source": [
    "df2_mvi.Bathroom.unique()"
   ]
  },
  {
   "cell_type": "code",
   "execution_count": 31,
   "id": "eb84dda3",
   "metadata": {
    "execution": {
     "iopub.execute_input": "2023-09-08T08:44:16.915635Z",
     "iopub.status.busy": "2023-09-08T08:44:16.914807Z",
     "iopub.status.idle": "2023-09-08T08:44:16.919914Z",
     "shell.execute_reply": "2023-09-08T08:44:16.918930Z"
    },
    "papermill": {
     "duration": 0.037435,
     "end_time": "2023-09-08T08:44:16.922000",
     "exception": false,
     "start_time": "2023-09-08T08:44:16.884565",
     "status": "completed"
    },
    "tags": []
   },
   "outputs": [],
   "source": [
    "def is_float(x):\n",
    "    try:\n",
    "        float(x)\n",
    "    except ValueError:\n",
    "        return False\n",
    "    return True"
   ]
  },
  {
   "cell_type": "code",
   "execution_count": 32,
   "id": "cff4c0d0",
   "metadata": {
    "execution": {
     "iopub.execute_input": "2023-09-08T08:44:16.981653Z",
     "iopub.status.busy": "2023-09-08T08:44:16.980844Z",
     "iopub.status.idle": "2023-09-08T08:44:17.081077Z",
     "shell.execute_reply": "2023-09-08T08:44:17.080099Z"
    },
    "papermill": {
     "duration": 0.132418,
     "end_time": "2023-09-08T08:44:17.083311",
     "exception": false,
     "start_time": "2023-09-08T08:44:16.950893",
     "status": "completed"
    },
    "tags": []
   },
   "outputs": [
    {
     "data": {
      "text/html": [
       "<div>\n",
       "<style scoped>\n",
       "    .dataframe tbody tr th:only-of-type {\n",
       "        vertical-align: middle;\n",
       "    }\n",
       "\n",
       "    .dataframe tbody tr th {\n",
       "        vertical-align: top;\n",
       "    }\n",
       "\n",
       "    .dataframe thead th {\n",
       "        text-align: right;\n",
       "    }\n",
       "</style>\n",
       "<table border=\"1\" class=\"dataframe\">\n",
       "  <thead>\n",
       "    <tr style=\"text-align: right;\">\n",
       "      <th></th>\n",
       "      <th>Amount(in rupees)</th>\n",
       "      <th>Price (in rupees)</th>\n",
       "      <th>location</th>\n",
       "      <th>Carpet Area</th>\n",
       "      <th>Floor</th>\n",
       "      <th>Transaction</th>\n",
       "      <th>Furnishing</th>\n",
       "      <th>facing</th>\n",
       "      <th>overlooking</th>\n",
       "      <th>Bathroom</th>\n",
       "      <th>Ownership</th>\n",
       "    </tr>\n",
       "    <tr>\n",
       "      <th>Index</th>\n",
       "      <th></th>\n",
       "      <th></th>\n",
       "      <th></th>\n",
       "      <th></th>\n",
       "      <th></th>\n",
       "      <th></th>\n",
       "      <th></th>\n",
       "      <th></th>\n",
       "      <th></th>\n",
       "      <th></th>\n",
       "      <th></th>\n",
       "    </tr>\n",
       "  </thead>\n",
       "  <tbody>\n",
       "    <tr>\n",
       "      <th>1967</th>\n",
       "      <td>360000000.0</td>\n",
       "      <td>30000.0</td>\n",
       "      <td>mumbai</td>\n",
       "      <td>NaN</td>\n",
       "      <td>28 out of 28</td>\n",
       "      <td>Resale</td>\n",
       "      <td>Unfurnished</td>\n",
       "      <td>East</td>\n",
       "      <td>Pool, Garden/Park, Main Road</td>\n",
       "      <td>&gt; 10</td>\n",
       "      <td>Freehold</td>\n",
       "    </tr>\n",
       "    <tr>\n",
       "      <th>2314</th>\n",
       "      <td>360000000.0</td>\n",
       "      <td>24000.0</td>\n",
       "      <td>mumbai</td>\n",
       "      <td>NaN</td>\n",
       "      <td>40 out of 40</td>\n",
       "      <td>Resale</td>\n",
       "      <td>Unfurnished</td>\n",
       "      <td>East</td>\n",
       "      <td>Pool, Garden/Park, Main Road</td>\n",
       "      <td>&gt; 10</td>\n",
       "      <td>Freehold</td>\n",
       "    </tr>\n",
       "    <tr>\n",
       "      <th>15424</th>\n",
       "      <td>30000000.0</td>\n",
       "      <td>3750.0</td>\n",
       "      <td>bangalore</td>\n",
       "      <td>NaN</td>\n",
       "      <td>Upper Basement out of 5</td>\n",
       "      <td>Resale</td>\n",
       "      <td>Semi-Furnished</td>\n",
       "      <td>NaN</td>\n",
       "      <td>NaN</td>\n",
       "      <td>&gt; 10</td>\n",
       "      <td>NaN</td>\n",
       "    </tr>\n",
       "    <tr>\n",
       "      <th>16169</th>\n",
       "      <td>115000000.0</td>\n",
       "      <td>14050.0</td>\n",
       "      <td>bangalore</td>\n",
       "      <td>NaN</td>\n",
       "      <td>1 out of 4</td>\n",
       "      <td>New Property</td>\n",
       "      <td>Furnished</td>\n",
       "      <td>North</td>\n",
       "      <td>Main Road</td>\n",
       "      <td>&gt; 10</td>\n",
       "      <td>Freehold</td>\n",
       "    </tr>\n",
       "    <tr>\n",
       "      <th>16200</th>\n",
       "      <td>24000000.0</td>\n",
       "      <td>4000.0</td>\n",
       "      <td>bangalore</td>\n",
       "      <td>NaN</td>\n",
       "      <td>Ground out of 5</td>\n",
       "      <td>Resale</td>\n",
       "      <td>Furnished</td>\n",
       "      <td>South - East</td>\n",
       "      <td>Main Road</td>\n",
       "      <td>&gt; 10</td>\n",
       "      <td>Freehold</td>\n",
       "    </tr>\n",
       "    <tr>\n",
       "      <th>16699</th>\n",
       "      <td>65000000.0</td>\n",
       "      <td>3824.0</td>\n",
       "      <td>bangalore</td>\n",
       "      <td>11000.0</td>\n",
       "      <td>4 out of 4</td>\n",
       "      <td>Resale</td>\n",
       "      <td>Semi-Furnished</td>\n",
       "      <td>East</td>\n",
       "      <td>NaN</td>\n",
       "      <td>&gt; 10</td>\n",
       "      <td>Freehold</td>\n",
       "    </tr>\n",
       "    <tr>\n",
       "      <th>17538</th>\n",
       "      <td>28000000.0</td>\n",
       "      <td>4308.0</td>\n",
       "      <td>bangalore</td>\n",
       "      <td>NaN</td>\n",
       "      <td>Ground out of 5</td>\n",
       "      <td>Resale</td>\n",
       "      <td>Semi-Furnished</td>\n",
       "      <td>NaN</td>\n",
       "      <td>NaN</td>\n",
       "      <td>&gt; 10</td>\n",
       "      <td>NaN</td>\n",
       "    </tr>\n",
       "    <tr>\n",
       "      <th>17562</th>\n",
       "      <td>120000000.0</td>\n",
       "      <td>3333.0</td>\n",
       "      <td>bangalore</td>\n",
       "      <td>NaN</td>\n",
       "      <td>6 out of 6</td>\n",
       "      <td>Resale</td>\n",
       "      <td>Unfurnished</td>\n",
       "      <td>NaN</td>\n",
       "      <td>NaN</td>\n",
       "      <td>&gt; 10</td>\n",
       "      <td>NaN</td>\n",
       "    </tr>\n",
       "    <tr>\n",
       "      <th>40412</th>\n",
       "      <td>70000000.0</td>\n",
       "      <td>11667.0</td>\n",
       "      <td>chennai</td>\n",
       "      <td>4220.0</td>\n",
       "      <td>2 out of 3</td>\n",
       "      <td>Resale</td>\n",
       "      <td>Unfurnished</td>\n",
       "      <td>East</td>\n",
       "      <td>NaN</td>\n",
       "      <td>&gt; 10</td>\n",
       "      <td>Freehold</td>\n",
       "    </tr>\n",
       "    <tr>\n",
       "      <th>40995</th>\n",
       "      <td>65000000.0</td>\n",
       "      <td>7558.0</td>\n",
       "      <td>chennai</td>\n",
       "      <td>NaN</td>\n",
       "      <td>4 out of 4</td>\n",
       "      <td>Resale</td>\n",
       "      <td>Unfurnished</td>\n",
       "      <td>NaN</td>\n",
       "      <td>NaN</td>\n",
       "      <td>&gt; 10</td>\n",
       "      <td>NaN</td>\n",
       "    </tr>\n",
       "  </tbody>\n",
       "</table>\n",
       "</div>"
      ],
      "text/plain": [
       "       Amount(in rupees)  Price (in rupees)   location  Carpet Area  \\\n",
       "Index                                                                 \n",
       "1967         360000000.0            30000.0     mumbai          NaN   \n",
       "2314         360000000.0            24000.0     mumbai          NaN   \n",
       "15424         30000000.0             3750.0  bangalore          NaN   \n",
       "16169        115000000.0            14050.0  bangalore          NaN   \n",
       "16200         24000000.0             4000.0  bangalore          NaN   \n",
       "16699         65000000.0             3824.0  bangalore      11000.0   \n",
       "17538         28000000.0             4308.0  bangalore          NaN   \n",
       "17562        120000000.0             3333.0  bangalore          NaN   \n",
       "40412         70000000.0            11667.0    chennai       4220.0   \n",
       "40995         65000000.0             7558.0    chennai          NaN   \n",
       "\n",
       "                         Floor   Transaction      Furnishing        facing  \\\n",
       "Index                                                                        \n",
       "1967              28 out of 28        Resale     Unfurnished          East   \n",
       "2314              40 out of 40        Resale     Unfurnished          East   \n",
       "15424  Upper Basement out of 5        Resale  Semi-Furnished           NaN   \n",
       "16169               1 out of 4  New Property       Furnished         North   \n",
       "16200          Ground out of 5        Resale       Furnished  South - East   \n",
       "16699               4 out of 4        Resale  Semi-Furnished          East   \n",
       "17538          Ground out of 5        Resale  Semi-Furnished           NaN   \n",
       "17562               6 out of 6        Resale     Unfurnished           NaN   \n",
       "40412               2 out of 3        Resale     Unfurnished          East   \n",
       "40995               4 out of 4        Resale     Unfurnished           NaN   \n",
       "\n",
       "                        overlooking Bathroom Ownership  \n",
       "Index                                                   \n",
       "1967   Pool, Garden/Park, Main Road     > 10  Freehold  \n",
       "2314   Pool, Garden/Park, Main Road     > 10  Freehold  \n",
       "15424                           NaN     > 10       NaN  \n",
       "16169                     Main Road     > 10  Freehold  \n",
       "16200                     Main Road     > 10  Freehold  \n",
       "16699                           NaN     > 10  Freehold  \n",
       "17538                           NaN     > 10       NaN  \n",
       "17562                           NaN     > 10       NaN  \n",
       "40412                           NaN     > 10  Freehold  \n",
       "40995                           NaN     > 10       NaN  "
      ]
     },
     "execution_count": 32,
     "metadata": {},
     "output_type": "execute_result"
    }
   ],
   "source": [
    "df2_mvi[~df2_mvi['Bathroom'].apply(is_float)].head(10)"
   ]
  },
  {
   "cell_type": "code",
   "execution_count": 33,
   "id": "ed81152a",
   "metadata": {
    "execution": {
     "iopub.execute_input": "2023-09-08T08:44:17.146915Z",
     "iopub.status.busy": "2023-09-08T08:44:17.146083Z",
     "iopub.status.idle": "2023-09-08T08:44:17.151927Z",
     "shell.execute_reply": "2023-09-08T08:44:17.151086Z"
    },
    "papermill": {
     "duration": 0.040401,
     "end_time": "2023-09-08T08:44:17.153931",
     "exception": false,
     "start_time": "2023-09-08T08:44:17.113530",
     "status": "completed"
    },
    "tags": []
   },
   "outputs": [],
   "source": [
    "def convert_greaterthan_to_num(area):\n",
    "    try:\n",
    "        if pd.notnull(area):\n",
    "            if '>' in area:\n",
    "                area = float(area.replace('>', ''))\n",
    "            else:\n",
    "                area = float(area.replace(' -', ''))\n",
    "            return area\n",
    "    except ValueError:\n",
    "        return np.nan"
   ]
  },
  {
   "cell_type": "code",
   "execution_count": 34,
   "id": "259ac7a9",
   "metadata": {
    "execution": {
     "iopub.execute_input": "2023-09-08T08:44:17.223261Z",
     "iopub.status.busy": "2023-09-08T08:44:17.222873Z",
     "iopub.status.idle": "2023-09-08T08:44:17.237065Z",
     "shell.execute_reply": "2023-09-08T08:44:17.236215Z"
    },
    "papermill": {
     "duration": 0.05684,
     "end_time": "2023-09-08T08:44:17.240091",
     "exception": false,
     "start_time": "2023-09-08T08:44:17.183251",
     "status": "completed"
    },
    "tags": []
   },
   "outputs": [],
   "source": [
    "df3 = df2_mvi.copy()"
   ]
  },
  {
   "cell_type": "code",
   "execution_count": 35,
   "id": "b912189a",
   "metadata": {
    "execution": {
     "iopub.execute_input": "2023-09-08T08:44:17.335357Z",
     "iopub.status.busy": "2023-09-08T08:44:17.335027Z",
     "iopub.status.idle": "2023-09-08T08:44:17.673034Z",
     "shell.execute_reply": "2023-09-08T08:44:17.671913Z"
    },
    "papermill": {
     "duration": 0.375606,
     "end_time": "2023-09-08T08:44:17.675419",
     "exception": false,
     "start_time": "2023-09-08T08:44:17.299813",
     "status": "completed"
    },
    "tags": []
   },
   "outputs": [],
   "source": [
    "df3['Bathroom'] = df3['Bathroom'].apply(convert_greaterthan_to_num)\n"
   ]
  },
  {
   "cell_type": "code",
   "execution_count": 36,
   "id": "e71e4d40",
   "metadata": {
    "execution": {
     "iopub.execute_input": "2023-09-08T08:44:17.737656Z",
     "iopub.status.busy": "2023-09-08T08:44:17.736143Z",
     "iopub.status.idle": "2023-09-08T08:44:17.742359Z",
     "shell.execute_reply": "2023-09-08T08:44:17.741561Z"
    },
    "papermill": {
     "duration": 0.039004,
     "end_time": "2023-09-08T08:44:17.744427",
     "exception": false,
     "start_time": "2023-09-08T08:44:17.705423",
     "status": "completed"
    },
    "tags": []
   },
   "outputs": [],
   "source": [
    "mean_bathroom = df3['Bathroom'].mean()\n"
   ]
  },
  {
   "cell_type": "code",
   "execution_count": 37,
   "id": "2ab183d2",
   "metadata": {
    "execution": {
     "iopub.execute_input": "2023-09-08T08:44:17.806012Z",
     "iopub.status.busy": "2023-09-08T08:44:17.804580Z",
     "iopub.status.idle": "2023-09-08T08:44:17.814401Z",
     "shell.execute_reply": "2023-09-08T08:44:17.813502Z"
    },
    "papermill": {
     "duration": 0.042077,
     "end_time": "2023-09-08T08:44:17.816381",
     "exception": false,
     "start_time": "2023-09-08T08:44:17.774304",
     "status": "completed"
    },
    "tags": []
   },
   "outputs": [
    {
     "data": {
      "text/plain": [
       "0"
      ]
     },
     "execution_count": 37,
     "metadata": {},
     "output_type": "execute_result"
    }
   ],
   "source": [
    "mean_bathroom = df3['Bathroom'].mean()\n",
    "df3['Bathroom'].replace(np.nan, mean_bathroom, inplace=True)\n",
    "df3['Bathroom'].isnull().sum()"
   ]
  },
  {
   "cell_type": "code",
   "execution_count": 38,
   "id": "378c0d7c",
   "metadata": {
    "execution": {
     "iopub.execute_input": "2023-09-08T08:44:17.877623Z",
     "iopub.status.busy": "2023-09-08T08:44:17.876809Z",
     "iopub.status.idle": "2023-09-08T08:44:17.887162Z",
     "shell.execute_reply": "2023-09-08T08:44:17.886205Z"
    },
    "papermill": {
     "duration": 0.042964,
     "end_time": "2023-09-08T08:44:17.889091",
     "exception": false,
     "start_time": "2023-09-08T08:44:17.846127",
     "status": "completed"
    },
    "tags": []
   },
   "outputs": [
    {
     "data": {
      "text/plain": [
       "Amount(in rupees)         28000000.0\n",
       "Price (in rupees)             4308.0\n",
       "location                   bangalore\n",
       "Carpet Area                      NaN\n",
       "Floor                Ground out of 5\n",
       "Transaction                   Resale\n",
       "Furnishing            Semi-Furnished\n",
       "facing                           NaN\n",
       "overlooking                      NaN\n",
       "Bathroom                        10.0\n",
       "Ownership                        NaN\n",
       "Name: 17538, dtype: object"
      ]
     },
     "execution_count": 38,
     "metadata": {},
     "output_type": "execute_result"
    }
   ],
   "source": [
    "df3.loc[17538] ##convert >10 to 10.0"
   ]
  },
  {
   "cell_type": "markdown",
   "id": "6f02dba5",
   "metadata": {
    "papermill": {
     "duration": 0.029813,
     "end_time": "2023-09-08T08:44:17.949472",
     "exception": false,
     "start_time": "2023-09-08T08:44:17.919659",
     "status": "completed"
    },
    "tags": []
   },
   "source": [
    "### Missing Value Imputation with Amount(in rupees)"
   ]
  },
  {
   "cell_type": "code",
   "execution_count": 39,
   "id": "77d1ac9f",
   "metadata": {
    "execution": {
     "iopub.execute_input": "2023-09-08T08:44:18.010782Z",
     "iopub.status.busy": "2023-09-08T08:44:18.009821Z",
     "iopub.status.idle": "2023-09-08T08:44:18.019137Z",
     "shell.execute_reply": "2023-09-08T08:44:18.018192Z"
    },
    "papermill": {
     "duration": 0.042092,
     "end_time": "2023-09-08T08:44:18.021136",
     "exception": false,
     "start_time": "2023-09-08T08:44:17.979044",
     "status": "completed"
    },
    "tags": []
   },
   "outputs": [
    {
     "data": {
      "text/plain": [
       "0"
      ]
     },
     "execution_count": 39,
     "metadata": {},
     "output_type": "execute_result"
    }
   ],
   "source": [
    "amount_mean = df3['Amount(in rupees)'].mean()\n",
    "df3['Amount(in rupees)'].replace(np.nan, amount_mean, inplace=True)\n",
    "df3['Amount(in rupees)'].isnull().sum()"
   ]
  },
  {
   "cell_type": "markdown",
   "id": "f8879014",
   "metadata": {
    "papermill": {
     "duration": 0.029422,
     "end_time": "2023-09-08T08:44:18.080816",
     "exception": false,
     "start_time": "2023-09-08T08:44:18.051394",
     "status": "completed"
    },
    "tags": []
   },
   "source": [
    "### Missing Value Imputation with Price (in rupees)  "
   ]
  },
  {
   "cell_type": "code",
   "execution_count": 40,
   "id": "d1375ac7",
   "metadata": {
    "execution": {
     "iopub.execute_input": "2023-09-08T08:44:18.143735Z",
     "iopub.status.busy": "2023-09-08T08:44:18.142819Z",
     "iopub.status.idle": "2023-09-08T08:44:18.152331Z",
     "shell.execute_reply": "2023-09-08T08:44:18.151335Z"
    },
    "papermill": {
     "duration": 0.043954,
     "end_time": "2023-09-08T08:44:18.154463",
     "exception": false,
     "start_time": "2023-09-08T08:44:18.110509",
     "status": "completed"
    },
    "tags": []
   },
   "outputs": [
    {
     "data": {
      "text/plain": [
       "0"
      ]
     },
     "execution_count": 40,
     "metadata": {},
     "output_type": "execute_result"
    }
   ],
   "source": [
    "price_mean = df3['Price (in rupees)'].mean()\n",
    "df3['Price (in rupees)'].replace(np.nan, price_mean, inplace=True)\n",
    "df3['Price (in rupees)'].isnull().sum()"
   ]
  },
  {
   "cell_type": "code",
   "execution_count": 41,
   "id": "1a87bf67",
   "metadata": {
    "execution": {
     "iopub.execute_input": "2023-09-08T08:44:18.217244Z",
     "iopub.status.busy": "2023-09-08T08:44:18.216977Z",
     "iopub.status.idle": "2023-09-08T08:44:18.333422Z",
     "shell.execute_reply": "2023-09-08T08:44:18.331872Z"
    },
    "papermill": {
     "duration": 0.149727,
     "end_time": "2023-09-08T08:44:18.335443",
     "exception": false,
     "start_time": "2023-09-08T08:44:18.185716",
     "status": "completed"
    },
    "tags": []
   },
   "outputs": [
    {
     "name": "stdout",
     "output_type": "stream",
     "text": [
      "<class 'pandas.core.frame.DataFrame'>\n",
      "Index: 187531 entries, 0 to 187530\n",
      "Data columns (total 11 columns):\n",
      " #   Column             Non-Null Count   Dtype  \n",
      "---  ------             --------------   -----  \n",
      " 0   Amount(in rupees)  187531 non-null  float64\n",
      " 1   Price (in rupees)  187531 non-null  float64\n",
      " 2   location           187531 non-null  object \n",
      " 3   Carpet Area        101322 non-null  float64\n",
      " 4   Floor              187531 non-null  object \n",
      " 5   Transaction        187531 non-null  object \n",
      " 6   Furnishing         187531 non-null  object \n",
      " 7   facing             117298 non-null  object \n",
      " 8   overlooking        106095 non-null  object \n",
      " 9   Bathroom           187531 non-null  float64\n",
      " 10  Ownership          122014 non-null  object \n",
      "dtypes: float64(4), object(7)\n",
      "memory usage: 21.2+ MB\n"
     ]
    }
   ],
   "source": [
    "#to see information of new data\n",
    "df3.info()"
   ]
  },
  {
   "cell_type": "code",
   "execution_count": 42,
   "id": "83f02a64",
   "metadata": {
    "execution": {
     "iopub.execute_input": "2023-09-08T08:44:18.398355Z",
     "iopub.status.busy": "2023-09-08T08:44:18.397613Z",
     "iopub.status.idle": "2023-09-08T08:44:18.407029Z",
     "shell.execute_reply": "2023-09-08T08:44:18.406181Z"
    },
    "papermill": {
     "duration": 0.042965,
     "end_time": "2023-09-08T08:44:18.409026",
     "exception": false,
     "start_time": "2023-09-08T08:44:18.366061",
     "status": "completed"
    },
    "tags": []
   },
   "outputs": [
    {
     "data": {
      "text/plain": [
       "0"
      ]
     },
     "execution_count": 42,
     "metadata": {},
     "output_type": "execute_result"
    }
   ],
   "source": [
    "carpet_area_mean = df3['Carpet Area'].mean()\n",
    "df3['Carpet Area'].replace(np.nan, carpet_area_mean, inplace=True)\n",
    "df3['Carpet Area'].isnull().sum()"
   ]
  },
  {
   "cell_type": "markdown",
   "id": "d3c81a48",
   "metadata": {
    "papermill": {
     "duration": 0.029751,
     "end_time": "2023-09-08T08:44:18.469326",
     "exception": false,
     "start_time": "2023-09-08T08:44:18.439575",
     "status": "completed"
    },
    "tags": []
   },
   "source": [
    "### Missing Value Imputation with Ownership"
   ]
  },
  {
   "cell_type": "code",
   "execution_count": 43,
   "id": "9c7b2c26",
   "metadata": {
    "execution": {
     "iopub.execute_input": "2023-09-08T08:44:18.531129Z",
     "iopub.status.busy": "2023-09-08T08:44:18.530491Z",
     "iopub.status.idle": "2023-09-08T08:44:18.537671Z",
     "shell.execute_reply": "2023-09-08T08:44:18.536796Z"
    },
    "papermill": {
     "duration": 0.040097,
     "end_time": "2023-09-08T08:44:18.539615",
     "exception": false,
     "start_time": "2023-09-08T08:44:18.499518",
     "status": "completed"
    },
    "tags": []
   },
   "outputs": [
    {
     "data": {
      "text/plain": [
       "<bound method IndexOpsMixin.value_counts of Index\n",
       "0                          NaN\n",
       "1                     Freehold\n",
       "2                     Freehold\n",
       "3                          NaN\n",
       "4         Co-operative Society\n",
       "                  ...         \n",
       "187526                Freehold\n",
       "187527                     NaN\n",
       "187528                Freehold\n",
       "187529                     NaN\n",
       "187530                Freehold\n",
       "Name: Ownership, Length: 187531, dtype: object>"
      ]
     },
     "execution_count": 43,
     "metadata": {},
     "output_type": "execute_result"
    }
   ],
   "source": [
    "df3['Ownership'].value_counts"
   ]
  },
  {
   "cell_type": "code",
   "execution_count": 44,
   "id": "b9d29eec",
   "metadata": {
    "execution": {
     "iopub.execute_input": "2023-09-08T08:44:18.602358Z",
     "iopub.status.busy": "2023-09-08T08:44:18.602012Z",
     "iopub.status.idle": "2023-09-08T08:44:18.610808Z",
     "shell.execute_reply": "2023-09-08T08:44:18.609479Z"
    },
    "papermill": {
     "duration": 0.043349,
     "end_time": "2023-09-08T08:44:18.613150",
     "exception": false,
     "start_time": "2023-09-08T08:44:18.569801",
     "status": "completed"
    },
    "tags": []
   },
   "outputs": [
    {
     "data": {
      "text/plain": [
       "<bound method Series.unique of Index\n",
       "0                          NaN\n",
       "1                     Freehold\n",
       "2                     Freehold\n",
       "3                          NaN\n",
       "4         Co-operative Society\n",
       "                  ...         \n",
       "187526                Freehold\n",
       "187527                     NaN\n",
       "187528                Freehold\n",
       "187529                     NaN\n",
       "187530                Freehold\n",
       "Name: Ownership, Length: 187531, dtype: object>"
      ]
     },
     "execution_count": 44,
     "metadata": {},
     "output_type": "execute_result"
    }
   ],
   "source": [
    "df3['Ownership'].unique"
   ]
  },
  {
   "cell_type": "markdown",
   "id": "939298b6",
   "metadata": {
    "papermill": {
     "duration": 0.030249,
     "end_time": "2023-09-08T08:44:18.676009",
     "exception": false,
     "start_time": "2023-09-08T08:44:18.645760",
     "status": "completed"
    },
    "tags": []
   },
   "source": [
    "### Missing Value Imputation of facing,overlooking,Ownershipwith unknown"
   ]
  },
  {
   "cell_type": "code",
   "execution_count": 45,
   "id": "380a119b",
   "metadata": {
    "execution": {
     "iopub.execute_input": "2023-09-08T08:44:18.739229Z",
     "iopub.status.busy": "2023-09-08T08:44:18.737774Z",
     "iopub.status.idle": "2023-09-08T08:44:18.801932Z",
     "shell.execute_reply": "2023-09-08T08:44:18.801031Z"
    },
    "papermill": {
     "duration": 0.097764,
     "end_time": "2023-09-08T08:44:18.804165",
     "exception": false,
     "start_time": "2023-09-08T08:44:18.706401",
     "status": "completed"
    },
    "tags": []
   },
   "outputs": [],
   "source": [
    "cols_to_fill_unknown = ['facing', 'overlooking', 'Ownership']\n",
    "df3[cols_to_fill_unknown] = df3[cols_to_fill_unknown].fillna('Unknown')"
   ]
  },
  {
   "cell_type": "markdown",
   "id": "db65a46a",
   "metadata": {
    "papermill": {
     "duration": 0.030594,
     "end_time": "2023-09-08T08:44:18.865731",
     "exception": false,
     "start_time": "2023-09-08T08:44:18.835137",
     "status": "completed"
    },
    "tags": []
   },
   "source": [
    "## Feature Engineering"
   ]
  },
  {
   "cell_type": "code",
   "execution_count": 46,
   "id": "bec106f1",
   "metadata": {
    "execution": {
     "iopub.execute_input": "2023-09-08T08:44:18.929426Z",
     "iopub.status.busy": "2023-09-08T08:44:18.928526Z",
     "iopub.status.idle": "2023-09-08T08:44:18.992680Z",
     "shell.execute_reply": "2023-09-08T08:44:18.991756Z"
    },
    "papermill": {
     "duration": 0.098821,
     "end_time": "2023-09-08T08:44:18.995085",
     "exception": false,
     "start_time": "2023-09-08T08:44:18.896264",
     "status": "completed"
    },
    "tags": []
   },
   "outputs": [],
   "source": [
    "df4 = df3.copy()"
   ]
  },
  {
   "cell_type": "code",
   "execution_count": 47,
   "id": "8cdc4ca5",
   "metadata": {
    "execution": {
     "iopub.execute_input": "2023-09-08T08:44:19.058277Z",
     "iopub.status.busy": "2023-09-08T08:44:19.057978Z",
     "iopub.status.idle": "2023-09-08T08:44:19.184198Z",
     "shell.execute_reply": "2023-09-08T08:44:19.182698Z"
    },
    "papermill": {
     "duration": 0.159946,
     "end_time": "2023-09-08T08:44:19.186365",
     "exception": false,
     "start_time": "2023-09-08T08:44:19.026419",
     "status": "completed"
    },
    "tags": []
   },
   "outputs": [
    {
     "name": "stdout",
     "output_type": "stream",
     "text": [
      "<class 'pandas.core.frame.DataFrame'>\n",
      "Index: 187531 entries, 0 to 187530\n",
      "Data columns (total 11 columns):\n",
      " #   Column             Non-Null Count   Dtype  \n",
      "---  ------             --------------   -----  \n",
      " 0   Amount(in rupees)  187531 non-null  float64\n",
      " 1   Price (in rupees)  187531 non-null  float64\n",
      " 2   location           187531 non-null  object \n",
      " 3   Carpet Area        187531 non-null  float64\n",
      " 4   Floor              187531 non-null  object \n",
      " 5   Transaction        187531 non-null  object \n",
      " 6   Furnishing         187531 non-null  object \n",
      " 7   facing             187531 non-null  object \n",
      " 8   overlooking        187531 non-null  object \n",
      " 9   Bathroom           187531 non-null  float64\n",
      " 10  Ownership          187531 non-null  object \n",
      "dtypes: float64(4), object(7)\n",
      "memory usage: 21.2+ MB\n"
     ]
    }
   ],
   "source": [
    "##to see information\n",
    "df4.info()"
   ]
  },
  {
   "cell_type": "code",
   "execution_count": 48,
   "id": "ab56ba86",
   "metadata": {
    "execution": {
     "iopub.execute_input": "2023-09-08T08:44:19.249634Z",
     "iopub.status.busy": "2023-09-08T08:44:19.249345Z",
     "iopub.status.idle": "2023-09-08T08:44:19.263885Z",
     "shell.execute_reply": "2023-09-08T08:44:19.262934Z"
    },
    "papermill": {
     "duration": 0.048345,
     "end_time": "2023-09-08T08:44:19.266032",
     "exception": false,
     "start_time": "2023-09-08T08:44:19.217687",
     "status": "completed"
    },
    "tags": []
   },
   "outputs": [
    {
     "data": {
      "text/html": [
       "<div>\n",
       "<style scoped>\n",
       "    .dataframe tbody tr th:only-of-type {\n",
       "        vertical-align: middle;\n",
       "    }\n",
       "\n",
       "    .dataframe tbody tr th {\n",
       "        vertical-align: top;\n",
       "    }\n",
       "\n",
       "    .dataframe thead th {\n",
       "        text-align: right;\n",
       "    }\n",
       "</style>\n",
       "<table border=\"1\" class=\"dataframe\">\n",
       "  <thead>\n",
       "    <tr style=\"text-align: right;\">\n",
       "      <th></th>\n",
       "      <th>Amount(in rupees)</th>\n",
       "      <th>Price (in rupees)</th>\n",
       "      <th>location</th>\n",
       "      <th>Carpet Area</th>\n",
       "      <th>Floor</th>\n",
       "      <th>Transaction</th>\n",
       "      <th>Furnishing</th>\n",
       "      <th>facing</th>\n",
       "      <th>overlooking</th>\n",
       "      <th>Bathroom</th>\n",
       "      <th>Ownership</th>\n",
       "    </tr>\n",
       "    <tr>\n",
       "      <th>Index</th>\n",
       "      <th></th>\n",
       "      <th></th>\n",
       "      <th></th>\n",
       "      <th></th>\n",
       "      <th></th>\n",
       "      <th></th>\n",
       "      <th></th>\n",
       "      <th></th>\n",
       "      <th></th>\n",
       "      <th></th>\n",
       "      <th></th>\n",
       "    </tr>\n",
       "  </thead>\n",
       "  <tbody>\n",
       "    <tr>\n",
       "      <th>0</th>\n",
       "      <td>4200000.0</td>\n",
       "      <td>6000.0</td>\n",
       "      <td>thane</td>\n",
       "      <td>500.0</td>\n",
       "      <td>10 out of 11</td>\n",
       "      <td>Resale</td>\n",
       "      <td>Unfurnished</td>\n",
       "      <td>Unknown</td>\n",
       "      <td>Unknown</td>\n",
       "      <td>1.0</td>\n",
       "      <td>Unknown</td>\n",
       "    </tr>\n",
       "    <tr>\n",
       "      <th>1</th>\n",
       "      <td>9800000.0</td>\n",
       "      <td>13799.0</td>\n",
       "      <td>thane</td>\n",
       "      <td>473.0</td>\n",
       "      <td>3 out of 22</td>\n",
       "      <td>Resale</td>\n",
       "      <td>Semi-Furnished</td>\n",
       "      <td>East</td>\n",
       "      <td>Garden/Park</td>\n",
       "      <td>2.0</td>\n",
       "      <td>Freehold</td>\n",
       "    </tr>\n",
       "  </tbody>\n",
       "</table>\n",
       "</div>"
      ],
      "text/plain": [
       "       Amount(in rupees)  Price (in rupees) location  Carpet Area  \\\n",
       "Index                                                               \n",
       "0              4200000.0             6000.0    thane        500.0   \n",
       "1              9800000.0            13799.0    thane        473.0   \n",
       "\n",
       "              Floor Transaction      Furnishing   facing  overlooking  \\\n",
       "Index                                                                   \n",
       "0      10 out of 11      Resale     Unfurnished  Unknown      Unknown   \n",
       "1       3 out of 22      Resale  Semi-Furnished     East  Garden/Park   \n",
       "\n",
       "       Bathroom Ownership  \n",
       "Index                      \n",
       "0           1.0   Unknown  \n",
       "1           2.0  Freehold  "
      ]
     },
     "execution_count": 48,
     "metadata": {},
     "output_type": "execute_result"
    }
   ],
   "source": [
    "df4.head(2)"
   ]
  },
  {
   "cell_type": "code",
   "execution_count": 49,
   "id": "c52b95e0",
   "metadata": {
    "execution": {
     "iopub.execute_input": "2023-09-08T08:44:19.329202Z",
     "iopub.status.busy": "2023-09-08T08:44:19.328932Z",
     "iopub.status.idle": "2023-09-08T08:44:19.333873Z",
     "shell.execute_reply": "2023-09-08T08:44:19.332975Z"
    },
    "papermill": {
     "duration": 0.038795,
     "end_time": "2023-09-08T08:44:19.335861",
     "exception": false,
     "start_time": "2023-09-08T08:44:19.297066",
     "status": "completed"
    },
    "tags": []
   },
   "outputs": [],
   "source": [
    "# Rename the columns\n",
    "df4.rename(columns={'Amount(in rupees)': 'Amount_in_rupees', 'Price (in rupees)': 'Price_in_rupees', 'Carpet Area': 'Carpet_Area_in_sqft'}, inplace=True)"
   ]
  },
  {
   "cell_type": "code",
   "execution_count": 50,
   "id": "604462f8",
   "metadata": {
    "execution": {
     "iopub.execute_input": "2023-09-08T08:44:19.398882Z",
     "iopub.status.busy": "2023-09-08T08:44:19.398627Z",
     "iopub.status.idle": "2023-09-08T08:44:19.412587Z",
     "shell.execute_reply": "2023-09-08T08:44:19.411721Z"
    },
    "papermill": {
     "duration": 0.048359,
     "end_time": "2023-09-08T08:44:19.414552",
     "exception": false,
     "start_time": "2023-09-08T08:44:19.366193",
     "status": "completed"
    },
    "tags": []
   },
   "outputs": [
    {
     "data": {
      "text/html": [
       "<div>\n",
       "<style scoped>\n",
       "    .dataframe tbody tr th:only-of-type {\n",
       "        vertical-align: middle;\n",
       "    }\n",
       "\n",
       "    .dataframe tbody tr th {\n",
       "        vertical-align: top;\n",
       "    }\n",
       "\n",
       "    .dataframe thead th {\n",
       "        text-align: right;\n",
       "    }\n",
       "</style>\n",
       "<table border=\"1\" class=\"dataframe\">\n",
       "  <thead>\n",
       "    <tr style=\"text-align: right;\">\n",
       "      <th></th>\n",
       "      <th>Amount_in_rupees</th>\n",
       "      <th>Price_in_rupees</th>\n",
       "      <th>location</th>\n",
       "      <th>Carpet_Area_in_sqft</th>\n",
       "      <th>Floor</th>\n",
       "      <th>Transaction</th>\n",
       "      <th>Furnishing</th>\n",
       "      <th>facing</th>\n",
       "      <th>overlooking</th>\n",
       "      <th>Bathroom</th>\n",
       "      <th>Ownership</th>\n",
       "    </tr>\n",
       "    <tr>\n",
       "      <th>Index</th>\n",
       "      <th></th>\n",
       "      <th></th>\n",
       "      <th></th>\n",
       "      <th></th>\n",
       "      <th></th>\n",
       "      <th></th>\n",
       "      <th></th>\n",
       "      <th></th>\n",
       "      <th></th>\n",
       "      <th></th>\n",
       "      <th></th>\n",
       "    </tr>\n",
       "  </thead>\n",
       "  <tbody>\n",
       "    <tr>\n",
       "      <th>0</th>\n",
       "      <td>4200000.0</td>\n",
       "      <td>6000.0</td>\n",
       "      <td>thane</td>\n",
       "      <td>500.0</td>\n",
       "      <td>10 out of 11</td>\n",
       "      <td>Resale</td>\n",
       "      <td>Unfurnished</td>\n",
       "      <td>Unknown</td>\n",
       "      <td>Unknown</td>\n",
       "      <td>1.0</td>\n",
       "      <td>Unknown</td>\n",
       "    </tr>\n",
       "    <tr>\n",
       "      <th>1</th>\n",
       "      <td>9800000.0</td>\n",
       "      <td>13799.0</td>\n",
       "      <td>thane</td>\n",
       "      <td>473.0</td>\n",
       "      <td>3 out of 22</td>\n",
       "      <td>Resale</td>\n",
       "      <td>Semi-Furnished</td>\n",
       "      <td>East</td>\n",
       "      <td>Garden/Park</td>\n",
       "      <td>2.0</td>\n",
       "      <td>Freehold</td>\n",
       "    </tr>\n",
       "  </tbody>\n",
       "</table>\n",
       "</div>"
      ],
      "text/plain": [
       "       Amount_in_rupees  Price_in_rupees location  Carpet_Area_in_sqft  \\\n",
       "Index                                                                    \n",
       "0             4200000.0           6000.0    thane                500.0   \n",
       "1             9800000.0          13799.0    thane                473.0   \n",
       "\n",
       "              Floor Transaction      Furnishing   facing  overlooking  \\\n",
       "Index                                                                   \n",
       "0      10 out of 11      Resale     Unfurnished  Unknown      Unknown   \n",
       "1       3 out of 22      Resale  Semi-Furnished     East  Garden/Park   \n",
       "\n",
       "       Bathroom Ownership  \n",
       "Index                      \n",
       "0           1.0   Unknown  \n",
       "1           2.0  Freehold  "
      ]
     },
     "execution_count": 50,
     "metadata": {},
     "output_type": "execute_result"
    }
   ],
   "source": [
    "df4.head(2)\n"
   ]
  },
  {
   "cell_type": "markdown",
   "id": "f0883ceb",
   "metadata": {
    "papermill": {
     "duration": 0.030947,
     "end_time": "2023-09-08T08:44:19.476440",
     "exception": false,
     "start_time": "2023-09-08T08:44:19.445493",
     "status": "completed"
    },
    "tags": []
   },
   "source": [
    "# EDA"
   ]
  },
  {
   "cell_type": "markdown",
   "id": "00184e8b",
   "metadata": {
    "papermill": {
     "duration": 0.030786,
     "end_time": "2023-09-08T08:44:19.537913",
     "exception": false,
     "start_time": "2023-09-08T08:44:19.507127",
     "status": "completed"
    },
    "tags": []
   },
   "source": [
    "### Visualize the Data"
   ]
  },
  {
   "cell_type": "code",
   "execution_count": 51,
   "id": "87d14195",
   "metadata": {
    "execution": {
     "iopub.execute_input": "2023-09-08T08:44:19.602389Z",
     "iopub.status.busy": "2023-09-08T08:44:19.600857Z",
     "iopub.status.idle": "2023-09-08T08:44:19.842565Z",
     "shell.execute_reply": "2023-09-08T08:44:19.841670Z"
    },
    "papermill": {
     "duration": 0.276016,
     "end_time": "2023-09-08T08:44:19.844562",
     "exception": false,
     "start_time": "2023-09-08T08:44:19.568546",
     "status": "completed"
    },
    "tags": []
   },
   "outputs": [
    {
     "data": {
      "image/png": "[encoded data removed]",
      "text/plain": [
       "<Figure size 800x600 with 1 Axes>"
      ]
     },
     "metadata": {},
     "output_type": "display_data"
    }
   ],
   "source": [
    "# Box Plot for 'Amount_in_rupees'\n",
    "plt.figure(figsize=(8, 6))\n",
    "sns.boxplot(x='Amount_in_rupees', data=df4)\n",
    "plt.title(\"Box Plot: Amount in rupees\")\n",
    "plt.xlabel(\"Amount in rupees\")\n",
    "plt.show()"
   ]
  },
  {
   "cell_type": "markdown",
   "id": "8642f6f9",
   "metadata": {
    "papermill": {
     "duration": 0.030912,
     "end_time": "2023-09-08T08:44:19.907226",
     "exception": false,
     "start_time": "2023-09-08T08:44:19.876314",
     "status": "completed"
    },
    "tags": []
   },
   "source": [
    "\n",
    "\n",
    "### Histogram for Numeric Value"
   ]
  },
  {
   "cell_type": "code",
   "execution_count": 52,
   "id": "f42847c3",
   "metadata": {
    "execution": {
     "iopub.execute_input": "2023-09-08T08:44:19.972629Z",
     "iopub.status.busy": "2023-09-08T08:44:19.971728Z",
     "iopub.status.idle": "2023-09-08T08:44:21.402742Z",
     "shell.execute_reply": "2023-09-08T08:44:21.401865Z"
    },
    "papermill": {
     "duration": 1.465204,
     "end_time": "2023-09-08T08:44:21.404779",
     "exception": false,
     "start_time": "2023-09-08T08:44:19.939575",
     "status": "completed"
    },
    "tags": []
   },
   "outputs": [
    {
     "name": "stdout",
     "output_type": "stream",
     "text": [
      "Summary statistics for column Amount_in_rupees\n",
      "count    1.875310e+05\n",
      "mean     1.198134e+07\n",
      "std      3.840648e+07\n",
      "min      1.000000e+05\n",
      "25%      5.000000e+06\n",
      "50%      8.200000e+06\n",
      "75%      1.360000e+07\n",
      "max      1.400300e+10\n",
      "Name: Amount_in_rupees, dtype: float64\n"
     ]
    },
    {
     "data": {
      "image/png": "[encoded data removed]",
      "text/plain": [
       "<Figure size 1200x700 with 1 Axes>"
      ]
     },
     "metadata": {},
     "output_type": "display_data"
    },
    {
     "name": "stdout",
     "output_type": "stream",
     "text": [
      "Summary statistics for column Price_in_rupees\n",
      "count    1.875310e+05\n",
      "mean     7.583772e+03\n",
      "std      2.592692e+04\n",
      "min      0.000000e+00\n",
      "25%      4.501500e+03\n",
      "50%      6.499000e+03\n",
      "75%      8.452500e+03\n",
      "max      6.700000e+06\n",
      "Name: Price_in_rupees, dtype: float64\n"
     ]
    },
    {
     "data": {
      "image/png": "[encoded data removed]",
      "text/plain": [
       "<Figure size 1200x700 with 1 Axes>"
      ]
     },
     "metadata": {},
     "output_type": "display_data"
    },
    {
     "name": "stdout",
     "output_type": "stream",
     "text": [
      "Summary statistics for column Carpet_Area_in_sqft\n",
      "count    187531.000000\n",
      "mean       1267.967442\n",
      "std        2301.537433\n",
      "min           1.000000\n",
      "25%        1000.000000\n",
      "50%        1267.967442\n",
      "75%        1267.967442\n",
      "max      709222.000000\n",
      "Name: Carpet_Area_in_sqft, dtype: float64\n"
     ]
    },
    {
     "data": {
      "image/png": "[encoded data removed]",
      "text/plain": [
       "<Figure size 1200x700 with 1 Axes>"
      ]
     },
     "metadata": {},
     "output_type": "display_data"
    },
    {
     "name": "stdout",
     "output_type": "stream",
     "text": [
      "Summary statistics for column Bathroom\n",
      "count    187531.000000\n",
      "mean          2.428060\n",
      "std           0.867447\n",
      "min           1.000000\n",
      "25%           2.000000\n",
      "50%           2.000000\n",
      "75%           3.000000\n",
      "max          10.000000\n",
      "Name: Bathroom, dtype: float64\n"
     ]
    },
    {
     "data": {
      "image/png": "[encoded data removed]",
      "text/plain": [
       "<Figure size 1200x700 with 1 Axes>"
      ]
     },
     "metadata": {},
     "output_type": "display_data"
    }
   ],
   "source": [
    "numeric_columns = ['Amount_in_rupees', 'Price_in_rupees', 'Carpet_Area_in_sqft', 'Bathroom',]\n",
    "for columns in numeric_columns:\n",
    "    print(\"Summary statistics for column\", columns)\n",
    "    print(df4[columns].describe())\n",
    "    plt.figure(figsize=(12, 7))\n",
    "    plt.hist(df4[columns], bins=50)\n",
    "    plt.title(f\"Distribution of {columns}\")\n",
    "    plt.xlabel(columns)\n",
    "    plt.ylabel(\"Frequency\")\n",
    "    plt.show()"
   ]
  },
  {
   "cell_type": "markdown",
   "id": "027652c9",
   "metadata": {
    "papermill": {
     "duration": 0.035277,
     "end_time": "2023-09-08T08:44:21.473813",
     "exception": false,
     "start_time": "2023-09-08T08:44:21.438536",
     "status": "completed"
    },
    "tags": []
   },
   "source": [
    "### Bart Plot for Categorical Varibales"
   ]
  },
  {
   "cell_type": "code",
   "execution_count": 53,
   "id": "3841a4a2",
   "metadata": {
    "execution": {
     "iopub.execute_input": "2023-09-08T08:44:21.542019Z",
     "iopub.status.busy": "2023-09-08T08:44:21.541702Z",
     "iopub.status.idle": "2023-09-08T08:44:23.277262Z",
     "shell.execute_reply": "2023-09-08T08:44:23.276206Z"
    },
    "papermill": {
     "duration": 1.77232,
     "end_time": "2023-09-08T08:44:23.279419",
     "exception": false,
     "start_time": "2023-09-08T08:44:21.507099",
     "status": "completed"
    },
    "tags": []
   },
   "outputs": [
    {
     "name": "stdout",
     "output_type": "stream",
     "text": [
      "Unique values in column Transaction\n",
      "Transaction\n",
      "Resale          144255\n",
      "New Property     42565\n",
      "Other              709\n",
      "Rent/Lease           2\n",
      "Name: count, dtype: int64\n"
     ]
    },
    {
     "data": {
      "image/png": "[encoded data removed]",
      "text/plain": [
       "<Figure size 1000x600 with 1 Axes>"
      ]
     },
     "metadata": {},
     "output_type": "display_data"
    },
    {
     "name": "stdout",
     "output_type": "stream",
     "text": [
      "Unique values in column Furnishing\n",
      "Furnishing\n",
      "Semi-Furnished    91215\n",
      "Unfurnished       76154\n",
      "Furnished         20162\n",
      "Name: count, dtype: int64\n"
     ]
    },
    {
     "data": {
      "image/png": "[encoded data removed]",
      "text/plain": [
       "<Figure size 1000x600 with 1 Axes>"
      ]
     },
     "metadata": {},
     "output_type": "display_data"
    },
    {
     "name": "stdout",
     "output_type": "stream",
     "text": [
      "Unique values in column facing\n",
      "facing\n",
      "Unknown         70233\n",
      "East            54741\n",
      "North - East    24220\n",
      "North           16533\n",
      "West             8574\n",
      "South            4694\n",
      "North - West     3843\n",
      "South - East     2622\n",
      "South -West      2071\n",
      "Name: count, dtype: int64\n"
     ]
    },
    {
     "data": {
      "image/png": "[encoded data removed]",
      "text/plain": [
       "<Figure size 1000x600 with 1 Axes>"
      ]
     },
     "metadata": {},
     "output_type": "display_data"
    },
    {
     "name": "stdout",
     "output_type": "stream",
     "text": [
      "Unique values in column overlooking\n",
      "overlooking\n",
      "Unknown                                        81436\n",
      "Main Road                                      32193\n",
      "Garden/Park, Main Road                         27238\n",
      "Garden/Park                                    23077\n",
      "Garden/Park, Pool, Main Road                   12413\n",
      "Pool, Garden/Park, Main Road                    3615\n",
      "Garden/Park, Pool                               2880\n",
      "Main Road, Garden/Park, Pool                    1359\n",
      "Pool, Main Road                                 1136\n",
      "Pool                                            1012\n",
      "Main Road, Garden/Park                           666\n",
      "Pool, Garden/Park                                435\n",
      "Garden/Park, Main Road, Pool                      39\n",
      "Main Road, Pool                                   11\n",
      "Main Road, Pool, Garden/Park                       8\n",
      "Pool, Main Road, Garden/Park                       6\n",
      "Main Road, Not Available                           4\n",
      "Garden/Park, Pool, Main Road, Not Available        1\n",
      "Garden/Park, Not Available                         1\n",
      "Pool, Main Road, Not Available                     1\n",
      "Name: count, dtype: int64\n"
     ]
    },
    {
     "data": {
      "image/png": "[encoded data removed]",
      "text/plain": [
       "<Figure size 1000x600 with 1 Axes>"
      ]
     },
     "metadata": {},
     "output_type": "display_data"
    },
    {
     "name": "stdout",
     "output_type": "stream",
     "text": [
      "Unique values in column Ownership\n",
      "Ownership\n",
      "Freehold                112229\n",
      "Unknown                  65517\n",
      "Leasehold                 5285\n",
      "Co-operative Society      3431\n",
      "Power Of Attorney         1069\n",
      "Name: count, dtype: int64\n"
     ]
    },
    {
     "data": {
      "image/png": "[encoded data removed]",
      "text/plain": [
       "<Figure size 1000x600 with 1 Axes>"
      ]
     },
     "metadata": {},
     "output_type": "display_data"
    }
   ],
   "source": [
    "categorical_columns = ['Transaction', 'Furnishing', 'facing', 'overlooking', 'Ownership']\n",
    "for columns in categorical_columns:\n",
    "    print(\"Unique values in column\", columns)\n",
    "    print(df4[columns].value_counts())\n",
    "    plt.figure(figsize=(10, 6))\n",
    "    df4[columns].value_counts().plot(kind='bar')\n",
    "    plt.title(f\"Distribution of {columns}\")\n",
    "    plt.xlabel(columns)\n",
    "    plt.ylabel(\"Frequency\")\n",
    "    plt.show()"
   ]
  },
  {
   "cell_type": "code",
   "execution_count": 54,
   "id": "de835d0a",
   "metadata": {
    "execution": {
     "iopub.execute_input": "2023-09-08T08:44:23.355571Z",
     "iopub.status.busy": "2023-09-08T08:44:23.354755Z",
     "iopub.status.idle": "2023-09-08T08:44:23.678758Z",
     "shell.execute_reply": "2023-09-08T08:44:23.677658Z"
    },
    "papermill": {
     "duration": 0.364694,
     "end_time": "2023-09-08T08:44:23.681504",
     "exception": false,
     "start_time": "2023-09-08T08:44:23.316810",
     "status": "completed"
    },
    "tags": []
   },
   "outputs": [
    {
     "data": {
      "image/png": "[encoded data removed]",
      "text/plain": [
       "<Figure size 800x800 with 1 Axes>"
      ]
     },
     "metadata": {},
     "output_type": "display_data"
    }
   ],
   "source": [
    "# Let's plot a pie chart for the 'Ownership' column\n",
    "plt.figure(figsize=(8, 8))\n",
    "df4['Ownership'].value_counts().plot(kind='pie', autopct='%1.1f%%', labels=None, startangle=90)\n",
    "plt.axis('equal')\n",
    "plt.legend(labels=df4['Ownership'].value_counts().index, loc='best')\n",
    "plt.title(\"Distribution of Ownership\")\n",
    "plt.show()"
   ]
  },
  {
   "cell_type": "markdown",
   "id": "b343cb84",
   "metadata": {
    "papermill": {
     "duration": 0.03962,
     "end_time": "2023-09-08T08:44:23.760238",
     "exception": false,
     "start_time": "2023-09-08T08:44:23.720618",
     "status": "completed"
    },
    "tags": []
   },
   "source": [
    "## A histogram for each numerical attribute"
   ]
  },
  {
   "cell_type": "code",
   "execution_count": 55,
   "id": "3f0f2efe",
   "metadata": {
    "execution": {
     "iopub.execute_input": "2023-09-08T08:44:23.836177Z",
     "iopub.status.busy": "2023-09-08T08:44:23.835350Z",
     "iopub.status.idle": "2023-09-08T08:44:25.358887Z",
     "shell.execute_reply": "2023-09-08T08:44:25.358044Z"
    },
    "papermill": {
     "duration": 1.568506,
     "end_time": "2023-09-08T08:44:25.365710",
     "exception": false,
     "start_time": "2023-09-08T08:44:23.797204",
     "status": "completed"
    },
    "tags": []
   },
   "outputs": [
    {
     "data": {
      "image/png": "[encoded data removed]",
      "text/plain": [
       "<Figure size 2000x1500 with 4 Axes>"
      ]
     },
     "metadata": {},
     "output_type": "display_data"
    }
   ],
   "source": [
    "df4.hist(bins=50, figsize=(20,15))\n",
    "plt.show()\n"
   ]
  },
  {
   "cell_type": "markdown",
   "id": "e18cc212",
   "metadata": {
    "papermill": {
     "duration": 0.056996,
     "end_time": "2023-09-08T08:44:25.485787",
     "exception": false,
     "start_time": "2023-09-08T08:44:25.428791",
     "status": "completed"
    },
    "tags": []
   },
   "source": [
    "## Looking for Correlations"
   ]
  },
  {
   "cell_type": "code",
   "execution_count": 56,
   "id": "90d77c6e",
   "metadata": {
    "execution": {
     "iopub.execute_input": "2023-09-08T08:44:25.602249Z",
     "iopub.status.busy": "2023-09-08T08:44:25.601626Z",
     "iopub.status.idle": "2023-09-08T08:44:25.607000Z",
     "shell.execute_reply": "2023-09-08T08:44:25.606189Z"
    },
    "papermill": {
     "duration": 0.064854,
     "end_time": "2023-09-08T08:44:25.609562",
     "exception": false,
     "start_time": "2023-09-08T08:44:25.544708",
     "status": "completed"
    },
    "tags": []
   },
   "outputs": [],
   "source": [
    "##to see correlation\n",
    "# corr_matrix = df4.corr()\n",
    "# corr_matrix['Amount_in_rupees'].sort_values(ascending=False)"
   ]
  },
  {
   "cell_type": "code",
   "execution_count": 57,
   "id": "ff26d4e7",
   "metadata": {
    "execution": {
     "iopub.execute_input": "2023-09-08T08:44:25.722068Z",
     "iopub.status.busy": "2023-09-08T08:44:25.721733Z",
     "iopub.status.idle": "2023-09-08T08:44:45.854089Z",
     "shell.execute_reply": "2023-09-08T08:44:45.853211Z"
    },
    "papermill": {
     "duration": 20.191053,
     "end_time": "2023-09-08T08:44:45.856281",
     "exception": false,
     "start_time": "2023-09-08T08:44:25.665228",
     "status": "completed"
    },
    "tags": []
   },
   "outputs": [
    {
     "data": {
      "text/plain": [
       "array([[<Axes: xlabel='Amount_in_rupees', ylabel='Amount_in_rupees'>,\n",
       "        <Axes: xlabel='Price_in_rupees', ylabel='Amount_in_rupees'>,\n",
       "        <Axes: xlabel='Bathroom', ylabel='Amount_in_rupees'>,\n",
       "        <Axes: xlabel='Carpet_Area_in_sqft', ylabel='Amount_in_rupees'>],\n",
       "       [<Axes: xlabel='Amount_in_rupees', ylabel='Price_in_rupees'>,\n",
       "        <Axes: xlabel='Price_in_rupees', ylabel='Price_in_rupees'>,\n",
       "        <Axes: xlabel='Bathroom', ylabel='Price_in_rupees'>,\n",
       "        <Axes: xlabel='Carpet_Area_in_sqft', ylabel='Price_in_rupees'>],\n",
       "       [<Axes: xlabel='Amount_in_rupees', ylabel='Bathroom'>,\n",
       "        <Axes: xlabel='Price_in_rupees', ylabel='Bathroom'>,\n",
       "        <Axes: xlabel='Bathroom', ylabel='Bathroom'>,\n",
       "        <Axes: xlabel='Carpet_Area_in_sqft', ylabel='Bathroom'>],\n",
       "       [<Axes: xlabel='Amount_in_rupees', ylabel='Carpet_Area_in_sqft'>,\n",
       "        <Axes: xlabel='Price_in_rupees', ylabel='Carpet_Area_in_sqft'>,\n",
       "        <Axes: xlabel='Bathroom', ylabel='Carpet_Area_in_sqft'>,\n",
       "        <Axes: xlabel='Carpet_Area_in_sqft', ylabel='Carpet_Area_in_sqft'>]],\n",
       "      dtype=object)"
      ]
     },
     "execution_count": 57,
     "metadata": {},
     "output_type": "execute_result"
    },
    {
     "data": {
      "image/png": "[encoded data removed]",
      "text/plain": [
       "<Figure size 1200x800 with 16 Axes>"
      ]
     },
     "metadata": {},
     "output_type": "display_data"
    }
   ],
   "source": [
    "from pandas.plotting import scatter_matrix\n",
    "attributes = [\"Amount_in_rupees\", \"Price_in_rupees\", \"Bathroom\",\n",
    " \"Carpet_Area_in_sqft\"]\n",
    "scatter_matrix(df4[attributes], figsize=(12, 8))"
   ]
  },
  {
   "cell_type": "markdown",
   "id": "e9705e84",
   "metadata": {
    "papermill": {
     "duration": 0.040572,
     "end_time": "2023-09-08T08:44:45.937658",
     "exception": false,
     "start_time": "2023-09-08T08:44:45.897086",
     "status": "completed"
    },
    "tags": []
   },
   "source": [
    "## OnHotEnocoding for Location"
   ]
  },
  {
   "cell_type": "code",
   "execution_count": 58,
   "id": "3e96af84",
   "metadata": {
    "execution": {
     "iopub.execute_input": "2023-09-08T08:44:46.026897Z",
     "iopub.status.busy": "2023-09-08T08:44:46.025040Z",
     "iopub.status.idle": "2023-09-08T08:44:46.051445Z",
     "shell.execute_reply": "2023-09-08T08:44:46.050415Z"
    },
    "papermill": {
     "duration": 0.076009,
     "end_time": "2023-09-08T08:44:46.053749",
     "exception": false,
     "start_time": "2023-09-08T08:44:45.977740",
     "status": "completed"
    },
    "tags": []
   },
   "outputs": [],
   "source": [
    "df5 = df4.copy()"
   ]
  },
  {
   "cell_type": "code",
   "execution_count": 59,
   "id": "c10fa235",
   "metadata": {
    "execution": {
     "iopub.execute_input": "2023-09-08T08:44:46.141687Z",
     "iopub.status.busy": "2023-09-08T08:44:46.140802Z",
     "iopub.status.idle": "2023-09-08T08:44:46.294225Z",
     "shell.execute_reply": "2023-09-08T08:44:46.293270Z"
    },
    "papermill": {
     "duration": 0.199203,
     "end_time": "2023-09-08T08:44:46.296441",
     "exception": false,
     "start_time": "2023-09-08T08:44:46.097238",
     "status": "completed"
    },
    "tags": []
   },
   "outputs": [
    {
     "data": {
      "text/html": [
       "<div>\n",
       "<style scoped>\n",
       "    .dataframe tbody tr th:only-of-type {\n",
       "        vertical-align: middle;\n",
       "    }\n",
       "\n",
       "    .dataframe tbody tr th {\n",
       "        vertical-align: top;\n",
       "    }\n",
       "\n",
       "    .dataframe thead th {\n",
       "        text-align: right;\n",
       "    }\n",
       "</style>\n",
       "<table border=\"1\" class=\"dataframe\">\n",
       "  <thead>\n",
       "    <tr style=\"text-align: right;\">\n",
       "      <th></th>\n",
       "      <th>agra</th>\n",
       "      <th>ahmadnagar</th>\n",
       "      <th>ahmedabad</th>\n",
       "      <th>allahabad</th>\n",
       "      <th>aurangabad</th>\n",
       "      <th>badlapur</th>\n",
       "      <th>bangalore</th>\n",
       "      <th>belgaum</th>\n",
       "      <th>bhiwadi</th>\n",
       "      <th>bhiwandi</th>\n",
       "      <th>bhopal</th>\n",
       "      <th>bhubaneswar</th>\n",
       "      <th>chandigarh</th>\n",
       "      <th>chennai</th>\n",
       "      <th>coimbatore</th>\n",
       "      <th>dehradun</th>\n",
       "      <th>durgapur</th>\n",
       "      <th>ernakulam</th>\n",
       "      <th>faridabad</th>\n",
       "      <th>ghaziabad</th>\n",
       "      <th>goa</th>\n",
       "      <th>greater-noida</th>\n",
       "      <th>guntur</th>\n",
       "      <th>gurgaon</th>\n",
       "      <th>guwahati</th>\n",
       "      <th>gwalior</th>\n",
       "      <th>haridwar</th>\n",
       "      <th>hyderabad</th>\n",
       "      <th>indore</th>\n",
       "      <th>jabalpur</th>\n",
       "      <th>jaipur</th>\n",
       "      <th>jamshedpur</th>\n",
       "      <th>jodhpur</th>\n",
       "      <th>kalyan</th>\n",
       "      <th>kanpur</th>\n",
       "      <th>kochi</th>\n",
       "      <th>kolkata</th>\n",
       "      <th>kozhikode</th>\n",
       "      <th>lucknow</th>\n",
       "      <th>ludhiana</th>\n",
       "      <th>madurai</th>\n",
       "      <th>mangalore</th>\n",
       "      <th>mohali</th>\n",
       "      <th>mumbai</th>\n",
       "      <th>mysore</th>\n",
       "      <th>nagpur</th>\n",
       "      <th>nashik</th>\n",
       "      <th>navi-mumbai</th>\n",
       "      <th>navsari</th>\n",
       "      <th>nellore</th>\n",
       "      <th>new-delhi</th>\n",
       "      <th>noida</th>\n",
       "      <th>palakkad</th>\n",
       "      <th>palghar</th>\n",
       "      <th>panchkula</th>\n",
       "      <th>patna</th>\n",
       "      <th>pondicherry</th>\n",
       "      <th>pune</th>\n",
       "      <th>raipur</th>\n",
       "      <th>rajahmundry</th>\n",
       "      <th>ranchi</th>\n",
       "      <th>satara</th>\n",
       "      <th>shimla</th>\n",
       "      <th>siliguri</th>\n",
       "      <th>solapur</th>\n",
       "      <th>sonipat</th>\n",
       "      <th>surat</th>\n",
       "      <th>thane</th>\n",
       "      <th>thrissur</th>\n",
       "      <th>tirupati</th>\n",
       "      <th>trichy</th>\n",
       "      <th>trivandrum</th>\n",
       "      <th>udaipur</th>\n",
       "      <th>udupi</th>\n",
       "      <th>vadodara</th>\n",
       "      <th>vapi</th>\n",
       "      <th>varanasi</th>\n",
       "      <th>vijayawada</th>\n",
       "      <th>visakhapatnam</th>\n",
       "      <th>vrindavan</th>\n",
       "      <th>zirakpur</th>\n",
       "    </tr>\n",
       "    <tr>\n",
       "      <th>Index</th>\n",
       "      <th></th>\n",
       "      <th></th>\n",
       "      <th></th>\n",
       "      <th></th>\n",
       "      <th></th>\n",
       "      <th></th>\n",
       "      <th></th>\n",
       "      <th></th>\n",
       "      <th></th>\n",
       "      <th></th>\n",
       "      <th></th>\n",
       "      <th></th>\n",
       "      <th></th>\n",
       "      <th></th>\n",
       "      <th></th>\n",
       "      <th></th>\n",
       "      <th></th>\n",
       "      <th></th>\n",
       "      <th></th>\n",
       "      <th></th>\n",
       "      <th></th>\n",
       "      <th></th>\n",
       "      <th></th>\n",
       "      <th></th>\n",
       "      <th></th>\n",
       "      <th></th>\n",
       "      <th></th>\n",
       "      <th></th>\n",
       "      <th></th>\n",
       "      <th></th>\n",
       "      <th></th>\n",
       "      <th></th>\n",
       "      <th></th>\n",
       "      <th></th>\n",
       "      <th></th>\n",
       "      <th></th>\n",
       "      <th></th>\n",
       "      <th></th>\n",
       "      <th></th>\n",
       "      <th></th>\n",
       "      <th></th>\n",
       "      <th></th>\n",
       "      <th></th>\n",
       "      <th></th>\n",
       "      <th></th>\n",
       "      <th></th>\n",
       "      <th></th>\n",
       "      <th></th>\n",
       "      <th></th>\n",
       "      <th></th>\n",
       "      <th></th>\n",
       "      <th></th>\n",
       "      <th></th>\n",
       "      <th></th>\n",
       "      <th></th>\n",
       "      <th></th>\n",
       "      <th></th>\n",
       "      <th></th>\n",
       "      <th></th>\n",
       "      <th></th>\n",
       "      <th></th>\n",
       "      <th></th>\n",
       "      <th></th>\n",
       "      <th></th>\n",
       "      <th></th>\n",
       "      <th></th>\n",
       "      <th></th>\n",
       "      <th></th>\n",
       "      <th></th>\n",
       "      <th></th>\n",
       "      <th></th>\n",
       "      <th></th>\n",
       "      <th></th>\n",
       "      <th></th>\n",
       "      <th></th>\n",
       "      <th></th>\n",
       "      <th></th>\n",
       "      <th></th>\n",
       "      <th></th>\n",
       "      <th></th>\n",
       "      <th></th>\n",
       "    </tr>\n",
       "  </thead>\n",
       "  <tbody>\n",
       "    <tr>\n",
       "      <th>0</th>\n",
       "      <td>0</td>\n",
       "      <td>0</td>\n",
       "      <td>0</td>\n",
       "      <td>0</td>\n",
       "      <td>0</td>\n",
       "      <td>0</td>\n",
       "      <td>0</td>\n",
       "      <td>0</td>\n",
       "      <td>0</td>\n",
       "      <td>0</td>\n",
       "      <td>0</td>\n",
       "      <td>0</td>\n",
       "      <td>0</td>\n",
       "      <td>0</td>\n",
       "      <td>0</td>\n",
       "      <td>0</td>\n",
       "      <td>0</td>\n",
       "      <td>0</td>\n",
       "      <td>0</td>\n",
       "      <td>0</td>\n",
       "      <td>0</td>\n",
       "      <td>0</td>\n",
       "      <td>0</td>\n",
       "      <td>0</td>\n",
       "      <td>0</td>\n",
       "      <td>0</td>\n",
       "      <td>0</td>\n",
       "      <td>0</td>\n",
       "      <td>0</td>\n",
       "      <td>0</td>\n",
       "      <td>0</td>\n",
       "      <td>0</td>\n",
       "      <td>0</td>\n",
       "      <td>0</td>\n",
       "      <td>0</td>\n",
       "      <td>0</td>\n",
       "      <td>0</td>\n",
       "      <td>0</td>\n",
       "      <td>0</td>\n",
       "      <td>0</td>\n",
       "      <td>0</td>\n",
       "      <td>0</td>\n",
       "      <td>0</td>\n",
       "      <td>0</td>\n",
       "      <td>0</td>\n",
       "      <td>0</td>\n",
       "      <td>0</td>\n",
       "      <td>0</td>\n",
       "      <td>0</td>\n",
       "      <td>0</td>\n",
       "      <td>0</td>\n",
       "      <td>0</td>\n",
       "      <td>0</td>\n",
       "      <td>0</td>\n",
       "      <td>0</td>\n",
       "      <td>0</td>\n",
       "      <td>0</td>\n",
       "      <td>0</td>\n",
       "      <td>0</td>\n",
       "      <td>0</td>\n",
       "      <td>0</td>\n",
       "      <td>0</td>\n",
       "      <td>0</td>\n",
       "      <td>0</td>\n",
       "      <td>0</td>\n",
       "      <td>0</td>\n",
       "      <td>0</td>\n",
       "      <td>1</td>\n",
       "      <td>0</td>\n",
       "      <td>0</td>\n",
       "      <td>0</td>\n",
       "      <td>0</td>\n",
       "      <td>0</td>\n",
       "      <td>0</td>\n",
       "      <td>0</td>\n",
       "      <td>0</td>\n",
       "      <td>0</td>\n",
       "      <td>0</td>\n",
       "      <td>0</td>\n",
       "      <td>0</td>\n",
       "      <td>0</td>\n",
       "    </tr>\n",
       "    <tr>\n",
       "      <th>1</th>\n",
       "      <td>0</td>\n",
       "      <td>0</td>\n",
       "      <td>0</td>\n",
       "      <td>0</td>\n",
       "      <td>0</td>\n",
       "      <td>0</td>\n",
       "      <td>0</td>\n",
       "      <td>0</td>\n",
       "      <td>0</td>\n",
       "      <td>0</td>\n",
       "      <td>0</td>\n",
       "      <td>0</td>\n",
       "      <td>0</td>\n",
       "      <td>0</td>\n",
       "      <td>0</td>\n",
       "      <td>0</td>\n",
       "      <td>0</td>\n",
       "      <td>0</td>\n",
       "      <td>0</td>\n",
       "      <td>0</td>\n",
       "      <td>0</td>\n",
       "      <td>0</td>\n",
       "      <td>0</td>\n",
       "      <td>0</td>\n",
       "      <td>0</td>\n",
       "      <td>0</td>\n",
       "      <td>0</td>\n",
       "      <td>0</td>\n",
       "      <td>0</td>\n",
       "      <td>0</td>\n",
       "      <td>0</td>\n",
       "      <td>0</td>\n",
       "      <td>0</td>\n",
       "      <td>0</td>\n",
       "      <td>0</td>\n",
       "      <td>0</td>\n",
       "      <td>0</td>\n",
       "      <td>0</td>\n",
       "      <td>0</td>\n",
       "      <td>0</td>\n",
       "      <td>0</td>\n",
       "      <td>0</td>\n",
       "      <td>0</td>\n",
       "      <td>0</td>\n",
       "      <td>0</td>\n",
       "      <td>0</td>\n",
       "      <td>0</td>\n",
       "      <td>0</td>\n",
       "      <td>0</td>\n",
       "      <td>0</td>\n",
       "      <td>0</td>\n",
       "      <td>0</td>\n",
       "      <td>0</td>\n",
       "      <td>0</td>\n",
       "      <td>0</td>\n",
       "      <td>0</td>\n",
       "      <td>0</td>\n",
       "      <td>0</td>\n",
       "      <td>0</td>\n",
       "      <td>0</td>\n",
       "      <td>0</td>\n",
       "      <td>0</td>\n",
       "      <td>0</td>\n",
       "      <td>0</td>\n",
       "      <td>0</td>\n",
       "      <td>0</td>\n",
       "      <td>0</td>\n",
       "      <td>1</td>\n",
       "      <td>0</td>\n",
       "      <td>0</td>\n",
       "      <td>0</td>\n",
       "      <td>0</td>\n",
       "      <td>0</td>\n",
       "      <td>0</td>\n",
       "      <td>0</td>\n",
       "      <td>0</td>\n",
       "      <td>0</td>\n",
       "      <td>0</td>\n",
       "      <td>0</td>\n",
       "      <td>0</td>\n",
       "      <td>0</td>\n",
       "    </tr>\n",
       "    <tr>\n",
       "      <th>2</th>\n",
       "      <td>0</td>\n",
       "      <td>0</td>\n",
       "      <td>0</td>\n",
       "      <td>0</td>\n",
       "      <td>0</td>\n",
       "      <td>0</td>\n",
       "      <td>0</td>\n",
       "      <td>0</td>\n",
       "      <td>0</td>\n",
       "      <td>0</td>\n",
       "      <td>0</td>\n",
       "      <td>0</td>\n",
       "      <td>0</td>\n",
       "      <td>0</td>\n",
       "      <td>0</td>\n",
       "      <td>0</td>\n",
       "      <td>0</td>\n",
       "      <td>0</td>\n",
       "      <td>0</td>\n",
       "      <td>0</td>\n",
       "      <td>0</td>\n",
       "      <td>0</td>\n",
       "      <td>0</td>\n",
       "      <td>0</td>\n",
       "      <td>0</td>\n",
       "      <td>0</td>\n",
       "      <td>0</td>\n",
       "      <td>0</td>\n",
       "      <td>0</td>\n",
       "      <td>0</td>\n",
       "      <td>0</td>\n",
       "      <td>0</td>\n",
       "      <td>0</td>\n",
       "      <td>0</td>\n",
       "      <td>0</td>\n",
       "      <td>0</td>\n",
       "      <td>0</td>\n",
       "      <td>0</td>\n",
       "      <td>0</td>\n",
       "      <td>0</td>\n",
       "      <td>0</td>\n",
       "      <td>0</td>\n",
       "      <td>0</td>\n",
       "      <td>0</td>\n",
       "      <td>0</td>\n",
       "      <td>0</td>\n",
       "      <td>0</td>\n",
       "      <td>0</td>\n",
       "      <td>0</td>\n",
       "      <td>0</td>\n",
       "      <td>0</td>\n",
       "      <td>0</td>\n",
       "      <td>0</td>\n",
       "      <td>0</td>\n",
       "      <td>0</td>\n",
       "      <td>0</td>\n",
       "      <td>0</td>\n",
       "      <td>0</td>\n",
       "      <td>0</td>\n",
       "      <td>0</td>\n",
       "      <td>0</td>\n",
       "      <td>0</td>\n",
       "      <td>0</td>\n",
       "      <td>0</td>\n",
       "      <td>0</td>\n",
       "      <td>0</td>\n",
       "      <td>0</td>\n",
       "      <td>1</td>\n",
       "      <td>0</td>\n",
       "      <td>0</td>\n",
       "      <td>0</td>\n",
       "      <td>0</td>\n",
       "      <td>0</td>\n",
       "      <td>0</td>\n",
       "      <td>0</td>\n",
       "      <td>0</td>\n",
       "      <td>0</td>\n",
       "      <td>0</td>\n",
       "      <td>0</td>\n",
       "      <td>0</td>\n",
       "      <td>0</td>\n",
       "    </tr>\n",
       "  </tbody>\n",
       "</table>\n",
       "</div>"
      ],
      "text/plain": [
       "       agra  ahmadnagar  ahmedabad  allahabad  aurangabad  badlapur  \\\n",
       "Index                                                                 \n",
       "0         0           0          0          0           0         0   \n",
       "1         0           0          0          0           0         0   \n",
       "2         0           0          0          0           0         0   \n",
       "\n",
       "       bangalore  belgaum  bhiwadi  bhiwandi  bhopal  bhubaneswar  chandigarh  \\\n",
       "Index                                                                           \n",
       "0              0        0        0         0       0            0           0   \n",
       "1              0        0        0         0       0            0           0   \n",
       "2              0        0        0         0       0            0           0   \n",
       "\n",
       "       chennai  coimbatore  dehradun  durgapur  ernakulam  faridabad  \\\n",
       "Index                                                                  \n",
       "0            0           0         0         0          0          0   \n",
       "1            0           0         0         0          0          0   \n",
       "2            0           0         0         0          0          0   \n",
       "\n",
       "       ghaziabad  goa  greater-noida  guntur  gurgaon  guwahati  gwalior  \\\n",
       "Index                                                                      \n",
       "0              0    0              0       0        0         0        0   \n",
       "1              0    0              0       0        0         0        0   \n",
       "2              0    0              0       0        0         0        0   \n",
       "\n",
       "       haridwar  hyderabad  indore  jabalpur  jaipur  jamshedpur  jodhpur  \\\n",
       "Index                                                                       \n",
       "0             0          0       0         0       0           0        0   \n",
       "1             0          0       0         0       0           0        0   \n",
       "2             0          0       0         0       0           0        0   \n",
       "\n",
       "       kalyan  kanpur  kochi  kolkata  kozhikode  lucknow  ludhiana  madurai  \\\n",
       "Index                                                                          \n",
       "0           0       0      0        0          0        0         0        0   \n",
       "1           0       0      0        0          0        0         0        0   \n",
       "2           0       0      0        0          0        0         0        0   \n",
       "\n",
       "       mangalore  mohali  mumbai  mysore  nagpur  nashik  navi-mumbai  \\\n",
       "Index                                                                   \n",
       "0              0       0       0       0       0       0            0   \n",
       "1              0       0       0       0       0       0            0   \n",
       "2              0       0       0       0       0       0            0   \n",
       "\n",
       "       navsari  nellore  new-delhi  noida  palakkad  palghar  panchkula  \\\n",
       "Index                                                                     \n",
       "0            0        0          0      0         0        0          0   \n",
       "1            0        0          0      0         0        0          0   \n",
       "2            0        0          0      0         0        0          0   \n",
       "\n",
       "       patna  pondicherry  pune  raipur  rajahmundry  ranchi  satara  shimla  \\\n",
       "Index                                                                          \n",
       "0          0            0     0       0            0       0       0       0   \n",
       "1          0            0     0       0            0       0       0       0   \n",
       "2          0            0     0       0            0       0       0       0   \n",
       "\n",
       "       siliguri  solapur  sonipat  surat  thane  thrissur  tirupati  trichy  \\\n",
       "Index                                                                         \n",
       "0             0        0        0      0      1         0         0       0   \n",
       "1             0        0        0      0      1         0         0       0   \n",
       "2             0        0        0      0      1         0         0       0   \n",
       "\n",
       "       trivandrum  udaipur  udupi  vadodara  vapi  varanasi  vijayawada  \\\n",
       "Index                                                                     \n",
       "0               0        0      0         0     0         0           0   \n",
       "1               0        0      0         0     0         0           0   \n",
       "2               0        0      0         0     0         0           0   \n",
       "\n",
       "       visakhapatnam  vrindavan  zirakpur  \n",
       "Index                                      \n",
       "0                  0          0         0  \n",
       "1                  0          0         0  \n",
       "2                  0          0         0  "
      ]
     },
     "execution_count": 59,
     "metadata": {},
     "output_type": "execute_result"
    }
   ],
   "source": [
    "dummies = pd.get_dummies(df5.location,dummy_na=False,dtype=int)\n",
    "dummies.head(3)"
   ]
  },
  {
   "cell_type": "code",
   "execution_count": 60,
   "id": "75a438bb",
   "metadata": {
    "execution": {
     "iopub.execute_input": "2023-09-08T08:44:46.382676Z",
     "iopub.status.busy": "2023-09-08T08:44:46.381904Z",
     "iopub.status.idle": "2023-09-08T08:44:46.493932Z",
     "shell.execute_reply": "2023-09-08T08:44:46.492758Z"
    },
    "papermill": {
     "duration": 0.157484,
     "end_time": "2023-09-08T08:44:46.497517",
     "exception": false,
     "start_time": "2023-09-08T08:44:46.340033",
     "status": "completed"
    },
    "tags": []
   },
   "outputs": [
    {
     "data": {
      "text/html": [
       "<div>\n",
       "<style scoped>\n",
       "    .dataframe tbody tr th:only-of-type {\n",
       "        vertical-align: middle;\n",
       "    }\n",
       "\n",
       "    .dataframe tbody tr th {\n",
       "        vertical-align: top;\n",
       "    }\n",
       "\n",
       "    .dataframe thead th {\n",
       "        text-align: right;\n",
       "    }\n",
       "</style>\n",
       "<table border=\"1\" class=\"dataframe\">\n",
       "  <thead>\n",
       "    <tr style=\"text-align: right;\">\n",
       "      <th></th>\n",
       "      <th>Amount_in_rupees</th>\n",
       "      <th>Price_in_rupees</th>\n",
       "      <th>location</th>\n",
       "      <th>Carpet_Area_in_sqft</th>\n",
       "      <th>Floor</th>\n",
       "      <th>Transaction</th>\n",
       "      <th>Furnishing</th>\n",
       "      <th>facing</th>\n",
       "      <th>overlooking</th>\n",
       "      <th>Bathroom</th>\n",
       "      <th>Ownership</th>\n",
       "      <th>agra</th>\n",
       "      <th>ahmadnagar</th>\n",
       "      <th>ahmedabad</th>\n",
       "      <th>allahabad</th>\n",
       "      <th>aurangabad</th>\n",
       "      <th>badlapur</th>\n",
       "      <th>bangalore</th>\n",
       "      <th>belgaum</th>\n",
       "      <th>bhiwadi</th>\n",
       "      <th>bhiwandi</th>\n",
       "      <th>bhopal</th>\n",
       "      <th>bhubaneswar</th>\n",
       "      <th>chandigarh</th>\n",
       "      <th>chennai</th>\n",
       "      <th>coimbatore</th>\n",
       "      <th>dehradun</th>\n",
       "      <th>durgapur</th>\n",
       "      <th>ernakulam</th>\n",
       "      <th>faridabad</th>\n",
       "      <th>ghaziabad</th>\n",
       "      <th>goa</th>\n",
       "      <th>greater-noida</th>\n",
       "      <th>guntur</th>\n",
       "      <th>gurgaon</th>\n",
       "      <th>guwahati</th>\n",
       "      <th>gwalior</th>\n",
       "      <th>haridwar</th>\n",
       "      <th>hyderabad</th>\n",
       "      <th>indore</th>\n",
       "      <th>jabalpur</th>\n",
       "      <th>jaipur</th>\n",
       "      <th>jamshedpur</th>\n",
       "      <th>jodhpur</th>\n",
       "      <th>kalyan</th>\n",
       "      <th>kanpur</th>\n",
       "      <th>kochi</th>\n",
       "      <th>kolkata</th>\n",
       "      <th>kozhikode</th>\n",
       "      <th>lucknow</th>\n",
       "      <th>ludhiana</th>\n",
       "      <th>madurai</th>\n",
       "      <th>mangalore</th>\n",
       "      <th>mohali</th>\n",
       "      <th>mumbai</th>\n",
       "      <th>mysore</th>\n",
       "      <th>nagpur</th>\n",
       "      <th>nashik</th>\n",
       "      <th>navi-mumbai</th>\n",
       "      <th>navsari</th>\n",
       "      <th>nellore</th>\n",
       "      <th>new-delhi</th>\n",
       "      <th>noida</th>\n",
       "      <th>palakkad</th>\n",
       "      <th>palghar</th>\n",
       "      <th>panchkula</th>\n",
       "      <th>patna</th>\n",
       "      <th>pondicherry</th>\n",
       "      <th>pune</th>\n",
       "      <th>raipur</th>\n",
       "      <th>rajahmundry</th>\n",
       "      <th>ranchi</th>\n",
       "      <th>satara</th>\n",
       "      <th>shimla</th>\n",
       "      <th>siliguri</th>\n",
       "      <th>solapur</th>\n",
       "      <th>sonipat</th>\n",
       "      <th>surat</th>\n",
       "      <th>thane</th>\n",
       "      <th>thrissur</th>\n",
       "      <th>tirupati</th>\n",
       "      <th>trichy</th>\n",
       "      <th>trivandrum</th>\n",
       "      <th>udaipur</th>\n",
       "      <th>udupi</th>\n",
       "      <th>vadodara</th>\n",
       "      <th>vapi</th>\n",
       "      <th>varanasi</th>\n",
       "      <th>vijayawada</th>\n",
       "      <th>visakhapatnam</th>\n",
       "      <th>vrindavan</th>\n",
       "      <th>zirakpur</th>\n",
       "    </tr>\n",
       "    <tr>\n",
       "      <th>Index</th>\n",
       "      <th></th>\n",
       "      <th></th>\n",
       "      <th></th>\n",
       "      <th></th>\n",
       "      <th></th>\n",
       "      <th></th>\n",
       "      <th></th>\n",
       "      <th></th>\n",
       "      <th></th>\n",
       "      <th></th>\n",
       "      <th></th>\n",
       "      <th></th>\n",
       "      <th></th>\n",
       "      <th></th>\n",
       "      <th></th>\n",
       "      <th></th>\n",
       "      <th></th>\n",
       "      <th></th>\n",
       "      <th></th>\n",
       "      <th></th>\n",
       "      <th></th>\n",
       "      <th></th>\n",
       "      <th></th>\n",
       "      <th></th>\n",
       "      <th></th>\n",
       "      <th></th>\n",
       "      <th></th>\n",
       "      <th></th>\n",
       "      <th></th>\n",
       "      <th></th>\n",
       "      <th></th>\n",
       "      <th></th>\n",
       "      <th></th>\n",
       "      <th></th>\n",
       "      <th></th>\n",
       "      <th></th>\n",
       "      <th></th>\n",
       "      <th></th>\n",
       "      <th></th>\n",
       "      <th></th>\n",
       "      <th></th>\n",
       "      <th></th>\n",
       "      <th></th>\n",
       "      <th></th>\n",
       "      <th></th>\n",
       "      <th></th>\n",
       "      <th></th>\n",
       "      <th></th>\n",
       "      <th></th>\n",
       "      <th></th>\n",
       "      <th></th>\n",
       "      <th></th>\n",
       "      <th></th>\n",
       "      <th></th>\n",
       "      <th></th>\n",
       "      <th></th>\n",
       "      <th></th>\n",
       "      <th></th>\n",
       "      <th></th>\n",
       "      <th></th>\n",
       "      <th></th>\n",
       "      <th></th>\n",
       "      <th></th>\n",
       "      <th></th>\n",
       "      <th></th>\n",
       "      <th></th>\n",
       "      <th></th>\n",
       "      <th></th>\n",
       "      <th></th>\n",
       "      <th></th>\n",
       "      <th></th>\n",
       "      <th></th>\n",
       "      <th></th>\n",
       "      <th></th>\n",
       "      <th></th>\n",
       "      <th></th>\n",
       "      <th></th>\n",
       "      <th></th>\n",
       "      <th></th>\n",
       "      <th></th>\n",
       "      <th></th>\n",
       "      <th></th>\n",
       "      <th></th>\n",
       "      <th></th>\n",
       "      <th></th>\n",
       "      <th></th>\n",
       "      <th></th>\n",
       "      <th></th>\n",
       "      <th></th>\n",
       "      <th></th>\n",
       "      <th></th>\n",
       "      <th></th>\n",
       "    </tr>\n",
       "  </thead>\n",
       "  <tbody>\n",
       "    <tr>\n",
       "      <th>187526</th>\n",
       "      <td>6300000.0</td>\n",
       "      <td>3225.0</td>\n",
       "      <td>zirakpur</td>\n",
       "      <td>1267.967442</td>\n",
       "      <td>2 out of 4</td>\n",
       "      <td>New Property</td>\n",
       "      <td>Semi-Furnished</td>\n",
       "      <td>East</td>\n",
       "      <td>Garden/Park</td>\n",
       "      <td>3.0</td>\n",
       "      <td>Freehold</td>\n",
       "      <td>0</td>\n",
       "      <td>0</td>\n",
       "      <td>0</td>\n",
       "      <td>0</td>\n",
       "      <td>0</td>\n",
       "      <td>0</td>\n",
       "      <td>0</td>\n",
       "      <td>0</td>\n",
       "      <td>0</td>\n",
       "      <td>0</td>\n",
       "      <td>0</td>\n",
       "      <td>0</td>\n",
       "      <td>0</td>\n",
       "      <td>0</td>\n",
       "      <td>0</td>\n",
       "      <td>0</td>\n",
       "      <td>0</td>\n",
       "      <td>0</td>\n",
       "      <td>0</td>\n",
       "      <td>0</td>\n",
       "      <td>0</td>\n",
       "      <td>0</td>\n",
       "      <td>0</td>\n",
       "      <td>0</td>\n",
       "      <td>0</td>\n",
       "      <td>0</td>\n",
       "      <td>0</td>\n",
       "      <td>0</td>\n",
       "      <td>0</td>\n",
       "      <td>0</td>\n",
       "      <td>0</td>\n",
       "      <td>0</td>\n",
       "      <td>0</td>\n",
       "      <td>0</td>\n",
       "      <td>0</td>\n",
       "      <td>0</td>\n",
       "      <td>0</td>\n",
       "      <td>0</td>\n",
       "      <td>0</td>\n",
       "      <td>0</td>\n",
       "      <td>0</td>\n",
       "      <td>0</td>\n",
       "      <td>0</td>\n",
       "      <td>0</td>\n",
       "      <td>0</td>\n",
       "      <td>0</td>\n",
       "      <td>0</td>\n",
       "      <td>0</td>\n",
       "      <td>0</td>\n",
       "      <td>0</td>\n",
       "      <td>0</td>\n",
       "      <td>0</td>\n",
       "      <td>0</td>\n",
       "      <td>0</td>\n",
       "      <td>0</td>\n",
       "      <td>0</td>\n",
       "      <td>0</td>\n",
       "      <td>0</td>\n",
       "      <td>0</td>\n",
       "      <td>0</td>\n",
       "      <td>0</td>\n",
       "      <td>0</td>\n",
       "      <td>0</td>\n",
       "      <td>0</td>\n",
       "      <td>0</td>\n",
       "      <td>0</td>\n",
       "      <td>0</td>\n",
       "      <td>0</td>\n",
       "      <td>0</td>\n",
       "      <td>0</td>\n",
       "      <td>0</td>\n",
       "      <td>0</td>\n",
       "      <td>0</td>\n",
       "      <td>0</td>\n",
       "      <td>0</td>\n",
       "      <td>0</td>\n",
       "      <td>0</td>\n",
       "      <td>0</td>\n",
       "      <td>0</td>\n",
       "      <td>0</td>\n",
       "      <td>1</td>\n",
       "    </tr>\n",
       "    <tr>\n",
       "      <th>187527</th>\n",
       "      <td>5500000.0</td>\n",
       "      <td>3274.0</td>\n",
       "      <td>zirakpur</td>\n",
       "      <td>1267.967442</td>\n",
       "      <td>4 out of 6</td>\n",
       "      <td>Resale</td>\n",
       "      <td>Unfurnished</td>\n",
       "      <td>North - East</td>\n",
       "      <td>Garden/Park, Main Road</td>\n",
       "      <td>3.0</td>\n",
       "      <td>Unknown</td>\n",
       "      <td>0</td>\n",
       "      <td>0</td>\n",
       "      <td>0</td>\n",
       "      <td>0</td>\n",
       "      <td>0</td>\n",
       "      <td>0</td>\n",
       "      <td>0</td>\n",
       "      <td>0</td>\n",
       "      <td>0</td>\n",
       "      <td>0</td>\n",
       "      <td>0</td>\n",
       "      <td>0</td>\n",
       "      <td>0</td>\n",
       "      <td>0</td>\n",
       "      <td>0</td>\n",
       "      <td>0</td>\n",
       "      <td>0</td>\n",
       "      <td>0</td>\n",
       "      <td>0</td>\n",
       "      <td>0</td>\n",
       "      <td>0</td>\n",
       "      <td>0</td>\n",
       "      <td>0</td>\n",
       "      <td>0</td>\n",
       "      <td>0</td>\n",
       "      <td>0</td>\n",
       "      <td>0</td>\n",
       "      <td>0</td>\n",
       "      <td>0</td>\n",
       "      <td>0</td>\n",
       "      <td>0</td>\n",
       "      <td>0</td>\n",
       "      <td>0</td>\n",
       "      <td>0</td>\n",
       "      <td>0</td>\n",
       "      <td>0</td>\n",
       "      <td>0</td>\n",
       "      <td>0</td>\n",
       "      <td>0</td>\n",
       "      <td>0</td>\n",
       "      <td>0</td>\n",
       "      <td>0</td>\n",
       "      <td>0</td>\n",
       "      <td>0</td>\n",
       "      <td>0</td>\n",
       "      <td>0</td>\n",
       "      <td>0</td>\n",
       "      <td>0</td>\n",
       "      <td>0</td>\n",
       "      <td>0</td>\n",
       "      <td>0</td>\n",
       "      <td>0</td>\n",
       "      <td>0</td>\n",
       "      <td>0</td>\n",
       "      <td>0</td>\n",
       "      <td>0</td>\n",
       "      <td>0</td>\n",
       "      <td>0</td>\n",
       "      <td>0</td>\n",
       "      <td>0</td>\n",
       "      <td>0</td>\n",
       "      <td>0</td>\n",
       "      <td>0</td>\n",
       "      <td>0</td>\n",
       "      <td>0</td>\n",
       "      <td>0</td>\n",
       "      <td>0</td>\n",
       "      <td>0</td>\n",
       "      <td>0</td>\n",
       "      <td>0</td>\n",
       "      <td>0</td>\n",
       "      <td>0</td>\n",
       "      <td>0</td>\n",
       "      <td>0</td>\n",
       "      <td>0</td>\n",
       "      <td>0</td>\n",
       "      <td>0</td>\n",
       "      <td>0</td>\n",
       "      <td>0</td>\n",
       "      <td>0</td>\n",
       "      <td>1</td>\n",
       "    </tr>\n",
       "    <tr>\n",
       "      <th>187528</th>\n",
       "      <td>7600000.0</td>\n",
       "      <td>4343.0</td>\n",
       "      <td>zirakpur</td>\n",
       "      <td>1250.000000</td>\n",
       "      <td>1 out of 3</td>\n",
       "      <td>Resale</td>\n",
       "      <td>Furnished</td>\n",
       "      <td>East</td>\n",
       "      <td>Garden/Park, Main Road</td>\n",
       "      <td>3.0</td>\n",
       "      <td>Freehold</td>\n",
       "      <td>0</td>\n",
       "      <td>0</td>\n",
       "      <td>0</td>\n",
       "      <td>0</td>\n",
       "      <td>0</td>\n",
       "      <td>0</td>\n",
       "      <td>0</td>\n",
       "      <td>0</td>\n",
       "      <td>0</td>\n",
       "      <td>0</td>\n",
       "      <td>0</td>\n",
       "      <td>0</td>\n",
       "      <td>0</td>\n",
       "      <td>0</td>\n",
       "      <td>0</td>\n",
       "      <td>0</td>\n",
       "      <td>0</td>\n",
       "      <td>0</td>\n",
       "      <td>0</td>\n",
       "      <td>0</td>\n",
       "      <td>0</td>\n",
       "      <td>0</td>\n",
       "      <td>0</td>\n",
       "      <td>0</td>\n",
       "      <td>0</td>\n",
       "      <td>0</td>\n",
       "      <td>0</td>\n",
       "      <td>0</td>\n",
       "      <td>0</td>\n",
       "      <td>0</td>\n",
       "      <td>0</td>\n",
       "      <td>0</td>\n",
       "      <td>0</td>\n",
       "      <td>0</td>\n",
       "      <td>0</td>\n",
       "      <td>0</td>\n",
       "      <td>0</td>\n",
       "      <td>0</td>\n",
       "      <td>0</td>\n",
       "      <td>0</td>\n",
       "      <td>0</td>\n",
       "      <td>0</td>\n",
       "      <td>0</td>\n",
       "      <td>0</td>\n",
       "      <td>0</td>\n",
       "      <td>0</td>\n",
       "      <td>0</td>\n",
       "      <td>0</td>\n",
       "      <td>0</td>\n",
       "      <td>0</td>\n",
       "      <td>0</td>\n",
       "      <td>0</td>\n",
       "      <td>0</td>\n",
       "      <td>0</td>\n",
       "      <td>0</td>\n",
       "      <td>0</td>\n",
       "      <td>0</td>\n",
       "      <td>0</td>\n",
       "      <td>0</td>\n",
       "      <td>0</td>\n",
       "      <td>0</td>\n",
       "      <td>0</td>\n",
       "      <td>0</td>\n",
       "      <td>0</td>\n",
       "      <td>0</td>\n",
       "      <td>0</td>\n",
       "      <td>0</td>\n",
       "      <td>0</td>\n",
       "      <td>0</td>\n",
       "      <td>0</td>\n",
       "      <td>0</td>\n",
       "      <td>0</td>\n",
       "      <td>0</td>\n",
       "      <td>0</td>\n",
       "      <td>0</td>\n",
       "      <td>0</td>\n",
       "      <td>0</td>\n",
       "      <td>0</td>\n",
       "      <td>0</td>\n",
       "      <td>0</td>\n",
       "      <td>1</td>\n",
       "    </tr>\n",
       "    <tr>\n",
       "      <th>187529</th>\n",
       "      <td>3000000.0</td>\n",
       "      <td>4231.0</td>\n",
       "      <td>zirakpur</td>\n",
       "      <td>1267.967442</td>\n",
       "      <td>2 out of 2</td>\n",
       "      <td>Resale</td>\n",
       "      <td>Semi-Furnished</td>\n",
       "      <td>Unknown</td>\n",
       "      <td>Main Road</td>\n",
       "      <td>2.0</td>\n",
       "      <td>Unknown</td>\n",
       "      <td>0</td>\n",
       "      <td>0</td>\n",
       "      <td>0</td>\n",
       "      <td>0</td>\n",
       "      <td>0</td>\n",
       "      <td>0</td>\n",
       "      <td>0</td>\n",
       "      <td>0</td>\n",
       "      <td>0</td>\n",
       "      <td>0</td>\n",
       "      <td>0</td>\n",
       "      <td>0</td>\n",
       "      <td>0</td>\n",
       "      <td>0</td>\n",
       "      <td>0</td>\n",
       "      <td>0</td>\n",
       "      <td>0</td>\n",
       "      <td>0</td>\n",
       "      <td>0</td>\n",
       "      <td>0</td>\n",
       "      <td>0</td>\n",
       "      <td>0</td>\n",
       "      <td>0</td>\n",
       "      <td>0</td>\n",
       "      <td>0</td>\n",
       "      <td>0</td>\n",
       "      <td>0</td>\n",
       "      <td>0</td>\n",
       "      <td>0</td>\n",
       "      <td>0</td>\n",
       "      <td>0</td>\n",
       "      <td>0</td>\n",
       "      <td>0</td>\n",
       "      <td>0</td>\n",
       "      <td>0</td>\n",
       "      <td>0</td>\n",
       "      <td>0</td>\n",
       "      <td>0</td>\n",
       "      <td>0</td>\n",
       "      <td>0</td>\n",
       "      <td>0</td>\n",
       "      <td>0</td>\n",
       "      <td>0</td>\n",
       "      <td>0</td>\n",
       "      <td>0</td>\n",
       "      <td>0</td>\n",
       "      <td>0</td>\n",
       "      <td>0</td>\n",
       "      <td>0</td>\n",
       "      <td>0</td>\n",
       "      <td>0</td>\n",
       "      <td>0</td>\n",
       "      <td>0</td>\n",
       "      <td>0</td>\n",
       "      <td>0</td>\n",
       "      <td>0</td>\n",
       "      <td>0</td>\n",
       "      <td>0</td>\n",
       "      <td>0</td>\n",
       "      <td>0</td>\n",
       "      <td>0</td>\n",
       "      <td>0</td>\n",
       "      <td>0</td>\n",
       "      <td>0</td>\n",
       "      <td>0</td>\n",
       "      <td>0</td>\n",
       "      <td>0</td>\n",
       "      <td>0</td>\n",
       "      <td>0</td>\n",
       "      <td>0</td>\n",
       "      <td>0</td>\n",
       "      <td>0</td>\n",
       "      <td>0</td>\n",
       "      <td>0</td>\n",
       "      <td>0</td>\n",
       "      <td>0</td>\n",
       "      <td>0</td>\n",
       "      <td>0</td>\n",
       "      <td>0</td>\n",
       "      <td>0</td>\n",
       "      <td>1</td>\n",
       "    </tr>\n",
       "    <tr>\n",
       "      <th>187530</th>\n",
       "      <td>11800000.0</td>\n",
       "      <td>6162.0</td>\n",
       "      <td>zirakpur</td>\n",
       "      <td>1267.967442</td>\n",
       "      <td>5 out of 13</td>\n",
       "      <td>Resale</td>\n",
       "      <td>Semi-Furnished</td>\n",
       "      <td>North - East</td>\n",
       "      <td>Garden/Park, Pool</td>\n",
       "      <td>4.0</td>\n",
       "      <td>Freehold</td>\n",
       "      <td>0</td>\n",
       "      <td>0</td>\n",
       "      <td>0</td>\n",
       "      <td>0</td>\n",
       "      <td>0</td>\n",
       "      <td>0</td>\n",
       "      <td>0</td>\n",
       "      <td>0</td>\n",
       "      <td>0</td>\n",
       "      <td>0</td>\n",
       "      <td>0</td>\n",
       "      <td>0</td>\n",
       "      <td>0</td>\n",
       "      <td>0</td>\n",
       "      <td>0</td>\n",
       "      <td>0</td>\n",
       "      <td>0</td>\n",
       "      <td>0</td>\n",
       "      <td>0</td>\n",
       "      <td>0</td>\n",
       "      <td>0</td>\n",
       "      <td>0</td>\n",
       "      <td>0</td>\n",
       "      <td>0</td>\n",
       "      <td>0</td>\n",
       "      <td>0</td>\n",
       "      <td>0</td>\n",
       "      <td>0</td>\n",
       "      <td>0</td>\n",
       "      <td>0</td>\n",
       "      <td>0</td>\n",
       "      <td>0</td>\n",
       "      <td>0</td>\n",
       "      <td>0</td>\n",
       "      <td>0</td>\n",
       "      <td>0</td>\n",
       "      <td>0</td>\n",
       "      <td>0</td>\n",
       "      <td>0</td>\n",
       "      <td>0</td>\n",
       "      <td>0</td>\n",
       "      <td>0</td>\n",
       "      <td>0</td>\n",
       "      <td>0</td>\n",
       "      <td>0</td>\n",
       "      <td>0</td>\n",
       "      <td>0</td>\n",
       "      <td>0</td>\n",
       "      <td>0</td>\n",
       "      <td>0</td>\n",
       "      <td>0</td>\n",
       "      <td>0</td>\n",
       "      <td>0</td>\n",
       "      <td>0</td>\n",
       "      <td>0</td>\n",
       "      <td>0</td>\n",
       "      <td>0</td>\n",
       "      <td>0</td>\n",
       "      <td>0</td>\n",
       "      <td>0</td>\n",
       "      <td>0</td>\n",
       "      <td>0</td>\n",
       "      <td>0</td>\n",
       "      <td>0</td>\n",
       "      <td>0</td>\n",
       "      <td>0</td>\n",
       "      <td>0</td>\n",
       "      <td>0</td>\n",
       "      <td>0</td>\n",
       "      <td>0</td>\n",
       "      <td>0</td>\n",
       "      <td>0</td>\n",
       "      <td>0</td>\n",
       "      <td>0</td>\n",
       "      <td>0</td>\n",
       "      <td>0</td>\n",
       "      <td>0</td>\n",
       "      <td>0</td>\n",
       "      <td>0</td>\n",
       "      <td>0</td>\n",
       "      <td>1</td>\n",
       "    </tr>\n",
       "  </tbody>\n",
       "</table>\n",
       "</div>"
      ],
      "text/plain": [
       "        Amount_in_rupees  Price_in_rupees  location  Carpet_Area_in_sqft  \\\n",
       "Index                                                                      \n",
       "187526         6300000.0           3225.0  zirakpur          1267.967442   \n",
       "187527         5500000.0           3274.0  zirakpur          1267.967442   \n",
       "187528         7600000.0           4343.0  zirakpur          1250.000000   \n",
       "187529         3000000.0           4231.0  zirakpur          1267.967442   \n",
       "187530        11800000.0           6162.0  zirakpur          1267.967442   \n",
       "\n",
       "              Floor   Transaction      Furnishing        facing  \\\n",
       "Index                                                             \n",
       "187526   2 out of 4  New Property  Semi-Furnished          East   \n",
       "187527   4 out of 6        Resale     Unfurnished  North - East   \n",
       "187528   1 out of 3        Resale       Furnished          East   \n",
       "187529   2 out of 2        Resale  Semi-Furnished       Unknown   \n",
       "187530  5 out of 13        Resale  Semi-Furnished  North - East   \n",
       "\n",
       "                   overlooking  Bathroom Ownership  agra  ahmadnagar  \\\n",
       "Index                                                                  \n",
       "187526             Garden/Park       3.0  Freehold     0           0   \n",
       "187527  Garden/Park, Main Road       3.0   Unknown     0           0   \n",
       "187528  Garden/Park, Main Road       3.0  Freehold     0           0   \n",
       "187529               Main Road       2.0   Unknown     0           0   \n",
       "187530       Garden/Park, Pool       4.0  Freehold     0           0   \n",
       "\n",
       "        ahmedabad  allahabad  aurangabad  badlapur  bangalore  belgaum  \\\n",
       "Index                                                                    \n",
       "187526          0          0           0         0          0        0   \n",
       "187527          0          0           0         0          0        0   \n",
       "187528          0          0           0         0          0        0   \n",
       "187529          0          0           0         0          0        0   \n",
       "187530          0          0           0         0          0        0   \n",
       "\n",
       "        bhiwadi  bhiwandi  bhopal  bhubaneswar  chandigarh  chennai  \\\n",
       "Index                                                                 \n",
       "187526        0         0       0            0           0        0   \n",
       "187527        0         0       0            0           0        0   \n",
       "187528        0         0       0            0           0        0   \n",
       "187529        0         0       0            0           0        0   \n",
       "187530        0         0       0            0           0        0   \n",
       "\n",
       "        coimbatore  dehradun  durgapur  ernakulam  faridabad  ghaziabad  goa  \\\n",
       "Index                                                                          \n",
       "187526           0         0         0          0          0          0    0   \n",
       "187527           0         0         0          0          0          0    0   \n",
       "187528           0         0         0          0          0          0    0   \n",
       "187529           0         0         0          0          0          0    0   \n",
       "187530           0         0         0          0          0          0    0   \n",
       "\n",
       "        greater-noida  guntur  gurgaon  guwahati  gwalior  haridwar  \\\n",
       "Index                                                                 \n",
       "187526              0       0        0         0        0         0   \n",
       "187527              0       0        0         0        0         0   \n",
       "187528              0       0        0         0        0         0   \n",
       "187529              0       0        0         0        0         0   \n",
       "187530              0       0        0         0        0         0   \n",
       "\n",
       "        hyderabad  indore  jabalpur  jaipur  jamshedpur  jodhpur  kalyan  \\\n",
       "Index                                                                      \n",
       "187526          0       0         0       0           0        0       0   \n",
       "187527          0       0         0       0           0        0       0   \n",
       "187528          0       0         0       0           0        0       0   \n",
       "187529          0       0         0       0           0        0       0   \n",
       "187530          0       0         0       0           0        0       0   \n",
       "\n",
       "        kanpur  kochi  kolkata  kozhikode  lucknow  ludhiana  madurai  \\\n",
       "Index                                                                   \n",
       "187526       0      0        0          0        0         0        0   \n",
       "187527       0      0        0          0        0         0        0   \n",
       "187528       0      0        0          0        0         0        0   \n",
       "187529       0      0        0          0        0         0        0   \n",
       "187530       0      0        0          0        0         0        0   \n",
       "\n",
       "        mangalore  mohali  mumbai  mysore  nagpur  nashik  navi-mumbai  \\\n",
       "Index                                                                    \n",
       "187526          0       0       0       0       0       0            0   \n",
       "187527          0       0       0       0       0       0            0   \n",
       "187528          0       0       0       0       0       0            0   \n",
       "187529          0       0       0       0       0       0            0   \n",
       "187530          0       0       0       0       0       0            0   \n",
       "\n",
       "        navsari  nellore  new-delhi  noida  palakkad  palghar  panchkula  \\\n",
       "Index                                                                      \n",
       "187526        0        0          0      0         0        0          0   \n",
       "187527        0        0          0      0         0        0          0   \n",
       "187528        0        0          0      0         0        0          0   \n",
       "187529        0        0          0      0         0        0          0   \n",
       "187530        0        0          0      0         0        0          0   \n",
       "\n",
       "        patna  pondicherry  pune  raipur  rajahmundry  ranchi  satara  shimla  \\\n",
       "Index                                                                           \n",
       "187526      0            0     0       0            0       0       0       0   \n",
       "187527      0            0     0       0            0       0       0       0   \n",
       "187528      0            0     0       0            0       0       0       0   \n",
       "187529      0            0     0       0            0       0       0       0   \n",
       "187530      0            0     0       0            0       0       0       0   \n",
       "\n",
       "        siliguri  solapur  sonipat  surat  thane  thrissur  tirupati  trichy  \\\n",
       "Index                                                                          \n",
       "187526         0        0        0      0      0         0         0       0   \n",
       "187527         0        0        0      0      0         0         0       0   \n",
       "187528         0        0        0      0      0         0         0       0   \n",
       "187529         0        0        0      0      0         0         0       0   \n",
       "187530         0        0        0      0      0         0         0       0   \n",
       "\n",
       "        trivandrum  udaipur  udupi  vadodara  vapi  varanasi  vijayawada  \\\n",
       "Index                                                                      \n",
       "187526           0        0      0         0     0         0           0   \n",
       "187527           0        0      0         0     0         0           0   \n",
       "187528           0        0      0         0     0         0           0   \n",
       "187529           0        0      0         0     0         0           0   \n",
       "187530           0        0      0         0     0         0           0   \n",
       "\n",
       "        visakhapatnam  vrindavan  zirakpur  \n",
       "Index                                       \n",
       "187526              0          0         1  \n",
       "187527              0          0         1  \n",
       "187528              0          0         1  \n",
       "187529              0          0         1  \n",
       "187530              0          0         1  "
      ]
     },
     "execution_count": 60,
     "metadata": {},
     "output_type": "execute_result"
    }
   ],
   "source": [
    "df6 = pd.concat([df5,dummies],axis='columns'  )\n",
    "df6.tail()"
   ]
  },
  {
   "cell_type": "code",
   "execution_count": 61,
   "id": "75249d85",
   "metadata": {
    "execution": {
     "iopub.execute_input": "2023-09-08T08:44:46.582670Z",
     "iopub.status.busy": "2023-09-08T08:44:46.581741Z",
     "iopub.status.idle": "2023-09-08T08:44:46.588471Z",
     "shell.execute_reply": "2023-09-08T08:44:46.587474Z"
    },
    "papermill": {
     "duration": 0.050491,
     "end_time": "2023-09-08T08:44:46.590498",
     "exception": false,
     "start_time": "2023-09-08T08:44:46.540007",
     "status": "completed"
    },
    "tags": []
   },
   "outputs": [
    {
     "data": {
      "text/plain": [
       "(187531, 92)"
      ]
     },
     "execution_count": 61,
     "metadata": {},
     "output_type": "execute_result"
    }
   ],
   "source": [
    "df6.shape"
   ]
  },
  {
   "cell_type": "code",
   "execution_count": 62,
   "id": "9971555a",
   "metadata": {
    "execution": {
     "iopub.execute_input": "2023-09-08T08:44:46.674015Z",
     "iopub.status.busy": "2023-09-08T08:44:46.673698Z",
     "iopub.status.idle": "2023-09-08T08:44:46.768488Z",
     "shell.execute_reply": "2023-09-08T08:44:46.767336Z"
    },
    "papermill": {
     "duration": 0.141362,
     "end_time": "2023-09-08T08:44:46.772157",
     "exception": false,
     "start_time": "2023-09-08T08:44:46.630795",
     "status": "completed"
    },
    "tags": []
   },
   "outputs": [
    {
     "data": {
      "text/html": [
       "<div>\n",
       "<style scoped>\n",
       "    .dataframe tbody tr th:only-of-type {\n",
       "        vertical-align: middle;\n",
       "    }\n",
       "\n",
       "    .dataframe tbody tr th {\n",
       "        vertical-align: top;\n",
       "    }\n",
       "\n",
       "    .dataframe thead th {\n",
       "        text-align: right;\n",
       "    }\n",
       "</style>\n",
       "<table border=\"1\" class=\"dataframe\">\n",
       "  <thead>\n",
       "    <tr style=\"text-align: right;\">\n",
       "      <th></th>\n",
       "      <th>Amount_in_rupees</th>\n",
       "      <th>Price_in_rupees</th>\n",
       "      <th>Carpet_Area_in_sqft</th>\n",
       "      <th>Floor</th>\n",
       "      <th>Transaction</th>\n",
       "      <th>Furnishing</th>\n",
       "      <th>facing</th>\n",
       "      <th>overlooking</th>\n",
       "      <th>Bathroom</th>\n",
       "      <th>Ownership</th>\n",
       "      <th>agra</th>\n",
       "      <th>ahmadnagar</th>\n",
       "      <th>ahmedabad</th>\n",
       "      <th>allahabad</th>\n",
       "      <th>aurangabad</th>\n",
       "      <th>badlapur</th>\n",
       "      <th>bangalore</th>\n",
       "      <th>belgaum</th>\n",
       "      <th>bhiwadi</th>\n",
       "      <th>bhiwandi</th>\n",
       "      <th>bhopal</th>\n",
       "      <th>bhubaneswar</th>\n",
       "      <th>chandigarh</th>\n",
       "      <th>chennai</th>\n",
       "      <th>coimbatore</th>\n",
       "      <th>dehradun</th>\n",
       "      <th>durgapur</th>\n",
       "      <th>ernakulam</th>\n",
       "      <th>faridabad</th>\n",
       "      <th>ghaziabad</th>\n",
       "      <th>goa</th>\n",
       "      <th>greater-noida</th>\n",
       "      <th>guntur</th>\n",
       "      <th>gurgaon</th>\n",
       "      <th>guwahati</th>\n",
       "      <th>gwalior</th>\n",
       "      <th>haridwar</th>\n",
       "      <th>hyderabad</th>\n",
       "      <th>indore</th>\n",
       "      <th>jabalpur</th>\n",
       "      <th>jaipur</th>\n",
       "      <th>jamshedpur</th>\n",
       "      <th>jodhpur</th>\n",
       "      <th>kalyan</th>\n",
       "      <th>kanpur</th>\n",
       "      <th>kochi</th>\n",
       "      <th>kolkata</th>\n",
       "      <th>kozhikode</th>\n",
       "      <th>lucknow</th>\n",
       "      <th>ludhiana</th>\n",
       "      <th>madurai</th>\n",
       "      <th>mangalore</th>\n",
       "      <th>mohali</th>\n",
       "      <th>mumbai</th>\n",
       "      <th>mysore</th>\n",
       "      <th>nagpur</th>\n",
       "      <th>nashik</th>\n",
       "      <th>navi-mumbai</th>\n",
       "      <th>navsari</th>\n",
       "      <th>nellore</th>\n",
       "      <th>new-delhi</th>\n",
       "      <th>noida</th>\n",
       "      <th>palakkad</th>\n",
       "      <th>palghar</th>\n",
       "      <th>panchkula</th>\n",
       "      <th>patna</th>\n",
       "      <th>pondicherry</th>\n",
       "      <th>pune</th>\n",
       "      <th>raipur</th>\n",
       "      <th>rajahmundry</th>\n",
       "      <th>ranchi</th>\n",
       "      <th>satara</th>\n",
       "      <th>shimla</th>\n",
       "      <th>siliguri</th>\n",
       "      <th>solapur</th>\n",
       "      <th>sonipat</th>\n",
       "      <th>surat</th>\n",
       "      <th>thane</th>\n",
       "      <th>thrissur</th>\n",
       "      <th>tirupati</th>\n",
       "      <th>trichy</th>\n",
       "      <th>trivandrum</th>\n",
       "      <th>udaipur</th>\n",
       "      <th>udupi</th>\n",
       "      <th>vadodara</th>\n",
       "      <th>vapi</th>\n",
       "      <th>varanasi</th>\n",
       "      <th>vijayawada</th>\n",
       "      <th>visakhapatnam</th>\n",
       "      <th>vrindavan</th>\n",
       "      <th>zirakpur</th>\n",
       "    </tr>\n",
       "    <tr>\n",
       "      <th>Index</th>\n",
       "      <th></th>\n",
       "      <th></th>\n",
       "      <th></th>\n",
       "      <th></th>\n",
       "      <th></th>\n",
       "      <th></th>\n",
       "      <th></th>\n",
       "      <th></th>\n",
       "      <th></th>\n",
       "      <th></th>\n",
       "      <th></th>\n",
       "      <th></th>\n",
       "      <th></th>\n",
       "      <th></th>\n",
       "      <th></th>\n",
       "      <th></th>\n",
       "      <th></th>\n",
       "      <th></th>\n",
       "      <th></th>\n",
       "      <th></th>\n",
       "      <th></th>\n",
       "      <th></th>\n",
       "      <th></th>\n",
       "      <th></th>\n",
       "      <th></th>\n",
       "      <th></th>\n",
       "      <th></th>\n",
       "      <th></th>\n",
       "      <th></th>\n",
       "      <th></th>\n",
       "      <th></th>\n",
       "      <th></th>\n",
       "      <th></th>\n",
       "      <th></th>\n",
       "      <th></th>\n",
       "      <th></th>\n",
       "      <th></th>\n",
       "      <th></th>\n",
       "      <th></th>\n",
       "      <th></th>\n",
       "      <th></th>\n",
       "      <th></th>\n",
       "      <th></th>\n",
       "      <th></th>\n",
       "      <th></th>\n",
       "      <th></th>\n",
       "      <th></th>\n",
       "      <th></th>\n",
       "      <th></th>\n",
       "      <th></th>\n",
       "      <th></th>\n",
       "      <th></th>\n",
       "      <th></th>\n",
       "      <th></th>\n",
       "      <th></th>\n",
       "      <th></th>\n",
       "      <th></th>\n",
       "      <th></th>\n",
       "      <th></th>\n",
       "      <th></th>\n",
       "      <th></th>\n",
       "      <th></th>\n",
       "      <th></th>\n",
       "      <th></th>\n",
       "      <th></th>\n",
       "      <th></th>\n",
       "      <th></th>\n",
       "      <th></th>\n",
       "      <th></th>\n",
       "      <th></th>\n",
       "      <th></th>\n",
       "      <th></th>\n",
       "      <th></th>\n",
       "      <th></th>\n",
       "      <th></th>\n",
       "      <th></th>\n",
       "      <th></th>\n",
       "      <th></th>\n",
       "      <th></th>\n",
       "      <th></th>\n",
       "      <th></th>\n",
       "      <th></th>\n",
       "      <th></th>\n",
       "      <th></th>\n",
       "      <th></th>\n",
       "      <th></th>\n",
       "      <th></th>\n",
       "      <th></th>\n",
       "      <th></th>\n",
       "      <th></th>\n",
       "      <th></th>\n",
       "    </tr>\n",
       "  </thead>\n",
       "  <tbody>\n",
       "    <tr>\n",
       "      <th>0</th>\n",
       "      <td>4200000.0</td>\n",
       "      <td>6000.0</td>\n",
       "      <td>500.0</td>\n",
       "      <td>10 out of 11</td>\n",
       "      <td>Resale</td>\n",
       "      <td>Unfurnished</td>\n",
       "      <td>Unknown</td>\n",
       "      <td>Unknown</td>\n",
       "      <td>1.0</td>\n",
       "      <td>Unknown</td>\n",
       "      <td>0</td>\n",
       "      <td>0</td>\n",
       "      <td>0</td>\n",
       "      <td>0</td>\n",
       "      <td>0</td>\n",
       "      <td>0</td>\n",
       "      <td>0</td>\n",
       "      <td>0</td>\n",
       "      <td>0</td>\n",
       "      <td>0</td>\n",
       "      <td>0</td>\n",
       "      <td>0</td>\n",
       "      <td>0</td>\n",
       "      <td>0</td>\n",
       "      <td>0</td>\n",
       "      <td>0</td>\n",
       "      <td>0</td>\n",
       "      <td>0</td>\n",
       "      <td>0</td>\n",
       "      <td>0</td>\n",
       "      <td>0</td>\n",
       "      <td>0</td>\n",
       "      <td>0</td>\n",
       "      <td>0</td>\n",
       "      <td>0</td>\n",
       "      <td>0</td>\n",
       "      <td>0</td>\n",
       "      <td>0</td>\n",
       "      <td>0</td>\n",
       "      <td>0</td>\n",
       "      <td>0</td>\n",
       "      <td>0</td>\n",
       "      <td>0</td>\n",
       "      <td>0</td>\n",
       "      <td>0</td>\n",
       "      <td>0</td>\n",
       "      <td>0</td>\n",
       "      <td>0</td>\n",
       "      <td>0</td>\n",
       "      <td>0</td>\n",
       "      <td>0</td>\n",
       "      <td>0</td>\n",
       "      <td>0</td>\n",
       "      <td>0</td>\n",
       "      <td>0</td>\n",
       "      <td>0</td>\n",
       "      <td>0</td>\n",
       "      <td>0</td>\n",
       "      <td>0</td>\n",
       "      <td>0</td>\n",
       "      <td>0</td>\n",
       "      <td>0</td>\n",
       "      <td>0</td>\n",
       "      <td>0</td>\n",
       "      <td>0</td>\n",
       "      <td>0</td>\n",
       "      <td>0</td>\n",
       "      <td>0</td>\n",
       "      <td>0</td>\n",
       "      <td>0</td>\n",
       "      <td>0</td>\n",
       "      <td>0</td>\n",
       "      <td>0</td>\n",
       "      <td>0</td>\n",
       "      <td>0</td>\n",
       "      <td>0</td>\n",
       "      <td>0</td>\n",
       "      <td>1</td>\n",
       "      <td>0</td>\n",
       "      <td>0</td>\n",
       "      <td>0</td>\n",
       "      <td>0</td>\n",
       "      <td>0</td>\n",
       "      <td>0</td>\n",
       "      <td>0</td>\n",
       "      <td>0</td>\n",
       "      <td>0</td>\n",
       "      <td>0</td>\n",
       "      <td>0</td>\n",
       "      <td>0</td>\n",
       "      <td>0</td>\n",
       "    </tr>\n",
       "    <tr>\n",
       "      <th>1</th>\n",
       "      <td>9800000.0</td>\n",
       "      <td>13799.0</td>\n",
       "      <td>473.0</td>\n",
       "      <td>3 out of 22</td>\n",
       "      <td>Resale</td>\n",
       "      <td>Semi-Furnished</td>\n",
       "      <td>East</td>\n",
       "      <td>Garden/Park</td>\n",
       "      <td>2.0</td>\n",
       "      <td>Freehold</td>\n",
       "      <td>0</td>\n",
       "      <td>0</td>\n",
       "      <td>0</td>\n",
       "      <td>0</td>\n",
       "      <td>0</td>\n",
       "      <td>0</td>\n",
       "      <td>0</td>\n",
       "      <td>0</td>\n",
       "      <td>0</td>\n",
       "      <td>0</td>\n",
       "      <td>0</td>\n",
       "      <td>0</td>\n",
       "      <td>0</td>\n",
       "      <td>0</td>\n",
       "      <td>0</td>\n",
       "      <td>0</td>\n",
       "      <td>0</td>\n",
       "      <td>0</td>\n",
       "      <td>0</td>\n",
       "      <td>0</td>\n",
       "      <td>0</td>\n",
       "      <td>0</td>\n",
       "      <td>0</td>\n",
       "      <td>0</td>\n",
       "      <td>0</td>\n",
       "      <td>0</td>\n",
       "      <td>0</td>\n",
       "      <td>0</td>\n",
       "      <td>0</td>\n",
       "      <td>0</td>\n",
       "      <td>0</td>\n",
       "      <td>0</td>\n",
       "      <td>0</td>\n",
       "      <td>0</td>\n",
       "      <td>0</td>\n",
       "      <td>0</td>\n",
       "      <td>0</td>\n",
       "      <td>0</td>\n",
       "      <td>0</td>\n",
       "      <td>0</td>\n",
       "      <td>0</td>\n",
       "      <td>0</td>\n",
       "      <td>0</td>\n",
       "      <td>0</td>\n",
       "      <td>0</td>\n",
       "      <td>0</td>\n",
       "      <td>0</td>\n",
       "      <td>0</td>\n",
       "      <td>0</td>\n",
       "      <td>0</td>\n",
       "      <td>0</td>\n",
       "      <td>0</td>\n",
       "      <td>0</td>\n",
       "      <td>0</td>\n",
       "      <td>0</td>\n",
       "      <td>0</td>\n",
       "      <td>0</td>\n",
       "      <td>0</td>\n",
       "      <td>0</td>\n",
       "      <td>0</td>\n",
       "      <td>0</td>\n",
       "      <td>0</td>\n",
       "      <td>0</td>\n",
       "      <td>0</td>\n",
       "      <td>0</td>\n",
       "      <td>0</td>\n",
       "      <td>0</td>\n",
       "      <td>1</td>\n",
       "      <td>0</td>\n",
       "      <td>0</td>\n",
       "      <td>0</td>\n",
       "      <td>0</td>\n",
       "      <td>0</td>\n",
       "      <td>0</td>\n",
       "      <td>0</td>\n",
       "      <td>0</td>\n",
       "      <td>0</td>\n",
       "      <td>0</td>\n",
       "      <td>0</td>\n",
       "      <td>0</td>\n",
       "      <td>0</td>\n",
       "    </tr>\n",
       "  </tbody>\n",
       "</table>\n",
       "</div>"
      ],
      "text/plain": [
       "       Amount_in_rupees  Price_in_rupees  Carpet_Area_in_sqft         Floor  \\\n",
       "Index                                                                         \n",
       "0             4200000.0           6000.0                500.0  10 out of 11   \n",
       "1             9800000.0          13799.0                473.0   3 out of 22   \n",
       "\n",
       "      Transaction      Furnishing   facing  overlooking  Bathroom Ownership  \\\n",
       "Index                                                                         \n",
       "0          Resale     Unfurnished  Unknown      Unknown       1.0   Unknown   \n",
       "1          Resale  Semi-Furnished     East  Garden/Park       2.0  Freehold   \n",
       "\n",
       "       agra  ahmadnagar  ahmedabad  allahabad  aurangabad  badlapur  \\\n",
       "Index                                                                 \n",
       "0         0           0          0          0           0         0   \n",
       "1         0           0          0          0           0         0   \n",
       "\n",
       "       bangalore  belgaum  bhiwadi  bhiwandi  bhopal  bhubaneswar  chandigarh  \\\n",
       "Index                                                                           \n",
       "0              0        0        0         0       0            0           0   \n",
       "1              0        0        0         0       0            0           0   \n",
       "\n",
       "       chennai  coimbatore  dehradun  durgapur  ernakulam  faridabad  \\\n",
       "Index                                                                  \n",
       "0            0           0         0         0          0          0   \n",
       "1            0           0         0         0          0          0   \n",
       "\n",
       "       ghaziabad  goa  greater-noida  guntur  gurgaon  guwahati  gwalior  \\\n",
       "Index                                                                      \n",
       "0              0    0              0       0        0         0        0   \n",
       "1              0    0              0       0        0         0        0   \n",
       "\n",
       "       haridwar  hyderabad  indore  jabalpur  jaipur  jamshedpur  jodhpur  \\\n",
       "Index                                                                       \n",
       "0             0          0       0         0       0           0        0   \n",
       "1             0          0       0         0       0           0        0   \n",
       "\n",
       "       kalyan  kanpur  kochi  kolkata  kozhikode  lucknow  ludhiana  madurai  \\\n",
       "Index                                                                          \n",
       "0           0       0      0        0          0        0         0        0   \n",
       "1           0       0      0        0          0        0         0        0   \n",
       "\n",
       "       mangalore  mohali  mumbai  mysore  nagpur  nashik  navi-mumbai  \\\n",
       "Index                                                                   \n",
       "0              0       0       0       0       0       0            0   \n",
       "1              0       0       0       0       0       0            0   \n",
       "\n",
       "       navsari  nellore  new-delhi  noida  palakkad  palghar  panchkula  \\\n",
       "Index                                                                     \n",
       "0            0        0          0      0         0        0          0   \n",
       "1            0        0          0      0         0        0          0   \n",
       "\n",
       "       patna  pondicherry  pune  raipur  rajahmundry  ranchi  satara  shimla  \\\n",
       "Index                                                                          \n",
       "0          0            0     0       0            0       0       0       0   \n",
       "1          0            0     0       0            0       0       0       0   \n",
       "\n",
       "       siliguri  solapur  sonipat  surat  thane  thrissur  tirupati  trichy  \\\n",
       "Index                                                                         \n",
       "0             0        0        0      0      1         0         0       0   \n",
       "1             0        0        0      0      1         0         0       0   \n",
       "\n",
       "       trivandrum  udaipur  udupi  vadodara  vapi  varanasi  vijayawada  \\\n",
       "Index                                                                     \n",
       "0               0        0      0         0     0         0           0   \n",
       "1               0        0      0         0     0         0           0   \n",
       "\n",
       "       visakhapatnam  vrindavan  zirakpur  \n",
       "Index                                      \n",
       "0                  0          0         0  \n",
       "1                  0          0         0  "
      ]
     },
     "execution_count": 62,
     "metadata": {},
     "output_type": "execute_result"
    }
   ],
   "source": [
    "df7 = df6.drop('location',axis='columns')\n",
    "df7.head(2)"
   ]
  },
  {
   "cell_type": "markdown",
   "id": "d726857c",
   "metadata": {
    "papermill": {
     "duration": 0.040776,
     "end_time": "2023-09-08T08:44:46.855616",
     "exception": false,
     "start_time": "2023-09-08T08:44:46.814840",
     "status": "completed"
    },
    "tags": []
   },
   "source": [
    "# ML Models Building\n"
   ]
  },
  {
   "cell_type": "code",
   "execution_count": 63,
   "id": "b386a91f",
   "metadata": {
    "execution": {
     "iopub.execute_input": "2023-09-08T08:44:46.940114Z",
     "iopub.status.busy": "2023-09-08T08:44:46.939164Z",
     "iopub.status.idle": "2023-09-08T08:44:47.082257Z",
     "shell.execute_reply": "2023-09-08T08:44:47.081365Z"
    },
    "papermill": {
     "duration": 0.187944,
     "end_time": "2023-09-08T08:44:47.084963",
     "exception": false,
     "start_time": "2023-09-08T08:44:46.897019",
     "status": "completed"
    },
    "tags": []
   },
   "outputs": [
    {
     "name": "stdout",
     "output_type": "stream",
     "text": [
      "<class 'pandas.core.frame.DataFrame'>\n",
      "Index: 187531 entries, 0 to 187530\n",
      "Data columns (total 91 columns):\n",
      " #   Column               Non-Null Count   Dtype  \n",
      "---  ------               --------------   -----  \n",
      " 0   Amount_in_rupees     187531 non-null  float64\n",
      " 1   Price_in_rupees      187531 non-null  float64\n",
      " 2   Carpet_Area_in_sqft  187531 non-null  float64\n",
      " 3   Floor                187531 non-null  object \n",
      " 4   Transaction          187531 non-null  object \n",
      " 5   Furnishing           187531 non-null  object \n",
      " 6   facing               187531 non-null  object \n",
      " 7   overlooking          187531 non-null  object \n",
      " 8   Bathroom             187531 non-null  float64\n",
      " 9   Ownership            187531 non-null  object \n",
      " 10  agra                 187531 non-null  int64  \n",
      " 11  ahmadnagar           187531 non-null  int64  \n",
      " 12  ahmedabad            187531 non-null  int64  \n",
      " 13  allahabad            187531 non-null  int64  \n",
      " 14  aurangabad           187531 non-null  int64  \n",
      " 15  badlapur             187531 non-null  int64  \n",
      " 16  bangalore            187531 non-null  int64  \n",
      " 17  belgaum              187531 non-null  int64  \n",
      " 18  bhiwadi              187531 non-null  int64  \n",
      " 19  bhiwandi             187531 non-null  int64  \n",
      " 20  bhopal               187531 non-null  int64  \n",
      " 21  bhubaneswar          187531 non-null  int64  \n",
      " 22  chandigarh           187531 non-null  int64  \n",
      " 23  chennai              187531 non-null  int64  \n",
      " 24  coimbatore           187531 non-null  int64  \n",
      " 25  dehradun             187531 non-null  int64  \n",
      " 26  durgapur             187531 non-null  int64  \n",
      " 27  ernakulam            187531 non-null  int64  \n",
      " 28  faridabad            187531 non-null  int64  \n",
      " 29  ghaziabad            187531 non-null  int64  \n",
      " 30  goa                  187531 non-null  int64  \n",
      " 31  greater-noida        187531 non-null  int64  \n",
      " 32  guntur               187531 non-null  int64  \n",
      " 33  gurgaon              187531 non-null  int64  \n",
      " 34  guwahati             187531 non-null  int64  \n",
      " 35  gwalior              187531 non-null  int64  \n",
      " 36  haridwar             187531 non-null  int64  \n",
      " 37  hyderabad            187531 non-null  int64  \n",
      " 38  indore               187531 non-null  int64  \n",
      " 39  jabalpur             187531 non-null  int64  \n",
      " 40  jaipur               187531 non-null  int64  \n",
      " 41  jamshedpur           187531 non-null  int64  \n",
      " 42  jodhpur              187531 non-null  int64  \n",
      " 43  kalyan               187531 non-null  int64  \n",
      " 44  kanpur               187531 non-null  int64  \n",
      " 45  kochi                187531 non-null  int64  \n",
      " 46  kolkata              187531 non-null  int64  \n",
      " 47  kozhikode            187531 non-null  int64  \n",
      " 48  lucknow              187531 non-null  int64  \n",
      " 49  ludhiana             187531 non-null  int64  \n",
      " 50  madurai              187531 non-null  int64  \n",
      " 51  mangalore            187531 non-null  int64  \n",
      " 52  mohali               187531 non-null  int64  \n",
      " 53  mumbai               187531 non-null  int64  \n",
      " 54  mysore               187531 non-null  int64  \n",
      " 55  nagpur               187531 non-null  int64  \n",
      " 56  nashik               187531 non-null  int64  \n",
      " 57  navi-mumbai          187531 non-null  int64  \n",
      " 58  navsari              187531 non-null  int64  \n",
      " 59  nellore              187531 non-null  int64  \n",
      " 60  new-delhi            187531 non-null  int64  \n",
      " 61  noida                187531 non-null  int64  \n",
      " 62  palakkad             187531 non-null  int64  \n",
      " 63  palghar              187531 non-null  int64  \n",
      " 64  panchkula            187531 non-null  int64  \n",
      " 65  patna                187531 non-null  int64  \n",
      " 66  pondicherry          187531 non-null  int64  \n",
      " 67  pune                 187531 non-null  int64  \n",
      " 68  raipur               187531 non-null  int64  \n",
      " 69  rajahmundry          187531 non-null  int64  \n",
      " 70  ranchi               187531 non-null  int64  \n",
      " 71  satara               187531 non-null  int64  \n",
      " 72  shimla               187531 non-null  int64  \n",
      " 73  siliguri             187531 non-null  int64  \n",
      " 74  solapur              187531 non-null  int64  \n",
      " 75  sonipat              187531 non-null  int64  \n",
      " 76  surat                187531 non-null  int64  \n",
      " 77  thane                187531 non-null  int64  \n",
      " 78  thrissur             187531 non-null  int64  \n",
      " 79  tirupati             187531 non-null  int64  \n",
      " 80  trichy               187531 non-null  int64  \n",
      " 81  trivandrum           187531 non-null  int64  \n",
      " 82  udaipur              187531 non-null  int64  \n",
      " 83  udupi                187531 non-null  int64  \n",
      " 84  vadodara             187531 non-null  int64  \n",
      " 85  vapi                 187531 non-null  int64  \n",
      " 86  varanasi             187531 non-null  int64  \n",
      " 87  vijayawada           187531 non-null  int64  \n",
      " 88  visakhapatnam        187531 non-null  int64  \n",
      " 89  vrindavan            187531 non-null  int64  \n",
      " 90  zirakpur             187531 non-null  int64  \n",
      "dtypes: float64(4), int64(81), object(6)\n",
      "memory usage: 135.7+ MB\n"
     ]
    }
   ],
   "source": [
    "## to see the latest information\n",
    "df7.info()"
   ]
  },
  {
   "cell_type": "markdown",
   "id": "42cb5e0e",
   "metadata": {
    "papermill": {
     "duration": 0.042571,
     "end_time": "2023-09-08T08:44:47.169950",
     "exception": false,
     "start_time": "2023-09-08T08:44:47.127379",
     "status": "completed"
    },
    "tags": []
   },
   "source": [
    "### LabelEncoding for each Categorical Variables"
   ]
  },
  {
   "cell_type": "code",
   "execution_count": 64,
   "id": "c73a6551",
   "metadata": {
    "execution": {
     "iopub.execute_input": "2023-09-08T08:44:47.312705Z",
     "iopub.status.busy": "2023-09-08T08:44:47.312244Z",
     "iopub.status.idle": "2023-09-08T08:44:47.853215Z",
     "shell.execute_reply": "2023-09-08T08:44:47.852221Z"
    },
    "papermill": {
     "duration": 0.632531,
     "end_time": "2023-09-08T08:44:47.855876",
     "exception": false,
     "start_time": "2023-09-08T08:44:47.223345",
     "status": "completed"
    },
    "tags": []
   },
   "outputs": [],
   "source": [
    "from sklearn.preprocessing import LabelEncoder\n",
    "# Function to perform Label Encoding for multiple columns\n",
    "def label_encode_multiple(df7, columns):\n",
    "    le = LabelEncoder()\n",
    "    for column in columns:\n",
    "        df7[column] = le.fit_transform(df7[column])\n",
    "    return df7\n",
    "\n",
    "label_encode_columns = ['Transaction','Floor', 'Furnishing', 'facing', 'overlooking', 'Ownership']\n",
    "df8 = label_encode_multiple(df7, label_encode_columns)"
   ]
  },
  {
   "cell_type": "code",
   "execution_count": 65,
   "id": "455e25ff",
   "metadata": {
    "execution": {
     "iopub.execute_input": "2023-09-08T08:44:47.941150Z",
     "iopub.status.busy": "2023-09-08T08:44:47.940405Z",
     "iopub.status.idle": "2023-09-08T08:44:47.973373Z",
     "shell.execute_reply": "2023-09-08T08:44:47.972426Z"
    },
    "papermill": {
     "duration": 0.077524,
     "end_time": "2023-09-08T08:44:47.975532",
     "exception": false,
     "start_time": "2023-09-08T08:44:47.898008",
     "status": "completed"
    },
    "tags": []
   },
   "outputs": [
    {
     "name": "stdout",
     "output_type": "stream",
     "text": [
      "<class 'pandas.core.frame.DataFrame'>\n",
      "Index: 187531 entries, 0 to 187530\n",
      "Data columns (total 91 columns):\n",
      " #   Column               Non-Null Count   Dtype  \n",
      "---  ------               --------------   -----  \n",
      " 0   Amount_in_rupees     187531 non-null  float64\n",
      " 1   Price_in_rupees      187531 non-null  float64\n",
      " 2   Carpet_Area_in_sqft  187531 non-null  float64\n",
      " 3   Floor                187531 non-null  int64  \n",
      " 4   Transaction          187531 non-null  int64  \n",
      " 5   Furnishing           187531 non-null  int64  \n",
      " 6   facing               187531 non-null  int64  \n",
      " 7   overlooking          187531 non-null  int64  \n",
      " 8   Bathroom             187531 non-null  float64\n",
      " 9   Ownership            187531 non-null  int64  \n",
      " 10  agra                 187531 non-null  int64  \n",
      " 11  ahmadnagar           187531 non-null  int64  \n",
      " 12  ahmedabad            187531 non-null  int64  \n",
      " 13  allahabad            187531 non-null  int64  \n",
      " 14  aurangabad           187531 non-null  int64  \n",
      " 15  badlapur             187531 non-null  int64  \n",
      " 16  bangalore            187531 non-null  int64  \n",
      " 17  belgaum              187531 non-null  int64  \n",
      " 18  bhiwadi              187531 non-null  int64  \n",
      " 19  bhiwandi             187531 non-null  int64  \n",
      " 20  bhopal               187531 non-null  int64  \n",
      " 21  bhubaneswar          187531 non-null  int64  \n",
      " 22  chandigarh           187531 non-null  int64  \n",
      " 23  chennai              187531 non-null  int64  \n",
      " 24  coimbatore           187531 non-null  int64  \n",
      " 25  dehradun             187531 non-null  int64  \n",
      " 26  durgapur             187531 non-null  int64  \n",
      " 27  ernakulam            187531 non-null  int64  \n",
      " 28  faridabad            187531 non-null  int64  \n",
      " 29  ghaziabad            187531 non-null  int64  \n",
      " 30  goa                  187531 non-null  int64  \n",
      " 31  greater-noida        187531 non-null  int64  \n",
      " 32  guntur               187531 non-null  int64  \n",
      " 33  gurgaon              187531 non-null  int64  \n",
      " 34  guwahati             187531 non-null  int64  \n",
      " 35  gwalior              187531 non-null  int64  \n",
      " 36  haridwar             187531 non-null  int64  \n",
      " 37  hyderabad            187531 non-null  int64  \n",
      " 38  indore               187531 non-null  int64  \n",
      " 39  jabalpur             187531 non-null  int64  \n",
      " 40  jaipur               187531 non-null  int64  \n",
      " 41  jamshedpur           187531 non-null  int64  \n",
      " 42  jodhpur              187531 non-null  int64  \n",
      " 43  kalyan               187531 non-null  int64  \n",
      " 44  kanpur               187531 non-null  int64  \n",
      " 45  kochi                187531 non-null  int64  \n",
      " 46  kolkata              187531 non-null  int64  \n",
      " 47  kozhikode            187531 non-null  int64  \n",
      " 48  lucknow              187531 non-null  int64  \n",
      " 49  ludhiana             187531 non-null  int64  \n",
      " 50  madurai              187531 non-null  int64  \n",
      " 51  mangalore            187531 non-null  int64  \n",
      " 52  mohali               187531 non-null  int64  \n",
      " 53  mumbai               187531 non-null  int64  \n",
      " 54  mysore               187531 non-null  int64  \n",
      " 55  nagpur               187531 non-null  int64  \n",
      " 56  nashik               187531 non-null  int64  \n",
      " 57  navi-mumbai          187531 non-null  int64  \n",
      " 58  navsari              187531 non-null  int64  \n",
      " 59  nellore              187531 non-null  int64  \n",
      " 60  new-delhi            187531 non-null  int64  \n",
      " 61  noida                187531 non-null  int64  \n",
      " 62  palakkad             187531 non-null  int64  \n",
      " 63  palghar              187531 non-null  int64  \n",
      " 64  panchkula            187531 non-null  int64  \n",
      " 65  patna                187531 non-null  int64  \n",
      " 66  pondicherry          187531 non-null  int64  \n",
      " 67  pune                 187531 non-null  int64  \n",
      " 68  raipur               187531 non-null  int64  \n",
      " 69  rajahmundry          187531 non-null  int64  \n",
      " 70  ranchi               187531 non-null  int64  \n",
      " 71  satara               187531 non-null  int64  \n",
      " 72  shimla               187531 non-null  int64  \n",
      " 73  siliguri             187531 non-null  int64  \n",
      " 74  solapur              187531 non-null  int64  \n",
      " 75  sonipat              187531 non-null  int64  \n",
      " 76  surat                187531 non-null  int64  \n",
      " 77  thane                187531 non-null  int64  \n",
      " 78  thrissur             187531 non-null  int64  \n",
      " 79  tirupati             187531 non-null  int64  \n",
      " 80  trichy               187531 non-null  int64  \n",
      " 81  trivandrum           187531 non-null  int64  \n",
      " 82  udaipur              187531 non-null  int64  \n",
      " 83  udupi                187531 non-null  int64  \n",
      " 84  vadodara             187531 non-null  int64  \n",
      " 85  vapi                 187531 non-null  int64  \n",
      " 86  varanasi             187531 non-null  int64  \n",
      " 87  vijayawada           187531 non-null  int64  \n",
      " 88  visakhapatnam        187531 non-null  int64  \n",
      " 89  vrindavan            187531 non-null  int64  \n",
      " 90  zirakpur             187531 non-null  int64  \n",
      "dtypes: float64(4), int64(87)\n",
      "memory usage: 135.7 MB\n"
     ]
    }
   ],
   "source": [
    "## to see the latest information\n",
    "df8.info()"
   ]
  },
  {
   "cell_type": "markdown",
   "id": "da244aa6",
   "metadata": {
    "papermill": {
     "duration": 0.041501,
     "end_time": "2023-09-08T08:44:48.058535",
     "exception": false,
     "start_time": "2023-09-08T08:44:48.017034",
     "status": "completed"
    },
    "tags": []
   },
   "source": [
    "# Feature Scaling"
   ]
  },
  {
   "cell_type": "code",
   "execution_count": 66,
   "id": "7da1d427",
   "metadata": {
    "execution": {
     "iopub.execute_input": "2023-09-08T08:44:48.142124Z",
     "iopub.status.busy": "2023-09-08T08:44:48.141800Z",
     "iopub.status.idle": "2023-09-08T08:44:48.434389Z",
     "shell.execute_reply": "2023-09-08T08:44:48.433348Z"
    },
    "papermill": {
     "duration": 0.337435,
     "end_time": "2023-09-08T08:44:48.436917",
     "exception": false,
     "start_time": "2023-09-08T08:44:48.099482",
     "status": "completed"
    },
    "tags": []
   },
   "outputs": [],
   "source": [
    "from sklearn.preprocessing import StandardScaler\n",
    "# Standardization\n",
    "fc = StandardScaler()\n",
    "df8_standardized = fc.fit_transform(df8)\n",
    "df = pd.DataFrame(df8_standardized, columns=df8.columns)"
   ]
  },
  {
   "cell_type": "code",
   "execution_count": 67,
   "id": "b77997ad",
   "metadata": {
    "execution": {
     "iopub.execute_input": "2023-09-08T08:44:48.522822Z",
     "iopub.status.busy": "2023-09-08T08:44:48.522174Z",
     "iopub.status.idle": "2023-09-08T08:44:48.595139Z",
     "shell.execute_reply": "2023-09-08T08:44:48.594136Z"
    },
    "papermill": {
     "duration": 0.117955,
     "end_time": "2023-09-08T08:44:48.597364",
     "exception": false,
     "start_time": "2023-09-08T08:44:48.479409",
     "status": "completed"
    },
    "tags": []
   },
   "outputs": [
    {
     "data": {
      "text/html": [
       "<div>\n",
       "<style scoped>\n",
       "    .dataframe tbody tr th:only-of-type {\n",
       "        vertical-align: middle;\n",
       "    }\n",
       "\n",
       "    .dataframe tbody tr th {\n",
       "        vertical-align: top;\n",
       "    }\n",
       "\n",
       "    .dataframe thead th {\n",
       "        text-align: right;\n",
       "    }\n",
       "</style>\n",
       "<table border=\"1\" class=\"dataframe\">\n",
       "  <thead>\n",
       "    <tr style=\"text-align: right;\">\n",
       "      <th></th>\n",
       "      <th>Amount_in_rupees</th>\n",
       "      <th>Price_in_rupees</th>\n",
       "      <th>Carpet_Area_in_sqft</th>\n",
       "      <th>Floor</th>\n",
       "      <th>Transaction</th>\n",
       "      <th>Furnishing</th>\n",
       "      <th>facing</th>\n",
       "      <th>overlooking</th>\n",
       "      <th>Bathroom</th>\n",
       "      <th>Ownership</th>\n",
       "      <th>agra</th>\n",
       "      <th>ahmadnagar</th>\n",
       "      <th>ahmedabad</th>\n",
       "      <th>allahabad</th>\n",
       "      <th>aurangabad</th>\n",
       "      <th>badlapur</th>\n",
       "      <th>bangalore</th>\n",
       "      <th>belgaum</th>\n",
       "      <th>bhiwadi</th>\n",
       "      <th>bhiwandi</th>\n",
       "      <th>bhopal</th>\n",
       "      <th>bhubaneswar</th>\n",
       "      <th>chandigarh</th>\n",
       "      <th>chennai</th>\n",
       "      <th>coimbatore</th>\n",
       "      <th>dehradun</th>\n",
       "      <th>durgapur</th>\n",
       "      <th>ernakulam</th>\n",
       "      <th>faridabad</th>\n",
       "      <th>ghaziabad</th>\n",
       "      <th>goa</th>\n",
       "      <th>greater-noida</th>\n",
       "      <th>guntur</th>\n",
       "      <th>gurgaon</th>\n",
       "      <th>guwahati</th>\n",
       "      <th>gwalior</th>\n",
       "      <th>haridwar</th>\n",
       "      <th>hyderabad</th>\n",
       "      <th>indore</th>\n",
       "      <th>jabalpur</th>\n",
       "      <th>jaipur</th>\n",
       "      <th>jamshedpur</th>\n",
       "      <th>jodhpur</th>\n",
       "      <th>kalyan</th>\n",
       "      <th>kanpur</th>\n",
       "      <th>kochi</th>\n",
       "      <th>kolkata</th>\n",
       "      <th>kozhikode</th>\n",
       "      <th>lucknow</th>\n",
       "      <th>ludhiana</th>\n",
       "      <th>madurai</th>\n",
       "      <th>mangalore</th>\n",
       "      <th>mohali</th>\n",
       "      <th>mumbai</th>\n",
       "      <th>mysore</th>\n",
       "      <th>nagpur</th>\n",
       "      <th>nashik</th>\n",
       "      <th>navi-mumbai</th>\n",
       "      <th>navsari</th>\n",
       "      <th>nellore</th>\n",
       "      <th>new-delhi</th>\n",
       "      <th>noida</th>\n",
       "      <th>palakkad</th>\n",
       "      <th>palghar</th>\n",
       "      <th>panchkula</th>\n",
       "      <th>patna</th>\n",
       "      <th>pondicherry</th>\n",
       "      <th>pune</th>\n",
       "      <th>raipur</th>\n",
       "      <th>rajahmundry</th>\n",
       "      <th>ranchi</th>\n",
       "      <th>satara</th>\n",
       "      <th>shimla</th>\n",
       "      <th>siliguri</th>\n",
       "      <th>solapur</th>\n",
       "      <th>sonipat</th>\n",
       "      <th>surat</th>\n",
       "      <th>thane</th>\n",
       "      <th>thrissur</th>\n",
       "      <th>tirupati</th>\n",
       "      <th>trichy</th>\n",
       "      <th>trivandrum</th>\n",
       "      <th>udaipur</th>\n",
       "      <th>udupi</th>\n",
       "      <th>vadodara</th>\n",
       "      <th>vapi</th>\n",
       "      <th>varanasi</th>\n",
       "      <th>vijayawada</th>\n",
       "      <th>visakhapatnam</th>\n",
       "      <th>vrindavan</th>\n",
       "      <th>zirakpur</th>\n",
       "    </tr>\n",
       "  </thead>\n",
       "  <tbody>\n",
       "    <tr>\n",
       "      <th>0</th>\n",
       "      <td>-0.202606</td>\n",
       "      <td>-6.108617e-02</td>\n",
       "      <td>-0.333677</td>\n",
       "      <td>-1.415544</td>\n",
       "      <td>0.547069</td>\n",
       "      <td>1.076630</td>\n",
       "      <td>1.063822</td>\n",
       "      <td>1.057353</td>\n",
       "      <td>-1.646284</td>\n",
       "      <td>1.341873</td>\n",
       "      <td>-0.049045</td>\n",
       "      <td>-0.012649</td>\n",
       "      <td>-0.27009</td>\n",
       "      <td>-0.030996</td>\n",
       "      <td>-0.049045</td>\n",
       "      <td>-0.045651</td>\n",
       "      <td>-0.383369</td>\n",
       "      <td>-0.01789</td>\n",
       "      <td>-0.075037</td>\n",
       "      <td>-0.021912</td>\n",
       "      <td>-0.02541</td>\n",
       "      <td>-0.049371</td>\n",
       "      <td>-0.087967</td>\n",
       "      <td>-0.24354</td>\n",
       "      <td>-0.062082</td>\n",
       "      <td>-0.07285</td>\n",
       "      <td>-0.028293</td>\n",
       "      <td>-0.030996</td>\n",
       "      <td>-0.144584</td>\n",
       "      <td>-0.070635</td>\n",
       "      <td>-0.080251</td>\n",
       "      <td>-0.160508</td>\n",
       "      <td>-0.037972</td>\n",
       "      <td>-0.346192</td>\n",
       "      <td>-0.063367</td>\n",
       "      <td>-0.028293</td>\n",
       "      <td>-0.030996</td>\n",
       "      <td>-0.26494</td>\n",
       "      <td>-0.027721</td>\n",
       "      <td>-0.025304</td>\n",
       "      <td>-0.21776</td>\n",
       "      <td>-0.058058</td>\n",
       "      <td>-0.01789</td>\n",
       "      <td>-0.056655</td>\n",
       "      <td>-0.064627</td>\n",
       "      <td>-0.075037</td>\n",
       "      <td>-0.36812</td>\n",
       "      <td>-0.01789</td>\n",
       "      <td>-0.069288</td>\n",
       "      <td>-0.028293</td>\n",
       "      <td>-0.012649</td>\n",
       "      <td>-0.049045</td>\n",
       "      <td>-0.095929</td>\n",
       "      <td>-0.100089</td>\n",
       "      <td>-0.030996</td>\n",
       "      <td>-0.061822</td>\n",
       "      <td>-0.042931</td>\n",
       "      <td>-0.061995</td>\n",
       "      <td>-0.012649</td>\n",
       "      <td>-0.012649</td>\n",
       "      <td>-0.415412</td>\n",
       "      <td>-0.082933</td>\n",
       "      <td>-0.012649</td>\n",
       "      <td>-0.05222</td>\n",
       "      <td>-0.043856</td>\n",
       "      <td>-0.064627</td>\n",
       "      <td>-0.012649</td>\n",
       "      <td>-0.109577</td>\n",
       "      <td>-0.05222</td>\n",
       "      <td>-0.021912</td>\n",
       "      <td>-0.076108</td>\n",
       "      <td>-0.01789</td>\n",
       "      <td>-0.01789</td>\n",
       "      <td>-0.045651</td>\n",
       "      <td>-0.012649</td>\n",
       "      <td>-0.063367</td>\n",
       "      <td>-0.113136</td>\n",
       "      <td>9.798751</td>\n",
       "      <td>-0.033482</td>\n",
       "      <td>-0.021912</td>\n",
       "      <td>-0.025304</td>\n",
       "      <td>-0.033482</td>\n",
       "      <td>-0.025304</td>\n",
       "      <td>-0.01789</td>\n",
       "      <td>-0.11357</td>\n",
       "      <td>-0.028293</td>\n",
       "      <td>-0.037972</td>\n",
       "      <td>-0.055216</td>\n",
       "      <td>-0.098445</td>\n",
       "      <td>-0.01789</td>\n",
       "      <td>-0.090696</td>\n",
       "    </tr>\n",
       "    <tr>\n",
       "      <th>1</th>\n",
       "      <td>-0.056796</td>\n",
       "      <td>2.397217e-01</td>\n",
       "      <td>-0.345408</td>\n",
       "      <td>0.378898</td>\n",
       "      <td>0.547069</td>\n",
       "      <td>-0.458287</td>\n",
       "      <td>-1.146945</td>\n",
       "      <td>-1.327164</td>\n",
       "      <td>-0.493472</td>\n",
       "      <td>-0.743276</td>\n",
       "      <td>-0.049045</td>\n",
       "      <td>-0.012649</td>\n",
       "      <td>-0.27009</td>\n",
       "      <td>-0.030996</td>\n",
       "      <td>-0.049045</td>\n",
       "      <td>-0.045651</td>\n",
       "      <td>-0.383369</td>\n",
       "      <td>-0.01789</td>\n",
       "      <td>-0.075037</td>\n",
       "      <td>-0.021912</td>\n",
       "      <td>-0.02541</td>\n",
       "      <td>-0.049371</td>\n",
       "      <td>-0.087967</td>\n",
       "      <td>-0.24354</td>\n",
       "      <td>-0.062082</td>\n",
       "      <td>-0.07285</td>\n",
       "      <td>-0.028293</td>\n",
       "      <td>-0.030996</td>\n",
       "      <td>-0.144584</td>\n",
       "      <td>-0.070635</td>\n",
       "      <td>-0.080251</td>\n",
       "      <td>-0.160508</td>\n",
       "      <td>-0.037972</td>\n",
       "      <td>-0.346192</td>\n",
       "      <td>-0.063367</td>\n",
       "      <td>-0.028293</td>\n",
       "      <td>-0.030996</td>\n",
       "      <td>-0.26494</td>\n",
       "      <td>-0.027721</td>\n",
       "      <td>-0.025304</td>\n",
       "      <td>-0.21776</td>\n",
       "      <td>-0.058058</td>\n",
       "      <td>-0.01789</td>\n",
       "      <td>-0.056655</td>\n",
       "      <td>-0.064627</td>\n",
       "      <td>-0.075037</td>\n",
       "      <td>-0.36812</td>\n",
       "      <td>-0.01789</td>\n",
       "      <td>-0.069288</td>\n",
       "      <td>-0.028293</td>\n",
       "      <td>-0.012649</td>\n",
       "      <td>-0.049045</td>\n",
       "      <td>-0.095929</td>\n",
       "      <td>-0.100089</td>\n",
       "      <td>-0.030996</td>\n",
       "      <td>-0.061822</td>\n",
       "      <td>-0.042931</td>\n",
       "      <td>-0.061995</td>\n",
       "      <td>-0.012649</td>\n",
       "      <td>-0.012649</td>\n",
       "      <td>-0.415412</td>\n",
       "      <td>-0.082933</td>\n",
       "      <td>-0.012649</td>\n",
       "      <td>-0.05222</td>\n",
       "      <td>-0.043856</td>\n",
       "      <td>-0.064627</td>\n",
       "      <td>-0.012649</td>\n",
       "      <td>-0.109577</td>\n",
       "      <td>-0.05222</td>\n",
       "      <td>-0.021912</td>\n",
       "      <td>-0.076108</td>\n",
       "      <td>-0.01789</td>\n",
       "      <td>-0.01789</td>\n",
       "      <td>-0.045651</td>\n",
       "      <td>-0.012649</td>\n",
       "      <td>-0.063367</td>\n",
       "      <td>-0.113136</td>\n",
       "      <td>9.798751</td>\n",
       "      <td>-0.033482</td>\n",
       "      <td>-0.021912</td>\n",
       "      <td>-0.025304</td>\n",
       "      <td>-0.033482</td>\n",
       "      <td>-0.025304</td>\n",
       "      <td>-0.01789</td>\n",
       "      <td>-0.11357</td>\n",
       "      <td>-0.028293</td>\n",
       "      <td>-0.037972</td>\n",
       "      <td>-0.055216</td>\n",
       "      <td>-0.098445</td>\n",
       "      <td>-0.01789</td>\n",
       "      <td>-0.090696</td>\n",
       "    </tr>\n",
       "    <tr>\n",
       "      <th>2</th>\n",
       "      <td>0.052560</td>\n",
       "      <td>3.824695e-01</td>\n",
       "      <td>-0.212453</td>\n",
       "      <td>-1.352335</td>\n",
       "      <td>0.547069</td>\n",
       "      <td>1.076630</td>\n",
       "      <td>-1.146945</td>\n",
       "      <td>-1.327164</td>\n",
       "      <td>-0.493472</td>\n",
       "      <td>-0.743276</td>\n",
       "      <td>-0.049045</td>\n",
       "      <td>-0.012649</td>\n",
       "      <td>-0.27009</td>\n",
       "      <td>-0.030996</td>\n",
       "      <td>-0.049045</td>\n",
       "      <td>-0.045651</td>\n",
       "      <td>-0.383369</td>\n",
       "      <td>-0.01789</td>\n",
       "      <td>-0.075037</td>\n",
       "      <td>-0.021912</td>\n",
       "      <td>-0.02541</td>\n",
       "      <td>-0.049371</td>\n",
       "      <td>-0.087967</td>\n",
       "      <td>-0.24354</td>\n",
       "      <td>-0.062082</td>\n",
       "      <td>-0.07285</td>\n",
       "      <td>-0.028293</td>\n",
       "      <td>-0.030996</td>\n",
       "      <td>-0.144584</td>\n",
       "      <td>-0.070635</td>\n",
       "      <td>-0.080251</td>\n",
       "      <td>-0.160508</td>\n",
       "      <td>-0.037972</td>\n",
       "      <td>-0.346192</td>\n",
       "      <td>-0.063367</td>\n",
       "      <td>-0.028293</td>\n",
       "      <td>-0.030996</td>\n",
       "      <td>-0.26494</td>\n",
       "      <td>-0.027721</td>\n",
       "      <td>-0.025304</td>\n",
       "      <td>-0.21776</td>\n",
       "      <td>-0.058058</td>\n",
       "      <td>-0.01789</td>\n",
       "      <td>-0.056655</td>\n",
       "      <td>-0.064627</td>\n",
       "      <td>-0.075037</td>\n",
       "      <td>-0.36812</td>\n",
       "      <td>-0.01789</td>\n",
       "      <td>-0.069288</td>\n",
       "      <td>-0.028293</td>\n",
       "      <td>-0.012649</td>\n",
       "      <td>-0.049045</td>\n",
       "      <td>-0.095929</td>\n",
       "      <td>-0.100089</td>\n",
       "      <td>-0.030996</td>\n",
       "      <td>-0.061822</td>\n",
       "      <td>-0.042931</td>\n",
       "      <td>-0.061995</td>\n",
       "      <td>-0.012649</td>\n",
       "      <td>-0.012649</td>\n",
       "      <td>-0.415412</td>\n",
       "      <td>-0.082933</td>\n",
       "      <td>-0.012649</td>\n",
       "      <td>-0.05222</td>\n",
       "      <td>-0.043856</td>\n",
       "      <td>-0.064627</td>\n",
       "      <td>-0.012649</td>\n",
       "      <td>-0.109577</td>\n",
       "      <td>-0.05222</td>\n",
       "      <td>-0.021912</td>\n",
       "      <td>-0.076108</td>\n",
       "      <td>-0.01789</td>\n",
       "      <td>-0.01789</td>\n",
       "      <td>-0.045651</td>\n",
       "      <td>-0.012649</td>\n",
       "      <td>-0.063367</td>\n",
       "      <td>-0.113136</td>\n",
       "      <td>9.798751</td>\n",
       "      <td>-0.033482</td>\n",
       "      <td>-0.021912</td>\n",
       "      <td>-0.025304</td>\n",
       "      <td>-0.033482</td>\n",
       "      <td>-0.025304</td>\n",
       "      <td>-0.01789</td>\n",
       "      <td>-0.11357</td>\n",
       "      <td>-0.028293</td>\n",
       "      <td>-0.037972</td>\n",
       "      <td>-0.055216</td>\n",
       "      <td>-0.098445</td>\n",
       "      <td>-0.01789</td>\n",
       "      <td>-0.090696</td>\n",
       "    </tr>\n",
       "    <tr>\n",
       "      <th>3</th>\n",
       "      <td>-0.246869</td>\n",
       "      <td>1.052378e-16</td>\n",
       "      <td>-0.320642</td>\n",
       "      <td>-1.471730</td>\n",
       "      <td>0.547069</td>\n",
       "      <td>1.076630</td>\n",
       "      <td>1.063822</td>\n",
       "      <td>1.057353</td>\n",
       "      <td>-1.646284</td>\n",
       "      <td>1.341873</td>\n",
       "      <td>-0.049045</td>\n",
       "      <td>-0.012649</td>\n",
       "      <td>-0.27009</td>\n",
       "      <td>-0.030996</td>\n",
       "      <td>-0.049045</td>\n",
       "      <td>-0.045651</td>\n",
       "      <td>-0.383369</td>\n",
       "      <td>-0.01789</td>\n",
       "      <td>-0.075037</td>\n",
       "      <td>-0.021912</td>\n",
       "      <td>-0.02541</td>\n",
       "      <td>-0.049371</td>\n",
       "      <td>-0.087967</td>\n",
       "      <td>-0.24354</td>\n",
       "      <td>-0.062082</td>\n",
       "      <td>-0.07285</td>\n",
       "      <td>-0.028293</td>\n",
       "      <td>-0.030996</td>\n",
       "      <td>-0.144584</td>\n",
       "      <td>-0.070635</td>\n",
       "      <td>-0.080251</td>\n",
       "      <td>-0.160508</td>\n",
       "      <td>-0.037972</td>\n",
       "      <td>-0.346192</td>\n",
       "      <td>-0.063367</td>\n",
       "      <td>-0.028293</td>\n",
       "      <td>-0.030996</td>\n",
       "      <td>-0.26494</td>\n",
       "      <td>-0.027721</td>\n",
       "      <td>-0.025304</td>\n",
       "      <td>-0.21776</td>\n",
       "      <td>-0.058058</td>\n",
       "      <td>-0.01789</td>\n",
       "      <td>-0.056655</td>\n",
       "      <td>-0.064627</td>\n",
       "      <td>-0.075037</td>\n",
       "      <td>-0.36812</td>\n",
       "      <td>-0.01789</td>\n",
       "      <td>-0.069288</td>\n",
       "      <td>-0.028293</td>\n",
       "      <td>-0.012649</td>\n",
       "      <td>-0.049045</td>\n",
       "      <td>-0.095929</td>\n",
       "      <td>-0.100089</td>\n",
       "      <td>-0.030996</td>\n",
       "      <td>-0.061822</td>\n",
       "      <td>-0.042931</td>\n",
       "      <td>-0.061995</td>\n",
       "      <td>-0.012649</td>\n",
       "      <td>-0.012649</td>\n",
       "      <td>-0.415412</td>\n",
       "      <td>-0.082933</td>\n",
       "      <td>-0.012649</td>\n",
       "      <td>-0.05222</td>\n",
       "      <td>-0.043856</td>\n",
       "      <td>-0.064627</td>\n",
       "      <td>-0.012649</td>\n",
       "      <td>-0.109577</td>\n",
       "      <td>-0.05222</td>\n",
       "      <td>-0.021912</td>\n",
       "      <td>-0.076108</td>\n",
       "      <td>-0.01789</td>\n",
       "      <td>-0.01789</td>\n",
       "      <td>-0.045651</td>\n",
       "      <td>-0.012649</td>\n",
       "      <td>-0.063367</td>\n",
       "      <td>-0.113136</td>\n",
       "      <td>9.798751</td>\n",
       "      <td>-0.033482</td>\n",
       "      <td>-0.021912</td>\n",
       "      <td>-0.025304</td>\n",
       "      <td>-0.033482</td>\n",
       "      <td>-0.025304</td>\n",
       "      <td>-0.01789</td>\n",
       "      <td>-0.11357</td>\n",
       "      <td>-0.028293</td>\n",
       "      <td>-0.037972</td>\n",
       "      <td>-0.055216</td>\n",
       "      <td>-0.098445</td>\n",
       "      <td>-0.01789</td>\n",
       "      <td>-0.090696</td>\n",
       "    </tr>\n",
       "    <tr>\n",
       "      <th>4</th>\n",
       "      <td>0.104635</td>\n",
       "      <td>4.335362e-01</td>\n",
       "      <td>-0.275020</td>\n",
       "      <td>-0.218078</td>\n",
       "      <td>0.547069</td>\n",
       "      <td>1.076630</td>\n",
       "      <td>1.379645</td>\n",
       "      <td>-1.201663</td>\n",
       "      <td>-0.493472</td>\n",
       "      <td>-1.438326</td>\n",
       "      <td>-0.049045</td>\n",
       "      <td>-0.012649</td>\n",
       "      <td>-0.27009</td>\n",
       "      <td>-0.030996</td>\n",
       "      <td>-0.049045</td>\n",
       "      <td>-0.045651</td>\n",
       "      <td>-0.383369</td>\n",
       "      <td>-0.01789</td>\n",
       "      <td>-0.075037</td>\n",
       "      <td>-0.021912</td>\n",
       "      <td>-0.02541</td>\n",
       "      <td>-0.049371</td>\n",
       "      <td>-0.087967</td>\n",
       "      <td>-0.24354</td>\n",
       "      <td>-0.062082</td>\n",
       "      <td>-0.07285</td>\n",
       "      <td>-0.028293</td>\n",
       "      <td>-0.030996</td>\n",
       "      <td>-0.144584</td>\n",
       "      <td>-0.070635</td>\n",
       "      <td>-0.080251</td>\n",
       "      <td>-0.160508</td>\n",
       "      <td>-0.037972</td>\n",
       "      <td>-0.346192</td>\n",
       "      <td>-0.063367</td>\n",
       "      <td>-0.028293</td>\n",
       "      <td>-0.030996</td>\n",
       "      <td>-0.26494</td>\n",
       "      <td>-0.027721</td>\n",
       "      <td>-0.025304</td>\n",
       "      <td>-0.21776</td>\n",
       "      <td>-0.058058</td>\n",
       "      <td>-0.01789</td>\n",
       "      <td>-0.056655</td>\n",
       "      <td>-0.064627</td>\n",
       "      <td>-0.075037</td>\n",
       "      <td>-0.36812</td>\n",
       "      <td>-0.01789</td>\n",
       "      <td>-0.069288</td>\n",
       "      <td>-0.028293</td>\n",
       "      <td>-0.012649</td>\n",
       "      <td>-0.049045</td>\n",
       "      <td>-0.095929</td>\n",
       "      <td>-0.100089</td>\n",
       "      <td>-0.030996</td>\n",
       "      <td>-0.061822</td>\n",
       "      <td>-0.042931</td>\n",
       "      <td>-0.061995</td>\n",
       "      <td>-0.012649</td>\n",
       "      <td>-0.012649</td>\n",
       "      <td>-0.415412</td>\n",
       "      <td>-0.082933</td>\n",
       "      <td>-0.012649</td>\n",
       "      <td>-0.05222</td>\n",
       "      <td>-0.043856</td>\n",
       "      <td>-0.064627</td>\n",
       "      <td>-0.012649</td>\n",
       "      <td>-0.109577</td>\n",
       "      <td>-0.05222</td>\n",
       "      <td>-0.021912</td>\n",
       "      <td>-0.076108</td>\n",
       "      <td>-0.01789</td>\n",
       "      <td>-0.01789</td>\n",
       "      <td>-0.045651</td>\n",
       "      <td>-0.012649</td>\n",
       "      <td>-0.063367</td>\n",
       "      <td>-0.113136</td>\n",
       "      <td>9.798751</td>\n",
       "      <td>-0.033482</td>\n",
       "      <td>-0.021912</td>\n",
       "      <td>-0.025304</td>\n",
       "      <td>-0.033482</td>\n",
       "      <td>-0.025304</td>\n",
       "      <td>-0.01789</td>\n",
       "      <td>-0.11357</td>\n",
       "      <td>-0.028293</td>\n",
       "      <td>-0.037972</td>\n",
       "      <td>-0.055216</td>\n",
       "      <td>-0.098445</td>\n",
       "      <td>-0.01789</td>\n",
       "      <td>-0.090696</td>\n",
       "    </tr>\n",
       "  </tbody>\n",
       "</table>\n",
       "</div>"
      ],
      "text/plain": [
       "   Amount_in_rupees  Price_in_rupees  Carpet_Area_in_sqft     Floor  \\\n",
       "0         -0.202606    -6.108617e-02            -0.333677 -1.415544   \n",
       "1         -0.056796     2.397217e-01            -0.345408  0.378898   \n",
       "2          0.052560     3.824695e-01            -0.212453 -1.352335   \n",
       "3         -0.246869     1.052378e-16            -0.320642 -1.471730   \n",
       "4          0.104635     4.335362e-01            -0.275020 -0.218078   \n",
       "\n",
       "   Transaction  Furnishing    facing  overlooking  Bathroom  Ownership  \\\n",
       "0     0.547069    1.076630  1.063822     1.057353 -1.646284   1.341873   \n",
       "1     0.547069   -0.458287 -1.146945    -1.327164 -0.493472  -0.743276   \n",
       "2     0.547069    1.076630 -1.146945    -1.327164 -0.493472  -0.743276   \n",
       "3     0.547069    1.076630  1.063822     1.057353 -1.646284   1.341873   \n",
       "4     0.547069    1.076630  1.379645    -1.201663 -0.493472  -1.438326   \n",
       "\n",
       "       agra  ahmadnagar  ahmedabad  allahabad  aurangabad  badlapur  \\\n",
       "0 -0.049045   -0.012649   -0.27009  -0.030996   -0.049045 -0.045651   \n",
       "1 -0.049045   -0.012649   -0.27009  -0.030996   -0.049045 -0.045651   \n",
       "2 -0.049045   -0.012649   -0.27009  -0.030996   -0.049045 -0.045651   \n",
       "3 -0.049045   -0.012649   -0.27009  -0.030996   -0.049045 -0.045651   \n",
       "4 -0.049045   -0.012649   -0.27009  -0.030996   -0.049045 -0.045651   \n",
       "\n",
       "   bangalore  belgaum   bhiwadi  bhiwandi   bhopal  bhubaneswar  chandigarh  \\\n",
       "0  -0.383369 -0.01789 -0.075037 -0.021912 -0.02541    -0.049371   -0.087967   \n",
       "1  -0.383369 -0.01789 -0.075037 -0.021912 -0.02541    -0.049371   -0.087967   \n",
       "2  -0.383369 -0.01789 -0.075037 -0.021912 -0.02541    -0.049371   -0.087967   \n",
       "3  -0.383369 -0.01789 -0.075037 -0.021912 -0.02541    -0.049371   -0.087967   \n",
       "4  -0.383369 -0.01789 -0.075037 -0.021912 -0.02541    -0.049371   -0.087967   \n",
       "\n",
       "   chennai  coimbatore  dehradun  durgapur  ernakulam  faridabad  ghaziabad  \\\n",
       "0 -0.24354   -0.062082  -0.07285 -0.028293  -0.030996  -0.144584  -0.070635   \n",
       "1 -0.24354   -0.062082  -0.07285 -0.028293  -0.030996  -0.144584  -0.070635   \n",
       "2 -0.24354   -0.062082  -0.07285 -0.028293  -0.030996  -0.144584  -0.070635   \n",
       "3 -0.24354   -0.062082  -0.07285 -0.028293  -0.030996  -0.144584  -0.070635   \n",
       "4 -0.24354   -0.062082  -0.07285 -0.028293  -0.030996  -0.144584  -0.070635   \n",
       "\n",
       "        goa  greater-noida    guntur   gurgaon  guwahati   gwalior  haridwar  \\\n",
       "0 -0.080251      -0.160508 -0.037972 -0.346192 -0.063367 -0.028293 -0.030996   \n",
       "1 -0.080251      -0.160508 -0.037972 -0.346192 -0.063367 -0.028293 -0.030996   \n",
       "2 -0.080251      -0.160508 -0.037972 -0.346192 -0.063367 -0.028293 -0.030996   \n",
       "3 -0.080251      -0.160508 -0.037972 -0.346192 -0.063367 -0.028293 -0.030996   \n",
       "4 -0.080251      -0.160508 -0.037972 -0.346192 -0.063367 -0.028293 -0.030996   \n",
       "\n",
       "   hyderabad    indore  jabalpur   jaipur  jamshedpur  jodhpur    kalyan  \\\n",
       "0   -0.26494 -0.027721 -0.025304 -0.21776   -0.058058 -0.01789 -0.056655   \n",
       "1   -0.26494 -0.027721 -0.025304 -0.21776   -0.058058 -0.01789 -0.056655   \n",
       "2   -0.26494 -0.027721 -0.025304 -0.21776   -0.058058 -0.01789 -0.056655   \n",
       "3   -0.26494 -0.027721 -0.025304 -0.21776   -0.058058 -0.01789 -0.056655   \n",
       "4   -0.26494 -0.027721 -0.025304 -0.21776   -0.058058 -0.01789 -0.056655   \n",
       "\n",
       "     kanpur     kochi  kolkata  kozhikode   lucknow  ludhiana   madurai  \\\n",
       "0 -0.064627 -0.075037 -0.36812   -0.01789 -0.069288 -0.028293 -0.012649   \n",
       "1 -0.064627 -0.075037 -0.36812   -0.01789 -0.069288 -0.028293 -0.012649   \n",
       "2 -0.064627 -0.075037 -0.36812   -0.01789 -0.069288 -0.028293 -0.012649   \n",
       "3 -0.064627 -0.075037 -0.36812   -0.01789 -0.069288 -0.028293 -0.012649   \n",
       "4 -0.064627 -0.075037 -0.36812   -0.01789 -0.069288 -0.028293 -0.012649   \n",
       "\n",
       "   mangalore    mohali    mumbai    mysore    nagpur    nashik  navi-mumbai  \\\n",
       "0  -0.049045 -0.095929 -0.100089 -0.030996 -0.061822 -0.042931    -0.061995   \n",
       "1  -0.049045 -0.095929 -0.100089 -0.030996 -0.061822 -0.042931    -0.061995   \n",
       "2  -0.049045 -0.095929 -0.100089 -0.030996 -0.061822 -0.042931    -0.061995   \n",
       "3  -0.049045 -0.095929 -0.100089 -0.030996 -0.061822 -0.042931    -0.061995   \n",
       "4  -0.049045 -0.095929 -0.100089 -0.030996 -0.061822 -0.042931    -0.061995   \n",
       "\n",
       "    navsari   nellore  new-delhi     noida  palakkad  palghar  panchkula  \\\n",
       "0 -0.012649 -0.012649  -0.415412 -0.082933 -0.012649 -0.05222  -0.043856   \n",
       "1 -0.012649 -0.012649  -0.415412 -0.082933 -0.012649 -0.05222  -0.043856   \n",
       "2 -0.012649 -0.012649  -0.415412 -0.082933 -0.012649 -0.05222  -0.043856   \n",
       "3 -0.012649 -0.012649  -0.415412 -0.082933 -0.012649 -0.05222  -0.043856   \n",
       "4 -0.012649 -0.012649  -0.415412 -0.082933 -0.012649 -0.05222  -0.043856   \n",
       "\n",
       "      patna  pondicherry      pune   raipur  rajahmundry    ranchi   satara  \\\n",
       "0 -0.064627    -0.012649 -0.109577 -0.05222    -0.021912 -0.076108 -0.01789   \n",
       "1 -0.064627    -0.012649 -0.109577 -0.05222    -0.021912 -0.076108 -0.01789   \n",
       "2 -0.064627    -0.012649 -0.109577 -0.05222    -0.021912 -0.076108 -0.01789   \n",
       "3 -0.064627    -0.012649 -0.109577 -0.05222    -0.021912 -0.076108 -0.01789   \n",
       "4 -0.064627    -0.012649 -0.109577 -0.05222    -0.021912 -0.076108 -0.01789   \n",
       "\n",
       "    shimla  siliguri   solapur   sonipat     surat     thane  thrissur  \\\n",
       "0 -0.01789 -0.045651 -0.012649 -0.063367 -0.113136  9.798751 -0.033482   \n",
       "1 -0.01789 -0.045651 -0.012649 -0.063367 -0.113136  9.798751 -0.033482   \n",
       "2 -0.01789 -0.045651 -0.012649 -0.063367 -0.113136  9.798751 -0.033482   \n",
       "3 -0.01789 -0.045651 -0.012649 -0.063367 -0.113136  9.798751 -0.033482   \n",
       "4 -0.01789 -0.045651 -0.012649 -0.063367 -0.113136  9.798751 -0.033482   \n",
       "\n",
       "   tirupati    trichy  trivandrum   udaipur    udupi  vadodara      vapi  \\\n",
       "0 -0.021912 -0.025304   -0.033482 -0.025304 -0.01789  -0.11357 -0.028293   \n",
       "1 -0.021912 -0.025304   -0.033482 -0.025304 -0.01789  -0.11357 -0.028293   \n",
       "2 -0.021912 -0.025304   -0.033482 -0.025304 -0.01789  -0.11357 -0.028293   \n",
       "3 -0.021912 -0.025304   -0.033482 -0.025304 -0.01789  -0.11357 -0.028293   \n",
       "4 -0.021912 -0.025304   -0.033482 -0.025304 -0.01789  -0.11357 -0.028293   \n",
       "\n",
       "   varanasi  vijayawada  visakhapatnam  vrindavan  zirakpur  \n",
       "0 -0.037972   -0.055216      -0.098445   -0.01789 -0.090696  \n",
       "1 -0.037972   -0.055216      -0.098445   -0.01789 -0.090696  \n",
       "2 -0.037972   -0.055216      -0.098445   -0.01789 -0.090696  \n",
       "3 -0.037972   -0.055216      -0.098445   -0.01789 -0.090696  \n",
       "4 -0.037972   -0.055216      -0.098445   -0.01789 -0.090696  "
      ]
     },
     "execution_count": 67,
     "metadata": {},
     "output_type": "execute_result"
    }
   ],
   "source": [
    "df.head()"
   ]
  },
  {
   "cell_type": "markdown",
   "id": "1557af82",
   "metadata": {
    "papermill": {
     "duration": 0.042335,
     "end_time": "2023-09-08T08:44:48.683792",
     "exception": false,
     "start_time": "2023-09-08T08:44:48.641457",
     "status": "completed"
    },
    "tags": []
   },
   "source": [
    "# *Spliting* the Data"
   ]
  },
  {
   "cell_type": "code",
   "execution_count": 68,
   "id": "801f466e",
   "metadata": {
    "execution": {
     "iopub.execute_input": "2023-09-08T08:44:48.769807Z",
     "iopub.status.busy": "2023-09-08T08:44:48.769489Z",
     "iopub.status.idle": "2023-09-08T08:44:48.815569Z",
     "shell.execute_reply": "2023-09-08T08:44:48.814367Z"
    },
    "papermill": {
     "duration": 0.091995,
     "end_time": "2023-09-08T08:44:48.817642",
     "exception": false,
     "start_time": "2023-09-08T08:44:48.725647",
     "status": "completed"
    },
    "tags": []
   },
   "outputs": [],
   "source": [
    "X = df.drop(columns=['Amount_in_rupees'])\n",
    "y = df['Amount_in_rupees']"
   ]
  },
  {
   "cell_type": "markdown",
   "id": "83819dc0",
   "metadata": {
    "papermill": {
     "duration": 0.042291,
     "end_time": "2023-09-08T08:44:48.905754",
     "exception": false,
     "start_time": "2023-09-08T08:44:48.863463",
     "status": "completed"
    },
    "tags": []
   },
   "source": [
    "# Train Test Split"
   ]
  },
  {
   "cell_type": "code",
   "execution_count": 69,
   "id": "d6238aae",
   "metadata": {
    "execution": {
     "iopub.execute_input": "2023-09-08T08:44:48.992125Z",
     "iopub.status.busy": "2023-09-08T08:44:48.991797Z",
     "iopub.status.idle": "2023-09-08T08:44:49.209759Z",
     "shell.execute_reply": "2023-09-08T08:44:49.208728Z"
    },
    "papermill": {
     "duration": 0.263869,
     "end_time": "2023-09-08T08:44:49.212416",
     "exception": false,
     "start_time": "2023-09-08T08:44:48.948547",
     "status": "completed"
    },
    "tags": []
   },
   "outputs": [],
   "source": [
    "from sklearn.model_selection import train_test_split\n",
    "X_train, X_test, y_train, y_test = train_test_split(X, y, test_size=0.20, random_state=42)"
   ]
  },
  {
   "cell_type": "markdown",
   "id": "62a07ef0",
   "metadata": {
    "papermill": {
     "duration": 0.043987,
     "end_time": "2023-09-08T08:44:49.300810",
     "exception": false,
     "start_time": "2023-09-08T08:44:49.256823",
     "status": "completed"
    },
    "tags": []
   },
   "source": [
    "# MODEL BUILDING"
   ]
  },
  {
   "cell_type": "code",
   "execution_count": 70,
   "id": "de607628",
   "metadata": {
    "execution": {
     "iopub.execute_input": "2023-09-08T08:44:49.387119Z",
     "iopub.status.busy": "2023-09-08T08:44:49.386771Z",
     "iopub.status.idle": "2023-09-08T08:44:49.833626Z",
     "shell.execute_reply": "2023-09-08T08:44:49.832665Z"
    },
    "papermill": {
     "duration": 0.493137,
     "end_time": "2023-09-08T08:44:49.836048",
     "exception": false,
     "start_time": "2023-09-08T08:44:49.342911",
     "status": "completed"
    },
    "tags": []
   },
   "outputs": [],
   "source": [
    "from sklearn.linear_model import LinearRegression\n",
    "from sklearn.svm import SVR\n",
    "from sklearn.tree import DecisionTreeRegressor\n",
    "from sklearn.ensemble import RandomForestRegressor\n",
    "from sklearn.neighbors import KNeighborsRegressor\n",
    "from sklearn.ensemble import GradientBoostingRegressor\n",
    "from xgboost import XGBRegressor\n",
    "from sklearn.metrics import r2_score, mean_absolute_error, mean_squared_error"
   ]
  },
  {
   "cell_type": "markdown",
   "id": "9fcd1456",
   "metadata": {
    "papermill": {
     "duration": 0.042478,
     "end_time": "2023-09-08T08:44:49.921655",
     "exception": false,
     "start_time": "2023-09-08T08:44:49.879177",
     "status": "completed"
    },
    "tags": []
   },
   "source": [
    "# Model  Prediction and Evualation"
   ]
  },
  {
   "cell_type": "code",
   "execution_count": 71,
   "id": "d5cea9d6",
   "metadata": {
    "execution": {
     "iopub.execute_input": "2023-09-08T08:44:50.007930Z",
     "iopub.status.busy": "2023-09-08T08:44:50.006989Z",
     "iopub.status.idle": "2023-09-08T11:43:52.211963Z",
     "shell.execute_reply": "2023-09-08T11:43:52.211031Z"
    },
    "papermill": {
     "duration": 10742.294232,
     "end_time": "2023-09-08T11:43:52.257798",
     "exception": false,
     "start_time": "2023-09-08T08:44:49.963566",
     "status": "completed"
    },
    "tags": []
   },
   "outputs": [
    {
     "name": "stdout",
     "output_type": "stream",
     "text": [
      "Linear Regression:\n",
      "R-squared: 0.90\n",
      "Mean Absolute Error (MAE): 0.11\n",
      "Root Mean Squared Error (RMSE): 0.24\n",
      "Accuracy of Model:0.90\n",
      "****************************************\n",
      "Decision Tree Regressor:\n",
      "R-squared: 0.94\n",
      "Mean Absolute Error (MAE): 0.02\n",
      "Root Mean Squared Error (RMSE): 0.18\n",
      "Accuracy of Model:0.94\n",
      "****************************************\n",
      "Random Forest:\n",
      "R-squared: 0.70\n",
      "Mean Absolute Error (MAE): 0.02\n",
      "Root Mean Squared Error (RMSE): 0.42\n",
      "Accuracy of Model:0.70\n",
      "****************************************\n",
      "Knr:\n",
      "R-squared: 0.93\n",
      "Mean Absolute Error (MAE): 0.04\n",
      "Root Mean Squared Error (RMSE): 0.21\n",
      "Accuracy of Model:0.93\n",
      "****************************************\n",
      "Gradient Boosting:\n",
      "R-squared: 0.75\n",
      "Mean Absolute Error (MAE): 0.05\n",
      "Root Mean Squared Error (RMSE): 0.38\n",
      "Accuracy of Model:0.75\n",
      "****************************************\n",
      "XGBRegressor:\n",
      "R-squared: 0.21\n",
      "Mean Absolute Error (MAE): 0.03\n",
      "Root Mean Squared Error (RMSE): 0.69\n",
      "Accuracy of Model:0.21\n",
      "****************************************\n",
      "Support Vector Regressor:\n",
      "R-squared: 0.18\n",
      "Mean Absolute Error (MAE): 0.07\n",
      "Root Mean Squared Error (RMSE): 0.70\n",
      "Accuracy of Model:0.18\n",
      "****************************************\n"
     ]
    }
   ],
   "source": [
    "models = {\n",
    "    'Linear Regression': LinearRegression(),\n",
    "    'Decision Tree Regressor': DecisionTreeRegressor(),\n",
    "    'Random Forest': RandomForestRegressor(random_state=42),\n",
    "    'Knr': KNeighborsRegressor(),\n",
    "    'Gradient Boosting': GradientBoostingRegressor(random_state=42),\n",
    "    'XGBRegressor': XGBRegressor(),\n",
    "    'Support Vector Regressor': SVR()\n",
    "}\n",
    "\n",
    "for model_name, model in models.items():\n",
    "    model.fit(X_train, y_train)\n",
    "    y_pred = model.predict(X_test)\n",
    "\n",
    "    # Evaluate the model\n",
    "    r2 = r2_score(y_test, y_pred)\n",
    "    mae = mean_absolute_error(y_test, y_pred)\n",
    "    rmse = np.sqrt(mean_squared_error(y_test, y_pred))\n",
    "    scoree = model.score(X_test,y_test)\n",
    "\n",
    "    print(f'{model_name}:')\n",
    "    print(f'R-squared: {r2:.2f}')\n",
    "    print(f'Mean Absolute Error (MAE): {mae:.2f}')\n",
    "    print(f'Root Mean Squared Error (RMSE): {rmse:.2f}')\n",
    "    print(f'Accuracy of Model:{scoree:.2f}')\n",
    "    print('****************************************')"
   ]
  },
  {
   "cell_type": "markdown",
   "id": "aa915518",
   "metadata": {
    "papermill": {
     "duration": 0.042826,
     "end_time": "2023-09-08T11:43:52.342687",
     "exception": false,
     "start_time": "2023-09-08T11:43:52.299861",
     "status": "completed"
    },
    "tags": []
   },
   "source": [
    "# Decision Tree Regressor is Best Regression Model for this Dataset"
   ]
  }
 ],
 "kernelspec": {
  "display_name": "Python 3",
  "language": "python",
  "name": "python3"
 },
 "language_info": {
  "codemirror_mode": {
   "name": "ipython",
   "version": 3
  },
  "file_extension": ".py",
  "mimetype": "text/x-python",
  "name": "python",
  "nbconvert_exporter": "python",
  "pygments_lexer": "ipython3",
  "version": "3.6.4"
 },
 "metadata": {
  "kernelspec": {
   "display_name": "Python 3",
   "language": "python",
   "name": "python3"
  },
  "language_info": {
   "codemirror_mode": {
    "name": "ipython",
    "version": 3
   },
   "file_extension": ".py",
   "mimetype": "text/x-python",
   "name": "python",
   "nbconvert_exporter": "python",
   "pygments_lexer": "ipython3",
   "version": "3.10.12"
  },
  "papermill": {
   "default_parameters": {},
   "duration": 10793.987431,
   "end_time": "2023-09-08T11:43:53.025450",
   "environment_variables": {},
   "exception": null,
   "input_path": "__notebook__.ipynb",
   "output_path": "__notebook__.ipynb",
   "parameters": {},
   "start_time": "2023-09-08T08:43:59.038019",
   "version": "2.4.0"
  }
 },
 "nbformat": 4,
 "nbformat_minor": 5
}
